{
 "cells": [
  {
   "cell_type": "code",
   "execution_count": 2,
   "metadata": {},
   "outputs": [
    {
     "name": "stderr",
     "output_type": "stream",
     "text": [
      "Using TensorFlow backend.\n"
     ]
    }
   ],
   "source": [
    "import keras\n",
    "from keras import backend as K\n",
    "import numpy as np\n",
    "from keras.preprocessing import image\n",
    "import matplotlib.pyplot as plt\n",
    "from mpl_toolkits.mplot3d import axes3d\n",
    "%matplotlib inline\n",
    "from IPython.display import display\n",
    "\n",
    "import os, sys"
   ]
  },
  {
   "cell_type": "code",
   "execution_count": 35,
   "metadata": {},
   "outputs": [
    {
     "name": "stdout",
     "output_type": "stream",
     "text": [
      "(356, 100, 100, 3)\n",
      "(271, 100, 100, 3)\n",
      "(349, 100, 100, 3)\n",
      "(357, 100, 100, 3)\n"
     ]
    }
   ],
   "source": [
    "def grab_image(img_path):\n",
    "    #path = dirs+'/'+img_path\n",
    "    img = image.load_img(img_path, target_size=(100, 100))\n",
    "    x = image.img_to_array(img)\n",
    "    x = np.expand_dims(x, axis=0)\n",
    "    return x\n",
    "\n",
    "# Load image data\n",
    "#imgdat_glass = np.concatenate([grab_image('./TrashNet-Dataset/%d.jpg'%(i) for i in range(356))])\n",
    "imgdat_glass = np.concatenate([grab_image('./TrashNet-Dataset/%d.jpg'%(i)) for i in range(356)])\n",
    "imgdat_plastic = np.concatenate([grab_image('./TrashNet-Dataset/%d.jpg'%(i)) for i in range(356,627)])\n",
    "imgdat_cardboard = np.concatenate([grab_image('./TrashNet-Dataset/%d.jpg'%(i)) for i in range(627,976)])\n",
    "imgdat_can = np.concatenate([grab_image('./TrashNet-Dataset/%d.jpg'%(i)) for i in range(976,1333)])\n",
    "#imgdat_plastic = np.load('TrashNet-Dataset/%d.jpg'%(i) for i in range(356,627))\n",
    "#imgdat_cardboard = np.load('TrashNet-Dataset/%d.jpg'%(i) for i in range(627,976))\n",
    "#imgdat_can = np.load('TrashNet-Dataset/%d.jpg'%(i) for i in range(976,1333))\n",
    "\n",
    "# Make sure the data loaded correctly\n",
    "print(imgdat_glass.shape)\n",
    "print(imgdat_plastic.shape)\n",
    "print(imgdat_cardboard.shape)\n",
    "print(imgdat_can.shape)                           \n",
    "                           \n",
    "#x_train = np.concatenate([grab_image('./TrashNet-Dataset/%d.jpg'%(i)) for i in range(1333)])\n",
    "#x_train = x_train.astype('float32').reshape(x_train.shape)\n",
    "#x_train /= 100\n",
    "#x_train.shape"
   ]
  },
  {
   "cell_type": "code",
   "execution_count": 56,
   "metadata": {},
   "outputs": [
    {
     "data": {
      "text/plain": [
       "(1333, 4)"
      ]
     },
     "execution_count": 56,
     "metadata": {},
     "output_type": "execute_result"
    }
   ],
   "source": [
    "with open('labels.csv', 'r', encoding = 'utf-8-sig') as f:\n",
    "    labels = f.read().split(',')\n",
    "Y = keras.utils.to_categorical(labels)\n",
    "Y.shape"
   ]
  },
  {
   "cell_type": "code",
   "execution_count": 38,
   "metadata": {},
   "outputs": [
    {
     "name": "stdout",
     "output_type": "stream",
     "text": [
      "X_train shape:  (665, 100, 100, 3)\n",
      "Y_train shape:  (665, 4)\n",
      "X_test shape:  (668, 100, 100, 3)\n",
      "Y_test shape:  (668, 4)\n",
      "Combined X:  1333\n"
     ]
    }
   ],
   "source": [
    "# Concatenate image data for input to network\n",
    "#X = np.concatenate((imgdat_glass, imgdat_paper, imgdat_cardboard, \n",
    "#                   imgdat_plastic, imgdat_metal, imgdat_trash))\n",
    "\n",
    "\n",
    "# Split labels up by category\n",
    "imgdat_lens = [imgdat_glass.shape[0], imgdat_plastic.shape[0], imgdat_cardboard.shape[0],\n",
    "               imgdat_can.shape[0]]\n",
    "Y_categories = []\n",
    "index_start = 0\n",
    "for imgdat_len in imgdat_lens:\n",
    "    index_end = index_start + imgdat_len\n",
    "    Y_categories = Y_categories + [Y[index_start : index_end]]\n",
    "    index_start = index_end\n",
    "\n",
    "# Shuffle all image data\n",
    "imgdat_glass = imgdat_glass[np.random.permutation(len(imgdat_glass))]\n",
    "imgdat_plastic = imgdat_plastic[np.random.permutation(len(imgdat_plastic))]\n",
    "imgdat_cardboard = imgdat_cardboard[np.random.permutation(len(imgdat_cardboard))]\n",
    "imgdat_can = imgdat_can[np.random.permutation(len(imgdat_can))]\n",
    "\n",
    "# Split image categories into training and testing sets\n",
    "def getHalfLen(img_set):\n",
    "    return int(len(img_set) / 2)\n",
    "\n",
    "training_glass = imgdat_glass[ : getHalfLen(imgdat_glass)]\n",
    "training_glass_labels = Y_categories[0][ : getHalfLen(Y_categories[0])]\n",
    "training_plastic = imgdat_plastic[ : getHalfLen(imgdat_plastic)]\n",
    "training_plastic_labels = Y_categories[1][ : getHalfLen(Y_categories[1])]\n",
    "training_cardboard = imgdat_cardboard[ : getHalfLen(imgdat_cardboard)]\n",
    "training_cardboard_labels = Y_categories[2][ : getHalfLen(Y_categories[2])]\n",
    "training_can = imgdat_can[ : getHalfLen(imgdat_can)]\n",
    "training_can_labels = Y_categories[3][ : getHalfLen(Y_categories[3])]\n",
    "\n",
    "testing_glass = imgdat_glass[getHalfLen(imgdat_glass) : ]\n",
    "testing_glass_labels = Y_categories[0][getHalfLen(Y_categories[0]) : ]\n",
    "testing_plastic = imgdat_plastic[getHalfLen(imgdat_plastic) : ]\n",
    "testing_plastic_labels = Y_categories[1][getHalfLen(Y_categories[1]) : ]\n",
    "testing_cardboard = imgdat_cardboard[getHalfLen(imgdat_cardboard) : ]\n",
    "testing_cardboard_labels = Y_categories[2][getHalfLen(Y_categories[2]) : ]\n",
    "testing_can = imgdat_can[getHalfLen(imgdat_can) : ]\n",
    "testing_can_labels = Y_categories[3][getHalfLen(Y_categories[3]) : ]\n",
    "\n",
    "# Concatenate into training and testing sets\n",
    "X_train = np.concatenate((training_glass, training_plastic, training_cardboard,\n",
    "                          training_can))\n",
    "Y_train = np.concatenate((training_glass_labels, training_plastic_labels, training_cardboard_labels,\n",
    "                          training_can_labels))\n",
    "\n",
    "X_test = np.concatenate((testing_glass, testing_plastic, testing_cardboard,\n",
    "                         testing_can))\n",
    "Y_test = np.concatenate((testing_glass_labels, testing_plastic_labels, testing_cardboard_labels,\n",
    "                         testing_can_labels))\n",
    "\n",
    "# Shuffle training and testing sets\n",
    "permute = np.random.permutation(len(X_train))\n",
    "X_train = X_train[permute]\n",
    "Y_train = Y_train[permute]\n",
    "\n",
    "permute = np.random.permutation(len(X_test))\n",
    "X_test = X_test[permute]\n",
    "Y_test = Y_test[permute]\n",
    "\n",
    "print('X_train shape: ', X_train.shape)\n",
    "print('Y_train shape: ', Y_train.shape)\n",
    "print('X_test shape: ', X_test.shape)\n",
    "print('Y_test shape: ', Y_test.shape)\n",
    "print('Combined X: ', X_train.shape[0] + X_test.shape[0])"
   ]
  },
  {
   "cell_type": "code",
   "execution_count": 42,
   "metadata": {},
   "outputs": [],
   "source": [
    "# Mean-center all image data\n",
    "#X = (X - X.mean()) / X.std()\n",
    "X_train = (X_train - X_train.mean()) / X_train.std()\n",
    "X_test = (X_test - X_test.mean()) / X_test.std()"
   ]
  },
  {
   "cell_type": "code",
   "execution_count": 48,
   "metadata": {},
   "outputs": [
    {
     "name": "stdout",
     "output_type": "stream",
     "text": [
      "X shape: (1333, 100, 100, 3)\n",
      "Y shape: (1333, 4)\n",
      "X_train shape: (665, 100, 100, 3)\n",
      "X_test shape: (668, 100, 100, 3)\n",
      "Y_train shape: (665, 4)\n",
      "Y_test shape: (668, 4)\n",
      "X_train + X_test size: 1333\n",
      "Y_train + Y_test size: 1333\n"
     ]
    }
   ],
   "source": [
    "# We'll shuffle these categories separately so that we can ensure both\n",
    "# training and testing sets have some images from each category.\n",
    "import random\n",
    "# Concatenate image data for input to network\n",
    "X = np.concatenate((imgdat_glass, imgdat_plastic, imgdat_cardboard, \n",
    "                   imgdat_can))\n",
    "\n",
    "size = 100\n",
    "\n",
    "imgdat_lens = [imgdat_glass.shape[0], imgdat_plastic.shape[0], imgdat_cardboard.shape[0],\n",
    "               imgdat_can.shape[0]]\n",
    "X_categories = []\n",
    "Y_categories = []\n",
    "\n",
    "index_start = 0\n",
    "for imgdat_len in imgdat_lens:\n",
    "    index_end = index_start + imgdat_len\n",
    "    X_categories = X_categories + [X[index_start : index_end]]\n",
    "    Y_categories = Y_categories + [Y[index_start : index_end]]\n",
    "    index_start = index_end\n",
    "    \n",
    "X_train = np.array([])\n",
    "X_test = np.array([])\n",
    "Y_train = np.array([])\n",
    "Y_test = np.array([])\n",
    "\n",
    "X_train.shape = (0, size, size, 3)\n",
    "X_test.shape = (0, size, size, 3)\n",
    "Y_train.shape = (0, 4)\n",
    "Y_test.shape = (0, 4)\n",
    "\n",
    "# Shuffle both X and Y\n",
    "for i in range(len(X_categories)):\n",
    "    for j in range(X_categories[i].shape[0]):\n",
    "        randIndex = random.randint(0, X_categories[i].shape[0] - 1)\n",
    "\n",
    "        # Swap X\n",
    "        tempX = X_categories[i][j]\n",
    "        X_categories[i][j] = X_categories[i][randIndex]\n",
    "        X_categories[i][randIndex] = tempX\n",
    "\n",
    "        # Don't actually have to swap Y since we'd just be shuffling labels in each\n",
    "        # category, meaning we'd have essentially the same arrangement we started with.\n",
    "        # Swap Y\n",
    "        #tempY = Y_categories[i][j]\n",
    "        #Y_categories[i][j] = Y_categories[i][randIndex]\n",
    "        #Y_categories[i][randIndex] = tempY\n",
    "    \n",
    "    # Split the shuffled categories equally into training and testing sets\n",
    "    half = int(X_categories[i].shape[0] / 2)\n",
    "    X_train = np.concatenate((X_train, X_categories[i][0 : half]))\n",
    "    X_test = np.concatenate((X_test, X_categories[i][half : ]))\n",
    "    Y_train = np.concatenate((Y_train, Y_categories[i][0 : half]))\n",
    "    Y_test = np.concatenate((Y_test, Y_categories[i][half : ]))\n",
    "    \n",
    "print(\"X shape: \" + str(X.shape))\n",
    "print(\"Y shape: \" + str(Y.shape))\n",
    "print(\"X_train shape: \" + str(X_train.shape))\n",
    "print(\"X_test shape: \" + str(X_test.shape))\n",
    "print(\"Y_train shape: \" + str(Y_train.shape))\n",
    "print(\"Y_test shape: \" + str(Y_test.shape))\n",
    "print(\"X_train + X_test size: \" + str(X_train.shape[0] + X_test.shape[0]))\n",
    "print(\"Y_train + Y_test size: \" + str(Y_train.shape[0] + Y_test.shape[0]))"
   ]
  },
  {
   "cell_type": "code",
   "execution_count": 60,
   "metadata": {},
   "outputs": [
    {
     "name": "stdout",
     "output_type": "stream",
     "text": [
      "_________________________________________________________________\n",
      "Layer (type)                 Output Shape              Param #   \n",
      "=================================================================\n",
      "conv2d_21 (Conv2D)           (None, 100, 100, 24)      96        \n",
      "_________________________________________________________________\n",
      "conv2d_22 (Conv2D)           (None, 49, 49, 24)        5208      \n",
      "_________________________________________________________________\n",
      "conv2d_23 (Conv2D)           (None, 49, 49, 32)        800       \n",
      "_________________________________________________________________\n",
      "batch_normalization_5 (Batch (None, 49, 49, 32)        128       \n",
      "_________________________________________________________________\n",
      "spatial_dropout2d_5 (Spatial (None, 49, 49, 32)        0         \n",
      "_________________________________________________________________\n",
      "max_pooling2d_9 (MaxPooling2 (None, 24, 24, 32)        0         \n",
      "_________________________________________________________________\n",
      "flatten_9 (Flatten)          (None, 18432)             0         \n",
      "_________________________________________________________________\n",
      "dropout_13 (Dropout)         (None, 18432)             0         \n",
      "_________________________________________________________________\n",
      "dense_17 (Dense)             (None, 4)                 73732     \n",
      "=================================================================\n",
      "Total params: 79,964\n",
      "Trainable params: 79,900\n",
      "Non-trainable params: 64\n",
      "_________________________________________________________________\n"
     ]
    }
   ],
   "source": [
    "model = keras.Sequential()\n",
    "\n",
    "# Bottleneck to keep parameters low\n",
    "model.add(keras.layers.Conv2D(24, kernel_size = (1, 1), # squeeze\n",
    "                              activation = 'relu',\n",
    "                              bias_initializer = keras.initializers.RandomUniform(minval = 0.001, maxval = 0.4, seed = None),\n",
    "                              kernel_initializer = keras.initializers.RandomUniform(minval = 0.001, maxval = 0.4, seed = None),\n",
    "                              input_shape = [100, 100, 3]))\n",
    "\n",
    "model.add(keras.layers.Conv2D(24, kernel_size = (3, 3), # map \n",
    "                              strides = (2, 2),\n",
    "                              activation = 'relu',\n",
    "                              bias_initializer = keras.initializers.RandomUniform(minval = 0.001, maxval = 0.4, seed = None),\n",
    "                              kernel_initializer = keras.initializers.RandomUniform(minval = 0.001, maxval = 0.4, seed = None)))\n",
    "\n",
    "model.add(keras.layers.Conv2D(32, kernel_size = (1, 1), # expand\n",
    "                             activation = 'relu',\n",
    "                             bias_initializer = keras.initializers.RandomUniform(minval = 0.001, maxval = 0.4, seed = None), \n",
    "                             kernel_initializer = keras.initializers.RandomUniform(minval = 0.001, maxval = 0.4, seed = None)))\n",
    "model.add(keras.layers.BatchNormalization(momentum = 0.99))\n",
    "\n",
    "model.add(keras.layers.SpatialDropout2D(rate = 0.25))\n",
    "model.add(keras.layers.MaxPooling2D(pool_size = (2, 2)))\n",
    "\n",
    "model.add(keras.layers.Flatten())\n",
    "#model.add(keras.layers.Dense(Y.shape[1] * 2, activation = 'tanh'))\n",
    "model.add(keras.layers.Dropout(0.1))\n",
    "model.add(keras.layers.Dense(Y.shape[1], activation = 'softmax'))\n",
    "\n",
    "model.compile(loss = keras.losses.categorical_crossentropy,\n",
    "             optimizer = keras.optimizers.Adam(lr = 0.0001, amsgrad = True),\n",
    "             metrics = ['accuracy'])\n",
    "\n",
    "model.summary()"
   ]
  },
  {
   "cell_type": "code",
   "execution_count": 61,
   "metadata": {},
   "outputs": [
    {
     "data": {
      "image/svg+xml": [
       "<svg height=\"702pt\" viewBox=\"0.00 0.00 268.00 702.00\" width=\"268pt\" xmlns=\"http://www.w3.org/2000/svg\" xmlns:xlink=\"http://www.w3.org/1999/xlink\">\n",
       "<g class=\"graph\" id=\"graph0\" transform=\"scale(1 1) rotate(0) translate(4 698)\">\n",
       "<title>G</title>\n",
       "<polygon fill=\"white\" points=\"-4,4 -4,-698 264,-698 264,4 -4,4\" stroke=\"none\"/>\n",
       "<!-- 140358898833560 -->\n",
       "<g class=\"node\" id=\"node1\"><title>140358898833560</title>\n",
       "<polygon fill=\"none\" points=\"65,-584.5 65,-620.5 195,-620.5 195,-584.5 65,-584.5\" stroke=\"black\"/>\n",
       "<text font-family=\"Times,serif\" font-size=\"14.00\" text-anchor=\"middle\" x=\"130\" y=\"-598.8\">conv2d_21: Conv2D</text>\n",
       "</g>\n",
       "<!-- 140361437052768 -->\n",
       "<g class=\"node\" id=\"node2\"><title>140361437052768</title>\n",
       "<polygon fill=\"none\" points=\"65,-511.5 65,-547.5 195,-547.5 195,-511.5 65,-511.5\" stroke=\"black\"/>\n",
       "<text font-family=\"Times,serif\" font-size=\"14.00\" text-anchor=\"middle\" x=\"130\" y=\"-525.8\">conv2d_22: Conv2D</text>\n",
       "</g>\n",
       "<!-- 140358898833560&#45;&gt;140361437052768 -->\n",
       "<g class=\"edge\" id=\"edge2\"><title>140358898833560-&gt;140361437052768</title>\n",
       "<path d=\"M130,-584.313C130,-576.289 130,-566.547 130,-557.569\" fill=\"none\" stroke=\"black\"/>\n",
       "<polygon fill=\"black\" points=\"133.5,-557.529 130,-547.529 126.5,-557.529 133.5,-557.529\" stroke=\"black\"/>\n",
       "</g>\n",
       "<!-- 140358898375312 -->\n",
       "<g class=\"node\" id=\"node3\"><title>140358898375312</title>\n",
       "<polygon fill=\"none\" points=\"65,-438.5 65,-474.5 195,-474.5 195,-438.5 65,-438.5\" stroke=\"black\"/>\n",
       "<text font-family=\"Times,serif\" font-size=\"14.00\" text-anchor=\"middle\" x=\"130\" y=\"-452.8\">conv2d_23: Conv2D</text>\n",
       "</g>\n",
       "<!-- 140361437052768&#45;&gt;140358898375312 -->\n",
       "<g class=\"edge\" id=\"edge3\"><title>140361437052768-&gt;140358898375312</title>\n",
       "<path d=\"M130,-511.313C130,-503.289 130,-493.547 130,-484.569\" fill=\"none\" stroke=\"black\"/>\n",
       "<polygon fill=\"black\" points=\"133.5,-484.529 130,-474.529 126.5,-484.529 133.5,-484.529\" stroke=\"black\"/>\n",
       "</g>\n",
       "<!-- 140358898373688 -->\n",
       "<g class=\"node\" id=\"node4\"><title>140358898373688</title>\n",
       "<polygon fill=\"none\" points=\"0,-365.5 0,-401.5 260,-401.5 260,-365.5 0,-365.5\" stroke=\"black\"/>\n",
       "<text font-family=\"Times,serif\" font-size=\"14.00\" text-anchor=\"middle\" x=\"130\" y=\"-379.8\">batch_normalization_5: BatchNormalization</text>\n",
       "</g>\n",
       "<!-- 140358898375312&#45;&gt;140358898373688 -->\n",
       "<g class=\"edge\" id=\"edge4\"><title>140358898375312-&gt;140358898373688</title>\n",
       "<path d=\"M130,-438.313C130,-430.289 130,-420.547 130,-411.569\" fill=\"none\" stroke=\"black\"/>\n",
       "<polygon fill=\"black\" points=\"133.5,-411.529 130,-401.529 126.5,-411.529 133.5,-411.529\" stroke=\"black\"/>\n",
       "</g>\n",
       "<!-- 140358898502512 -->\n",
       "<g class=\"node\" id=\"node5\"><title>140358898502512</title>\n",
       "<polygon fill=\"none\" points=\"13,-292.5 13,-328.5 247,-328.5 247,-292.5 13,-292.5\" stroke=\"black\"/>\n",
       "<text font-family=\"Times,serif\" font-size=\"14.00\" text-anchor=\"middle\" x=\"130\" y=\"-306.8\">spatial_dropout2d_5: SpatialDropout2D</text>\n",
       "</g>\n",
       "<!-- 140358898373688&#45;&gt;140358898502512 -->\n",
       "<g class=\"edge\" id=\"edge5\"><title>140358898373688-&gt;140358898502512</title>\n",
       "<path d=\"M130,-365.313C130,-357.289 130,-347.547 130,-338.569\" fill=\"none\" stroke=\"black\"/>\n",
       "<polygon fill=\"black\" points=\"133.5,-338.529 130,-328.529 126.5,-338.529 133.5,-338.529\" stroke=\"black\"/>\n",
       "</g>\n",
       "<!-- 140358898596048 -->\n",
       "<g class=\"node\" id=\"node6\"><title>140358898596048</title>\n",
       "<polygon fill=\"none\" points=\"26.5,-219.5 26.5,-255.5 233.5,-255.5 233.5,-219.5 26.5,-219.5\" stroke=\"black\"/>\n",
       "<text font-family=\"Times,serif\" font-size=\"14.00\" text-anchor=\"middle\" x=\"130\" y=\"-233.8\">max_pooling2d_9: MaxPooling2D</text>\n",
       "</g>\n",
       "<!-- 140358898502512&#45;&gt;140358898596048 -->\n",
       "<g class=\"edge\" id=\"edge6\"><title>140358898502512-&gt;140358898596048</title>\n",
       "<path d=\"M130,-292.313C130,-284.289 130,-274.547 130,-265.569\" fill=\"none\" stroke=\"black\"/>\n",
       "<polygon fill=\"black\" points=\"133.5,-265.529 130,-255.529 126.5,-265.529 133.5,-265.529\" stroke=\"black\"/>\n",
       "</g>\n",
       "<!-- 140358898238744 -->\n",
       "<g class=\"node\" id=\"node7\"><title>140358898238744</title>\n",
       "<polygon fill=\"none\" points=\"75,-146.5 75,-182.5 185,-182.5 185,-146.5 75,-146.5\" stroke=\"black\"/>\n",
       "<text font-family=\"Times,serif\" font-size=\"14.00\" text-anchor=\"middle\" x=\"130\" y=\"-160.8\">flatten_9: Flatten</text>\n",
       "</g>\n",
       "<!-- 140358898596048&#45;&gt;140358898238744 -->\n",
       "<g class=\"edge\" id=\"edge7\"><title>140358898596048-&gt;140358898238744</title>\n",
       "<path d=\"M130,-219.313C130,-211.289 130,-201.547 130,-192.569\" fill=\"none\" stroke=\"black\"/>\n",
       "<polygon fill=\"black\" points=\"133.5,-192.529 130,-182.529 126.5,-192.529 133.5,-192.529\" stroke=\"black\"/>\n",
       "</g>\n",
       "<!-- 140358895563664 -->\n",
       "<g class=\"node\" id=\"node8\"><title>140358895563664</title>\n",
       "<polygon fill=\"none\" points=\"64.5,-73.5 64.5,-109.5 195.5,-109.5 195.5,-73.5 64.5,-73.5\" stroke=\"black\"/>\n",
       "<text font-family=\"Times,serif\" font-size=\"14.00\" text-anchor=\"middle\" x=\"130\" y=\"-87.8\">dropout_13: Dropout</text>\n",
       "</g>\n",
       "<!-- 140358898238744&#45;&gt;140358895563664 -->\n",
       "<g class=\"edge\" id=\"edge8\"><title>140358898238744-&gt;140358895563664</title>\n",
       "<path d=\"M130,-146.313C130,-138.289 130,-128.547 130,-119.569\" fill=\"none\" stroke=\"black\"/>\n",
       "<polygon fill=\"black\" points=\"133.5,-119.529 130,-109.529 126.5,-119.529 133.5,-119.529\" stroke=\"black\"/>\n",
       "</g>\n",
       "<!-- 140358894521368 -->\n",
       "<g class=\"node\" id=\"node9\"><title>140358894521368</title>\n",
       "<polygon fill=\"none\" points=\"75.5,-0.5 75.5,-36.5 184.5,-36.5 184.5,-0.5 75.5,-0.5\" stroke=\"black\"/>\n",
       "<text font-family=\"Times,serif\" font-size=\"14.00\" text-anchor=\"middle\" x=\"130\" y=\"-14.8\">dense_17: Dense</text>\n",
       "</g>\n",
       "<!-- 140358895563664&#45;&gt;140358894521368 -->\n",
       "<g class=\"edge\" id=\"edge9\"><title>140358895563664-&gt;140358894521368</title>\n",
       "<path d=\"M130,-73.3129C130,-65.2895 130,-55.5475 130,-46.5691\" fill=\"none\" stroke=\"black\"/>\n",
       "<polygon fill=\"black\" points=\"133.5,-46.5288 130,-36.5288 126.5,-46.5289 133.5,-46.5288\" stroke=\"black\"/>\n",
       "</g>\n",
       "<!-- 140358898833728 -->\n",
       "<g class=\"node\" id=\"node10\"><title>140358898833728</title>\n",
       "<polygon fill=\"none\" points=\"71,-657.5 71,-693.5 189,-693.5 189,-657.5 71,-657.5\" stroke=\"black\"/>\n",
       "<text font-family=\"Times,serif\" font-size=\"14.00\" text-anchor=\"middle\" x=\"130\" y=\"-671.8\">140358898833728</text>\n",
       "</g>\n",
       "<!-- 140358898833728&#45;&gt;140358898833560 -->\n",
       "<g class=\"edge\" id=\"edge1\"><title>140358898833728-&gt;140358898833560</title>\n",
       "<path d=\"M130,-657.313C130,-649.289 130,-639.547 130,-630.569\" fill=\"none\" stroke=\"black\"/>\n",
       "<polygon fill=\"black\" points=\"133.5,-630.529 130,-620.529 126.5,-630.529 133.5,-630.529\" stroke=\"black\"/>\n",
       "</g>\n",
       "</g>\n",
       "</svg>"
      ],
      "text/plain": [
       "<IPython.core.display.SVG object>"
      ]
     },
     "execution_count": 61,
     "metadata": {},
     "output_type": "execute_result"
    }
   ],
   "source": [
    "from IPython.display import SVG\n",
    "from keras.utils.vis_utils import model_to_dot\n",
    "\n",
    "SVG(model_to_dot(model).create(prog = 'dot', format = 'svg'))"
   ]
  },
  {
   "cell_type": "code",
   "execution_count": 62,
   "metadata": {},
   "outputs": [
    {
     "name": "stdout",
     "output_type": "stream",
     "text": [
      "668/668 [==============================] - 2s 4ms/step\n",
      "Accuracy:  61.52694611670728 %\n"
     ]
    }
   ],
   "source": [
    "from keras_tqdm import TQDMNotebookCallback\n",
    "history = model.fit(X_train, Y_train, batch_size = 200, \n",
    "                    epochs = 10, verbose = 0, validation_split = 0.2)\n",
    "print('Accuracy: ', model.evaluate(X_test, Y_test)[1] * 100.0, '%')"
   ]
  },
  {
   "cell_type": "code",
   "execution_count": 64,
   "metadata": {},
   "outputs": [
    {
     "name": "stdout",
     "output_type": "stream",
     "text": [
      "1333/1333 [==============================] - 4s 3ms/step\n",
      "Accuracy:  74.86871719047349 %\n"
     ]
    }
   ],
   "source": [
    "history2 = model.fit(X_train, Y_train, batch_size = 200, \n",
    "                    epochs = 100, verbose = 0, validation_split = 0.25)\n",
    "print('Accuracy: ', model.evaluate(X, Y)[1] * 100.0, '%')"
   ]
  },
  {
   "cell_type": "code",
   "execution_count": 65,
   "metadata": {},
   "outputs": [
    {
     "data": {
      "image/png": "[encoded data removed]",
      "text/plain": [
       "<Figure size 432x288 with 2 Axes>"
      ]
     },
     "metadata": {
      "needs_background": "light"
     },
     "output_type": "display_data"
    }
   ],
   "source": [
    "plt.figure(1)\n",
    "\n",
    "# Accuracy\n",
    "plt.subplot(211)\n",
    "plt.plot(history2.history['acc'])\n",
    "plt.plot(history2.history['val_acc'])\n",
    "plt.title('Model Accuracy')\n",
    "plt.ylabel('Accuracy')\n",
    "plt.xlabel('Epoch')\n",
    "plt.legend(['train', 'test'], loc = 'upper left')\n",
    "\n",
    "# Loss\n",
    "plt.subplot(212)\n",
    "plt.plot(history2.history['loss'])\n",
    "plt.plot(history2.history['val_loss'])\n",
    "plt.title('Model Loss')\n",
    "plt.ylabel('Loss')\n",
    "plt.xlabel('Epoch')\n",
    "plt.legend(['train', 'test'], loc = 'upper left')\n",
    "\n",
    "plt.tight_layout()\n",
    "plt.show()"
   ]
  },
  {
   "cell_type": "code",
   "execution_count": 66,
   "metadata": {},
   "outputs": [],
   "source": [
    "preds = model.predict(X_test)"
   ]
  },
  {
   "cell_type": "code",
   "execution_count": 75,
   "metadata": {},
   "outputs": [
    {
     "name": "stdout",
     "output_type": "stream",
     "text": [
      "[ 0.02941232  1.4564695   0.5148726  97.999245  ]\n",
      "[0. 0. 0. 1.]\n"
     ]
    },
    {
     "data": {
      "image/png": "[encoded data removed]",
      "text/plain": [
       "<Figure size 432x288 with 1 Axes>"
      ]
     },
     "metadata": {
      "needs_background": "light"
     },
     "output_type": "display_data"
    }
   ],
   "source": [
    "img = 500\n",
    "np.set_printoptions(suppress = True)\n",
    "print(preds[img] * 100.0)\n",
    "print(Y_test[img])\n",
    "\n",
    "plt.imshow(keras.preprocessing.image.array_to_img(X_test[img, :, :, :]))\n",
    "plt.show()"
   ]
  },
  {
   "cell_type": "code",
   "execution_count": null,
   "metadata": {},
   "outputs": [],
   "source": []
  }
 ],
 "metadata": {
  "kernelspec": {
   "display_name": "Python 3",
   "language": "python",
   "name": "python3"
  },
  "language_info": {
   "codemirror_mode": {
    "name": "ipython",
    "version": 3
   },
   "file_extension": ".py",
   "mimetype": "text/x-python",
   "name": "python",
   "nbconvert_exporter": "python",
   "pygments_lexer": "ipython3",
   "version": "3.6.7"
  }
 },
 "nbformat": 4,
 "nbformat_minor": 2
}
