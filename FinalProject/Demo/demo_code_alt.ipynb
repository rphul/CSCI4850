{
 "cells": [
  {
   "cell_type": "code",
   "execution_count": 12,
   "metadata": {},
   "outputs": [],
   "source": [
    "from __future__ import print_function\n",
    "\n",
    "import keras\n",
    "import numpy as np\n",
    "\n",
    "# For image display\n",
    "import matplotlib.pyplot as plt\n",
    "%matplotlib inline\n",
    "\n",
    "# For switching images\n",
    "import ipywidgets as widgets\n",
    "from IPython.display import display\n",
    "from IPython.display import clear_output"
   ]
  },
  {
   "cell_type": "code",
   "execution_count": 13,
   "metadata": {},
   "outputs": [],
   "source": [
    "# Load trained model and set weights\n",
    "model = keras.models.load_model('../Project/model_alt.model')\n",
    "model.load_weights('../Project/model_alt.weights')"
   ]
  },
  {
   "cell_type": "code",
   "execution_count": 14,
   "metadata": {},
   "outputs": [
    {
     "name": "stdout",
     "output_type": "stream",
     "text": [
      "(15, 100, 100, 3)\n",
      "(15, 4)\n"
     ]
    }
   ],
   "source": [
    "path_to_labels = '/nfshome/sandbox/TrashNet-Dataset/DEMO_ALT/'\n",
    "file_name = 'labels.csv'\n",
    "\n",
    "# Load demo images and labels\n",
    "demo_images = np.load('imgdat_demo.npy')\n",
    "for i in range(demo_images.shape[0]):\n",
    "    demo_images[i] = (demo_images[i] - demo_images[i].mean()) / demo_images[i].std()\n",
    "\n",
    "with open(path_to_labels + file_name, 'r', encoding = 'utf-8-sig') as f:\n",
    "    demo_labels = f.read().split(',')\n",
    "demo_labels = keras.utils.to_categorical(demo_labels)\n",
    "\n",
    "print(demo_images.shape)\n",
    "print(demo_labels.shape)"
   ]
  },
  {
   "cell_type": "code",
   "execution_count": 15,
   "metadata": {},
   "outputs": [],
   "source": [
    "# Prep predictions and output\n",
    "preds = model.predict(demo_images)\n",
    "np.set_printoptions(suppress = True)\n",
    "\n",
    "classes = [\"Glass\", \"Plastic\", \"Cardboard\", \"Can\"]\n",
    "\n",
    "# Get the index of what the network predicted\n",
    "def getIndexOfHighestConfidence(pred):\n",
    "    highestConfidenceIndex = 0\n",
    "    for i in range(len(pred)):\n",
    "        if pred[i] > pred[highestConfidenceIndex]:\n",
    "            highestConfidenceIndex = i\n",
    "    return highestConfidenceIndex\n",
    "\n",
    "# Get the index of the actual classification\n",
    "def getIndexOfClassification(test):\n",
    "    classIndex = 0\n",
    "    for i in range(len(test)):\n",
    "        if test[i] == 1:\n",
    "            classIndex = i\n",
    "            break\n",
    "    return classIndex"
   ]
  },
  {
   "cell_type": "code",
   "execution_count": 16,
   "metadata": {},
   "outputs": [
    {
     "data": {
      "application/vnd.jupyter.widget-view+json": {
       "model_id": "cf7487a36fe743868ec694235f657eed",
       "version_major": 2,
       "version_minor": 0
      },
      "text/plain": [
       "HBox(children=(Button(description='Start', style=ButtonStyle()), Button(description='Previous', style=ButtonSt…"
      ]
     },
     "metadata": {},
     "output_type": "display_data"
    },
    {
     "data": {
      "application/vnd.jupyter.widget-view+json": {
       "model_id": "bbf953a685494cf1959d632369177d18",
       "version_major": 2,
       "version_minor": 0
      },
      "text/plain": [
       "Output()"
      ]
     },
     "metadata": {},
     "output_type": "display_data"
    }
   ],
   "source": [
    "def display_prediction(index):\n",
    "    global classes\n",
    "    \n",
    "    clear_output()\n",
    "    print(\"Image %d of %d\" % (index + 1, demo_images.shape[0]))\n",
    "    print(\"Actual: \" + classes[getIndexOfClassification(demo_labels[index])])\n",
    "    print(\"Predicted: \" + classes[getIndexOfHighestConfidence(preds[index])])\n",
    "    print()\n",
    "    print(\"Predictions: \")\n",
    "    print(\"Glass:\\t\\t\", np.round(preds[index, 0] * 100, 2), '%')\n",
    "    print(\"Plastic:\\t\", np.round(preds[index, 1] * 100, 2), '%')\n",
    "    print(\"Cardboard:\\t\", np.round(preds[index, 2] * 100, 2), '%')\n",
    "    print(\"Can:\\t\\t\", np.round(preds[index, 3] * 100, 2), '%')\n",
    "\n",
    "    plt.imshow(keras.preprocessing.image.array_to_img(demo_images[index, :, :, :]))\n",
    "    plt.show()\n",
    "    \n",
    "widg_out = widgets.Output()\n",
    "@widg_out.capture()\n",
    "def on_button_clicked(btn):\n",
    "    global img_index\n",
    "    \n",
    "    if btn.description == 'Previous' and img_index != 0:\n",
    "        img_index = img_index - 1\n",
    "        display_prediction(img_index)\n",
    "    elif btn.description == 'Next' and img_index != demo_images.shape[0] - 1:\n",
    "        img_index = img_index + 1\n",
    "        display_prediction(img_index)\n",
    "    elif btn.description == 'Start':\n",
    "        display_prediction(img_index)\n",
    "    \n",
    "# Image to display\n",
    "img_index = 0\n",
    "\n",
    "# Set up buttons\n",
    "btn_start = widgets.Button(description = \"Start\")\n",
    "btn_start.on_click(on_button_clicked)\n",
    "btn_prev = widgets.Button(description = \"Previous\")\n",
    "btn_prev.on_click(on_button_clicked)\n",
    "btn_next = widgets.Button(description = \"Next\")\n",
    "btn_next.on_click(on_button_clicked)\n",
    "display(widgets.HBox([btn_start, btn_prev, btn_next]))\n",
    "\n",
    "display(widg_out)"
   ]
  },
  {
   "cell_type": "code",
   "execution_count": null,
   "metadata": {},
   "outputs": [],
   "source": []
  }
 ],
 "metadata": {
  "kernelspec": {
   "display_name": "Python 3",
   "language": "python",
   "name": "python3"
  },
  "language_info": {
   "codemirror_mode": {
    "name": "ipython",
    "version": 3
   },
   "file_extension": ".py",
   "mimetype": "text/x-python",
   "name": "python",
   "nbconvert_exporter": "python",
   "pygments_lexer": "ipython3",
   "version": "3.6.7"
  }
 },
 "nbformat": 4,
 "nbformat_minor": 2
}
