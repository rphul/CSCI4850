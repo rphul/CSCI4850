{
 "cells": [
  {
   "cell_type": "code",
   "execution_count": 2,
   "metadata": {},
   "outputs": [
    {
     "name": "stderr",
     "output_type": "stream",
     "text": [
      "Using TensorFlow backend.\n"
     ]
    }
   ],
   "source": [
    "import keras\n",
    "from keras.preprocessing import image\n",
    "\n",
    "import numpy as np\n",
    "\n",
    "# Ask PIL to be tolerant of files that are truncated\n",
    "from PIL import ImageFile\n",
    "ImageFile.LOAD_TRUNCATED_IMAGES = True"
   ]
  },
  {
   "cell_type": "code",
   "execution_count": 4,
   "metadata": {},
   "outputs": [],
   "source": [
    "path_to_images = '/nfshome/sandbox/TrashNet-Dataset/DEMO_ALT/'\n",
    "file_prefix = ''\n",
    "ID_start = 1\n",
    "ID_end = 15\n",
    "file_format = '.jpg'\n",
    "size = 100 # Resize target (size x size), MUST BE 100x100\n",
    "\n",
    "# Grab an image from a given path, resize and mean center\n",
    "def grab_image(img_path):\n",
    "    img = image.load_img(img_path, target_size = (size, size))\n",
    "    x = image.img_to_array(img)\n",
    "    x = np.expand_dims(x, axis = 0)\n",
    "    return x\n",
    "\n",
    "# This function is used exclusively on the demo images provided by this team since\n",
    "# they are in the format \"demo_XX.JPG\", where XX are two chars representing ints.\n",
    "# We need to convert numbers less than 10 to a specific string format:\n",
    "#    e.g. 1 --> 01, 2 --> 02, etc.\n",
    "def format_int(n):\n",
    "    if (n < 10):\n",
    "        return '0' + str(n)\n",
    "    \n",
    "    return str(n)\n",
    "\n",
    "# Load all the images.  This might take a few seconds to a few hours depending on the number of images.\n",
    "imgdat_demo = np.concatenate([grab_image(path_to_images + file_prefix + '%s' % (format_int(n)) + file_format)\n",
    "                             for n in range(ID_start, ID_end + 1)])"
   ]
  },
  {
   "cell_type": "code",
   "execution_count": 5,
   "metadata": {},
   "outputs": [],
   "source": [
    "np.save('imgdat_demo.npy', imgdat_demo)"
   ]
  },
  {
   "cell_type": "code",
   "execution_count": null,
   "metadata": {},
   "outputs": [],
   "source": []
  }
 ],
 "metadata": {
  "kernelspec": {
   "display_name": "Python 3",
   "language": "python",
   "name": "python3"
  },
  "language_info": {
   "codemirror_mode": {
    "name": "ipython",
    "version": 3
   },
   "file_extension": ".py",
   "mimetype": "text/x-python",
   "name": "python",
   "nbconvert_exporter": "python",
   "pygments_lexer": "ipython3",
   "version": "3.6.7"
  }
 },
 "nbformat": 4,
 "nbformat_minor": 2
}
