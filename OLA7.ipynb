{
 "cells": [
  {
   "cell_type": "code",
   "execution_count": 2,
   "metadata": {},
   "outputs": [],
   "source": []
  },
  {
   "cell_type": "code",
   "execution_count": 6,
   "metadata": {},
   "outputs": [],
   "source": [
    "import keras\n",
    "import numpy as np\n",
    "import matplotlib.pyplot as plt\n",
    "%matplotlib inline\n",
    "from keras_tqdm import TQDMNotebookCallback\n",
    "# Visualization\n",
    "from IPython.display import SVG\n",
    "from IPython.display import display\n",
    "from keras.utils.vis_utils import model_to_dot"
   ]
  },
  {
   "cell_type": "code",
   "execution_count": 7,
   "metadata": {},
   "outputs": [],
   "source": [
    "with open('/nfshome/sandbox/gutenberg_example/PandP_Jane_Austen.txt', 'r', encoding='utf-8') as f:\n",
    "    lines = f.read().split('\\n')\n",
    "text = []\n",
    "for i in range(len(lines)):\n",
    "    if lines[i] != '':\n",
    "        text = text + [lines[i]]\n",
    "min_length = max([len(i) for i in text])"
   ]
  },
  {
   "cell_type": "code",
   "execution_count": 8,
   "metadata": {},
   "outputs": [],
   "source": [
    "with open('/nfshome/sandbox/gutenberg_example/unique_chars.txt', 'r', encoding='utf-8') as f:\n",
    "    lines = f.read().split('\\n')\n",
    "itos = ['','',' ']\n",
    "for i in lines:\n",
    "    itos = itos + [i]\n",
    "stoi = dict()\n",
    "stoi['STOP'] = 0\n",
    "stoi['START'] = 1\n",
    "for i in range(2,len(itos)):\n",
    "    stoi[itos[i]] = i"
   ]
  },
  {
   "cell_type": "code",
   "execution_count": 9,
   "metadata": {},
   "outputs": [],
   "source": [
    "def encode_seq(x,mapping,min_length=0):\n",
    "    y = [mapping['START']]\n",
    "    for i in list(x):\n",
    "        y = y + [mapping[i]]\n",
    "    y = y + [mapping['STOP']]\n",
    "    while len(y) < min_length:\n",
    "        y = y + [mapping['STOP']]\n",
    "    return keras.utils.to_categorical(y,len(mapping))\n",
    "\n",
    "def decode_seq(x,mapping):\n",
    "    y = []\n",
    "    for i in x:\n",
    "        y = y + [mapping[np.argmax(i)]]\n",
    "    return ''.join(y)"
   ]
  },
  {
   "cell_type": "code",
   "execution_count": 10,
   "metadata": {},
   "outputs": [],
   "source": [
    "temp = encode_seq(text[0],stoi)\n",
    "temp = decode_seq(temp,itos)"
   ]
  },
  {
   "cell_type": "code",
   "execution_count": 11,
   "metadata": {},
   "outputs": [],
   "source": [
    "dataX = np.ones([len(text),max([len(i) for i in text])+2,len(itos)])*(1.0/len(itos))\n",
    "for i in range(len(text)):\n",
    "    temp = encode_seq(text[i],stoi)\n",
    "    dataX[i,0:len(temp),:] = temp\n",
    "\n",
    "dataY = np.ones([len(text),max([len(i) for i in text])+2,len(itos)])*(1.0/len(itos))\n",
    "for i in range(len(text)):\n",
    "    temp = encode_seq(text[i],stoi)\n",
    "    dataY[i,0:len(temp),:] = temp"
   ]
  },
  {
   "cell_type": "code",
   "execution_count": 12,
   "metadata": {},
   "outputs": [],
   "source": [
    "X = dataX[0:dataX.shape[0]-1,:,:]\n",
    "Y = dataY[1:dataY.shape[0],:,:]\n",
    "preY = Y[:,0:Y.shape[1]-1,:]\n",
    "postY = Y[:,1:Y.shape[1],:]"
   ]
  },
  {
   "cell_type": "code",
   "execution_count": 13,
   "metadata": {},
   "outputs": [
    {
     "name": "stdout",
     "output_type": "stream",
     "text": [
      "(50, 76, 71)\n",
      "(50, 76, 71)\n",
      "(50, 75, 71)\n",
      "(50, 75, 71)\n"
     ]
    }
   ],
   "source": [
    "nlines = 50\n",
    "X = X[0:nlines,:,:]\n",
    "Y = Y[0:nlines,:,:]\n",
    "preY = preY[0:nlines,:,:]\n",
    "postY = postY[0:nlines,:,:]\n",
    "print(X.shape)\n",
    "print(Y.shape)\n",
    "print(preY.shape)\n",
    "print(postY.shape)"
   ]
  },
  {
   "cell_type": "code",
   "execution_count": 18,
   "metadata": {},
   "outputs": [
    {
     "name": "stdout",
     "output_type": "stream",
     "text": [
      "__________________________________________________________________________________________________\n",
      "Layer (type)                    Output Shape         Param #     Connected to                     \n",
      "==================================================================================================\n",
      "input_3 (InputLayer)            (None, None, 71)     0                                            \n",
      "__________________________________________________________________________________________________\n",
      "input_4 (InputLayer)            (None, None, 71)     0                                            \n",
      "__________________________________________________________________________________________________\n",
      "lstm_3 (LSTM)                   [(None, 228), (None, 273600      input_3[0][0]                    \n",
      "__________________________________________________________________________________________________\n",
      "lstm_4 (LSTM)                   [(None, None, 228),  273600      input_4[0][0]                    \n",
      "                                                                 lstm_3[0][1]                     \n",
      "                                                                 lstm_3[0][2]                     \n",
      "__________________________________________________________________________________________________\n",
      "dense_2 (Dense)                 (None, None, 71)     16259       lstm_4[0][0]                     \n",
      "==================================================================================================\n",
      "Total params: 563,459\n",
      "Trainable params: 563,459\n",
      "Non-trainable params: 0\n",
      "__________________________________________________________________________________________________\n"
     ]
    }
   ],
   "source": [
    "\n",
    "hidden_size = X.shape[1]*3\n",
    "encoder_input = keras.layers.Input(shape=(None, X.shape[2]))\n",
    "encoder_hidden = keras.layers.LSTM(hidden_size, return_state=True)\n",
    "# Tie the hidden layer to the input layer (passed in)\n",
    "encoder_output, enc_state_h, enc_state_c = encoder_hidden(encoder_input)\n",
    "# We discard `encoder_outputs` and only keep the states.\n",
    "encoder_states = [enc_state_h, enc_state_c]\n",
    "## Decoder Construction\n",
    "# Set up the decoder, using `encoder_states` as initial state.\n",
    "decoder_input = keras.layers.Input(shape=(None, preY.shape[2]))\n",
    "decoder_hidden = keras.layers.LSTM(hidden_size, return_sequences=True, return_state=True)\n",
    "# Connect hidden to input (also reads from the encoder...)\n",
    "decoder_hidden_output, decoder_state_h, decoder_state_c = decoder_hidden(decoder_input,\n",
    "initial_state=encoder_states)\n",
    "decoder_dense = keras.layers.Dense(postY.shape[2], activation='softmax')\n",
    "# Connect output to hidden\n",
    "decoder_output = decoder_dense(decoder_hidden_output)\n",
    "# 2 input layers and an output layer...\n",
    "# 1. Targets are postY\n",
    "model = keras.Model([encoder_input, decoder_input], decoder_output)\n",
    "model.compile(loss=keras.losses.categorical_crossentropy,\n",
    "optimizer=keras.optimizers.Adam(),\n",
    "metrics=['accuracy'])\n",
    "model.summary()\n"
   ]
  },
  {
   "cell_type": "code",
   "execution_count": 19,
   "metadata": {},
   "outputs": [
    {
     "data": {
      "image/svg+xml": [
       "<svg height=\"264pt\" viewBox=\"0.00 0.00 263.00 264.00\" width=\"263pt\" xmlns=\"http://www.w3.org/2000/svg\" xmlns:xlink=\"http://www.w3.org/1999/xlink\">\n",
       "<g class=\"graph\" id=\"graph0\" transform=\"scale(1 1) rotate(0) translate(4 260)\">\n",
       "<title>G</title>\n",
       "<polygon fill=\"white\" points=\"-4,4 -4,-260 259,-260 259,4 -4,4\" stroke=\"none\"/>\n",
       "<!-- 140171834210904 -->\n",
       "<g class=\"node\" id=\"node1\"><title>140171834210904</title>\n",
       "<polygon fill=\"none\" points=\"0,-219.5 0,-255.5 125,-255.5 125,-219.5 0,-219.5\" stroke=\"black\"/>\n",
       "<text font-family=\"Times,serif\" font-size=\"14.00\" text-anchor=\"middle\" x=\"62.5\" y=\"-233.8\">input_3: InputLayer</text>\n",
       "</g>\n",
       "<!-- 140171834210848 -->\n",
       "<g class=\"node\" id=\"node3\"><title>140171834210848</title>\n",
       "<polygon fill=\"none\" points=\"13.5,-146.5 13.5,-182.5 111.5,-182.5 111.5,-146.5 13.5,-146.5\" stroke=\"black\"/>\n",
       "<text font-family=\"Times,serif\" font-size=\"14.00\" text-anchor=\"middle\" x=\"62.5\" y=\"-160.8\">lstm_3: LSTM</text>\n",
       "</g>\n",
       "<!-- 140171834210904&#45;&gt;140171834210848 -->\n",
       "<g class=\"edge\" id=\"edge1\"><title>140171834210904-&gt;140171834210848</title>\n",
       "<path d=\"M62.5,-219.313C62.5,-211.289 62.5,-201.547 62.5,-192.569\" fill=\"none\" stroke=\"black\"/>\n",
       "<polygon fill=\"black\" points=\"66.0001,-192.529 62.5,-182.529 59.0001,-192.529 66.0001,-192.529\" stroke=\"black\"/>\n",
       "</g>\n",
       "<!-- 140171834210960 -->\n",
       "<g class=\"node\" id=\"node2\"><title>140171834210960</title>\n",
       "<polygon fill=\"none\" points=\"130,-146.5 130,-182.5 255,-182.5 255,-146.5 130,-146.5\" stroke=\"black\"/>\n",
       "<text font-family=\"Times,serif\" font-size=\"14.00\" text-anchor=\"middle\" x=\"192.5\" y=\"-160.8\">input_4: InputLayer</text>\n",
       "</g>\n",
       "<!-- 140171834211520 -->\n",
       "<g class=\"node\" id=\"node4\"><title>140171834211520</title>\n",
       "<polygon fill=\"none\" points=\"78.5,-73.5 78.5,-109.5 176.5,-109.5 176.5,-73.5 78.5,-73.5\" stroke=\"black\"/>\n",
       "<text font-family=\"Times,serif\" font-size=\"14.00\" text-anchor=\"middle\" x=\"127.5\" y=\"-87.8\">lstm_4: LSTM</text>\n",
       "</g>\n",
       "<!-- 140171834210960&#45;&gt;140171834211520 -->\n",
       "<g class=\"edge\" id=\"edge2\"><title>140171834210960-&gt;140171834211520</title>\n",
       "<path d=\"M176.765,-146.313C168.701,-137.505 158.741,-126.625 149.892,-116.958\" fill=\"none\" stroke=\"black\"/>\n",
       "<polygon fill=\"black\" points=\"152.424,-114.541 143.09,-109.529 147.261,-119.268 152.424,-114.541\" stroke=\"black\"/>\n",
       "</g>\n",
       "<!-- 140171834210848&#45;&gt;140171834211520 -->\n",
       "<g class=\"edge\" id=\"edge3\"><title>140171834210848-&gt;140171834211520</title>\n",
       "<path d=\"M78.2347,-146.313C86.2986,-137.505 96.2588,-126.625 105.108,-116.958\" fill=\"none\" stroke=\"black\"/>\n",
       "<polygon fill=\"black\" points=\"107.739,-119.268 111.91,-109.529 102.576,-114.541 107.739,-119.268\" stroke=\"black\"/>\n",
       "</g>\n",
       "<!-- 140171834659952 -->\n",
       "<g class=\"node\" id=\"node5\"><title>140171834659952</title>\n",
       "<polygon fill=\"none\" points=\"76.5,-0.5 76.5,-36.5 178.5,-36.5 178.5,-0.5 76.5,-0.5\" stroke=\"black\"/>\n",
       "<text font-family=\"Times,serif\" font-size=\"14.00\" text-anchor=\"middle\" x=\"127.5\" y=\"-14.8\">dense_2: Dense</text>\n",
       "</g>\n",
       "<!-- 140171834211520&#45;&gt;140171834659952 -->\n",
       "<g class=\"edge\" id=\"edge5\"><title>140171834211520-&gt;140171834659952</title>\n",
       "<path d=\"M127.5,-73.3129C127.5,-65.2895 127.5,-55.5475 127.5,-46.5691\" fill=\"none\" stroke=\"black\"/>\n",
       "<polygon fill=\"black\" points=\"131,-46.5288 127.5,-36.5288 124,-46.5289 131,-46.5288\" stroke=\"black\"/>\n",
       "</g>\n",
       "</g>\n",
       "</svg>"
      ],
      "text/plain": [
       "<IPython.core.display.SVG object>"
      ]
     },
     "execution_count": 19,
     "metadata": {},
     "output_type": "execute_result"
    }
   ],
   "source": [
    "SVG(model_to_dot(model).create(prog='dot', format='svg'))"
   ]
  },
  {
   "cell_type": "code",
   "execution_count": 20,
   "metadata": {},
   "outputs": [
    {
     "data": {
      "application/vnd.jupyter.widget-view+json": {
       "model_id": "422c3828d1f643ca9f74812382a0e4ad",
       "version_major": 2,
       "version_minor": 0
      },
      "text/plain": [
       "HBox(children=(IntProgress(value=0, description='Training', max=1000, style=ProgressStyle(description_width='i…"
      ]
     },
     "metadata": {},
     "output_type": "display_data"
    },
    {
     "data": {
      "application/vnd.jupyter.widget-view+json": {
       "model_id": "",
       "version_major": 2,
       "version_minor": 0
      },
      "text/plain": [
       "HBox(children=(IntProgress(value=0, description='Epoch 0', max=50, style=ProgressStyle(description_width='init…"
      ]
     },
     "metadata": {},
     "output_type": "display_data"
    },
    {
     "name": "stdout",
     "output_type": "stream",
     "text": [
      "50/50 [==============================] - 2s 31ms/step\n",
      "Accuracy: 74.4266676902771 %\n"
     ]
    }
   ],
   "source": [
    "batch_size = nlines # only one pattern...\n",
    "epochs = 1000\n",
    "history = model.fit([X,preY], postY,\n",
    "batch_size=batch_size,\n",
    "epochs=epochs,\n",
    "verbose=0,\n",
    "callbacks=[TQDMNotebookCallback()])\n",
    "print('Accuracy:',model.evaluate([X,preY],postY)[1]*100.0,'%')"
   ]
  },
  {
   "cell_type": "code",
   "execution_count": 21,
   "metadata": {},
   "outputs": [
    {
     "data": {
      "image/png": "[encoded data removed]",
      "text/plain": [
       "<Figure size 432x288 with 2 Axes>"
      ]
     },
     "metadata": {
      "needs_background": "light"
     },
     "output_type": "display_data"
    }
   ],
   "source": [
    "plt.figure(1)\n",
    "# summarize history for accuracy\n",
    "plt.subplot(211)\n",
    "plt.plot(history.history['acc'])\n",
    "plt.title('model accuracy')\n",
    "plt.ylabel('accuracy')\n",
    "plt.xlabel('epoch')\n",
    "# summarize history for loss\n",
    "plt.subplot(212)\n",
    "plt.plot(history.history['loss'])\n",
    "plt.title('model loss')\n",
    "plt.ylabel('loss')\n",
    "plt.xlabel('epoch')\n",
    "plt.tight_layout()\n",
    "plt.show()\n"
   ]
  },
  {
   "cell_type": "code",
   "execution_count": 22,
   "metadata": {},
   "outputs": [],
   "source": [
    "# Part 1 - make the encoder\n",
    "# Make just a model out of the encoder\n",
    "# input = encoder_input (Input layer)\n",
    "# output = encoder_states (enc Hidden layer * 2)\n",
    "encoder_model = keras.Model(encoder_input, encoder_states)\n",
    "# Part 2 - make the decoder\n",
    "# Make just a model out of the decoder\n",
    "# input = encoder_states (enc Hidden layer * 2)\n",
    "# output = decoder_output\n",
    "decoder_state_input_h = keras.layers.Input(shape=(hidden_size,))\n",
    "decoder_state_input_c = keras.layers.Input(shape=(hidden_size,))\n",
    "# Connect hidden to input(s)\n",
    "decoder_states_input = [decoder_state_input_h, decoder_state_input_c]\n",
    "decoder_hidden_output, decoder_state_h, decoder_state_c = decoder_hidden(decoder_input,\n",
    "initial_state=decoder_states_input)\n",
    "decoder_states = [decoder_state_h, decoder_state_c]\n",
    "# Connect output to hidden(s)\n",
    "decoder_output = decoder_dense(decoder_hidden_output)\n",
    "decoder_model = keras.Model(\n",
    "[decoder_input] + decoder_states_input,\n",
    "[decoder_output] + decoder_states)"
   ]
  },
  {
   "cell_type": "code",
   "execution_count": 23,
   "metadata": {},
   "outputs": [
    {
     "data": {
      "text/plain": [
       "array([[[0., 1., 0., 0., 0., 0., 0., 0., 0., 0., 0., 0., 0., 0., 0., 0.,\n",
       "         0., 0., 0., 0., 0., 0., 0., 0., 0., 0., 0., 0., 0., 0., 0., 0.,\n",
       "         0., 0., 0., 0., 0., 0., 0., 0., 0., 0., 0., 0., 0., 0., 0., 0.,\n",
       "         0., 0., 0., 0., 0., 0., 0., 0., 0., 0., 0., 0., 0., 0., 0., 0.,\n",
       "         0., 0., 0., 0., 0., 0., 0.]]], dtype=float32)"
      ]
     },
     "execution_count": 23,
     "metadata": {},
     "output_type": "execute_result"
    }
   ],
   "source": [
    "# Get the gestalt context for the input sequence(s)\n",
    "i = 0\n",
    "context = encoder_model.predict(X[i:i+1,:,:])\n",
    "# Prep a starting token...\n",
    "token = encode_seq('',stoi)[0].reshape(1,1,len(stoi))\n",
    "token"
   ]
  },
  {
   "cell_type": "code",
   "execution_count": 24,
   "metadata": {},
   "outputs": [
    {
     "name": "stdout",
     "output_type": "stream",
     "text": [
      "Input: It is a truth universally acknowledged, that a single man in possession\n",
      "Output: of a good fortune, must be in want of a wife.\n"
     ]
    }
   ],
   "source": [
    "# What should we see?\n",
    "print('Input:', text[i])\n",
    "print('Output:', text[i+1])"
   ]
  },
  {
   "cell_type": "code",
   "execution_count": 26,
   "metadata": {},
   "outputs": [
    {
     "name": "stdout",
     "output_type": "stream",
     "text": [
      "Txt: of a good fortune, must be in want of a wife.\n",
      "Net: of a good fortune, must be in want of a wife.\n",
      "Txt: However little known the feelings or views of such a man may be on his\n",
      "Net: However little known the feelings or views of such a man may be on his\n",
      "Txt: first entering a neighbourhood, this truth is so well fixed in the minds\n",
      "Net: first entering a neighbourhood, this truth is so well fixed in the minds\n",
      "Txt: of the surrounding families, that he is considered the rightful property\n",
      "Net: of the surrounding families, that he is considered the rightful property\n",
      "Txt: of some one or other of their daughters.\n",
      "Net: of some one or other of their daughters.\n",
      "Txt: \"My dear Mr. Bennet,\" said his lady to him one day, \"have you heard that\n",
      "Net: \"My dear Mr. Bennet,\" said his lady to him one day, \"have you heard that\n",
      "Txt: Netherfield Park is let at last?\"\n",
      "Net:  an eechad an  eresngl ougle my thi he\n",
      "Txt: Mr. Bennet replied that he had not.\n",
      "Net: Mr. Bennet replied that he had not.\n",
      "Txt: \"But it is,\" returned she; \"for Mrs. Long has just been here, and she\n",
      "Net: \"But it is,\" returned she; \"for Mrs. Long has just been here, and she\n",
      "Txt: told me all about it.\"\n",
      "Net: told me all about it.\"\n",
      "Txt: Mr. Bennet made no answer.\n",
      "Net: Mr. Bennet made no answer.\n",
      "Txt: \"Do you not want to know who has taken it?\" cried his wife impatiently.\n",
      "Net: \"o is orthnne haseand tht e Mir amyin on ee wime betth\n",
      "Txt: \"_You_ want to tell me, and I have no objection to hearing it.\"\n",
      "Net: \"_You_ want to tell me, and I have no objection to hearing it.\"\n",
      "Txt: This was invitation enough.\n",
      "Net: This was invitation enough.\n",
      "Txt: \"Why, my dear, you must know, Mrs. Long says that Netherfield is taken\n",
      "Net: \"Why, my dear, you must know, Mrs. Long says that Netherfield is taken\n",
      "Txt: by a young man of large fortune from the north of England; that he came\n",
      "Net: by a young man of large fortune from the north of England; that he came\n",
      "Txt: down on Monday in a chaise and four to see the place, and was so much\n",
      "Net: down on Monday in a chaise and four to see the place, and was so much\n",
      "Txt: delighted with it, that he agreed with Mr. Morris immediately; that he\n",
      "Net: delighted with it, that he agreed with Mr. Morris immediately; that he\n",
      "Txt: is to take possession before Michaelmas, and some of his servants are to\n",
      "Net: is to take possession before Michaelmas, and some of his servants are to\n",
      "Txt: be in the house by the end of next week.\"\n",
      "Net: be in the house by the end of next week.\"\n",
      "Txt: \"What is his name?\"\n",
      "Net: \"What is his name?\"\n",
      "Txt: \"Bingley.\"\n",
      "Net: \"Bingley.\"\n",
      "Txt: \"Is he married or single?\"\n",
      "Net: \"Is he married or single?\"\n",
      "Txt: \"Oh! Single, my dear, to be sure! A single man of large fortune; four or\n",
      "Net: \"Oh! Single, my dear, to be sure! A single man of large fortune; four or\n",
      "Txt: five thousand a year. What a fine thing for our girls!\"\n",
      "Net: five thousand a year. What a fine thing for our girls!\"\n",
      "Txt: \"How so? How can it affect them?\"\n",
      "Net: \"How so? How can it affect them?\"\n",
      "Txt: \"My dear Mr. Bennet,\" replied his wife, \"how can you be so tiresome! You\n",
      "Net: \"My dear Mr. Bennet,\" replied his wife, \"how can you be so tiresome! You\n",
      "Txt: must know that I am thinking of his marrying one of them.\"\n",
      "Net: t an o ah atin e thare ins bee io  sase t mmu\n",
      "Txt: \"Is that his design in settling here?\"\n",
      "Net: \"Is that his design in settling here?\"\n",
      "Txt: \"Design! Nonsense, how can you talk so! But it is very likely that he\n",
      "Net: \"Design! Nonsense, how can you talk so! But it is very likely that he\n",
      "Txt: _may_ fall in love with one of them, and therefore you must visit him as\n",
      "Net: _may_ fall in love with one of them, and therefore you must visit him as\n",
      "Txt: soon as he comes.\"\n",
      "Net: soon as he comes.\"\n",
      "Txt: \"I see no occasion for that. You and the girls may go, or you may send\n",
      "Net: \"I see no occasion for that. You and the girls may go, or you may send\n",
      "Txt: them by themselves, which perhaps will be still better, for as you are\n",
      "Net: them by themselves, which perhaps will be still better, for as you are\n",
      "Txt: as handsome as any of them, Mr. Bingley may like you the best of the\n",
      "Net: as handsome as any of them, Mr. Bingley may like you the best of the\n",
      "Txt: party.\"\n",
      "Net: party.\"\n",
      "Txt: \"My dear, you flatter me. I certainly _have_ had my share of beauty, but\n",
      "Net: \"My dear, you flatter me. I certainly _have_ had my share of beauty, but\n",
      "Txt: I do not pretend to be anything extraordinary now. When a woman has five\n",
      "Net: et an e achat a. Inertyou he sti  oe sandiserehe\n",
      "Txt: grown-up daughters, she ought to give over thinking of her own beauty.\"\n",
      "Net: grown-up daughters, she ought to give over thinking of her own beauty.\"\n",
      "Txt: \"In such cases, a woman has not often much beauty to think of.\"\n",
      "Net: \"In such cases, a woman has not often much beauty to think of.\"\n",
      "Txt: \"But, my dear, you must indeed go and see Mr. Bingley when he comes into\n",
      "Net: \"But, my dear, you must indeed go and see Mr. Bingley when he comes into\n",
      "Txt: the neighbourhood.\"\n",
      "Net: the neighbourhood.\"\n",
      "Txt: \"It is more than I engage for, I assure you.\"\n",
      "Net: \"It is more than I engage for, I assure you.\"\n",
      "Txt: \"But consider your daughters. Only think what an establishment it would\n",
      "Net: \"But consider your daughters. Only think what an establishment it would\n",
      "Txt: be for one of them. Sir William and Lady Lucas are determined to\n",
      "Net: be for one of them. Sir William and Lady Lucas are determined to\n",
      "Txt: go, merely on that account, for in general, you know, they visit no\n",
      "Net: go, merely on that account, for in general, you know, they visit no\n",
      "Txt: newcomers. Indeed you must go, for it will be impossible for _us_ to\n",
      "Net: newcomers. Indeed you must go, for it will be impossible for _us_ to\n",
      "Txt: visit him if you do not.\"\n",
      "Net: visit him if you do not.\"\n",
      "Txt: \"You are over-scrupulous, surely. I dare say Mr. Bingley will be very\n",
      "Net: \"You are over-scrupulous, surely. I dare say Mr. Bingley will be very\n",
      "Txt: glad to see you; and I will send a few lines by you to assure him of my\n",
      "Net: glad to see you; and I will send a few lines by you to assure him of my\n"
     ]
    }
   ],
   "source": [
    "# Iterate - teacher forcing through each line\n",
    "for i in range(0,nlines):\n",
    "    # Get the gestalt context for the input sequence(s)\n",
    "    context = encoder_model.predict(X[i:i+1,:,:])\n",
    "    # Prep a starting token...\n",
    "    token = encode_seq('',stoi)[0].reshape(1,1,len(stoi))\n",
    "    result = np.zeros([1,postY.shape[1],postY.shape[2]])\n",
    "    for x in range(postY.shape[1]):\n",
    "        out,h,c = decoder_model.predict([token]+context)\n",
    "        token = np.round(out)\n",
    "        context = [h,c]\n",
    "        result[:,x,:] = token\n",
    "    print('Txt:',text[i+1])\n",
    "    print('Net:',decode_seq(result[0,:,:],itos))\n"
   ]
  },
  {
   "cell_type": "code",
   "execution_count": 27,
   "metadata": {},
   "outputs": [
    {
     "name": "stdout",
     "output_type": "stream",
     "text": [
      "Txt: of a good fortune, must be in want of a wife.\n",
      "Net: of a good fortune, must be in want of a wife.\n",
      "Txt: However little known the feelings or views of such a man may be on his\n",
      "Net: Howerltt tken whee and sit hive ofre i  emut nnto\n",
      "Txt: first entering a neighbourhood, this truth is so well fixed in the minds\n",
      "Net: first entering a neighbourhood, this truth is so well fixed in the minds\n",
      "Txt: of the surrounding families, that he is considered the rightful property\n",
      "Net: of the surrounding families, that he is considered the rightful property\n",
      "Txt: of some one or other of their daughters.\n",
      "Net: of some one or other of their daughters.\n",
      "Txt: \"My dear Mr. Bennet,\" said his lady to him one day, \"have you heard that\n",
      "Net: go, mere on thet ickeonthttri hat le ine etile u\n",
      "Txt: Netherfield Park is let at last?\"\n",
      "Net: newcomers. Indeed you must go, for it will be impossible for _us_ to\n",
      "Txt: Mr. Bennet replied that he had not.\n",
      "Net: visit him if you do not.\"\n",
      "Txt: \"But it is,\" returned she; \"for Mrs. Long has just been here, and she\n",
      "Net: \"You are over-scrupoussurely. I dare yo  are ioy bute\n",
      "Txt: told me all about it.\"\n",
      "Net: glad to see you; and I will send a few lines by you to assure him of my\n",
      "Txt: Mr. Bennet made no answer.\n",
      "Net: ond a at es bowan tofonne t e.\"\n",
      "Txt: \"Do you not want to know who has taken it?\" cried his wife impatiently.\n",
      "Net: \"I sea  hoces on fo ha ntee  file bera, has ay uuhh \n",
      "Txt: \"_You_ want to tell me, and I have no objection to hearing it.\"\n",
      "Net: ma o e al o thing o intereitis beey of i surt iel r\n",
      "Txt: This was invitation enough.\n",
      "Net:  on oo  otote. forighaty i la sey bo hesove o\n",
      "Txt: \"Why, my dear, you must know, Mrs. Long says that Netherfield is taken\n",
      "Net: \"In such coes owhe an ot nke, of his bey ute, of re.\n",
      "Txt: by a young man of large fortune from the north of England; that he came\n",
      "Net: \"But, my dear, you must indeed go and see Mr. Bingley when he comes into\n",
      "Txt: down on Monday in a chaise and four to see the place, and was so much\n",
      "Net: the neighbourhood.\"\n",
      "Txt: delighted with it, that he agreed with Mr. Morris immediately; that he\n",
      "Net: s make a os of ul  sa tingofrrou housryt in e ared o\n",
      "Txt: is to take possession before Michaelmas, and some of his servants are to\n",
      "Net:  thet ind teringhe argond ser o hea thae ar, oe\n",
      "Txt: be in the house by the end of next week.\"\n",
      "Net: r an eht ar i lingfrigerryou hio  out n\n",
      "Txt: \"What is his name?\"\n",
      "Net: r in te tiely to n hnge as a eersbout  oo fo o  aresof\n",
      "Txt: \"Bingley.\"\n",
      "Net: o thi huhoedin feid te he bt, fis e rittln\n",
      "Txt: \"Is he married or single?\"\n",
      "Net: s o a o  il an to e wefil i  f o aron \n",
      "Txt: \"Oh! Single, my dear, to be sure! A single man of large fortune; four or\n",
      "Net:  in te ount i biteind tareor urte. Mrin he wan e athine or\n",
      "Txt: five thousand a year. What a fine thing for our girls!\"\n",
      "Net: \"I that hs se ine betttll se reronge o sha  o asenf\n",
      "Txt: \"How so? How can it affect them?\"\n",
      "Net: go dat ie, s tking e Mrniy he are oon bet\n",
      "Txt: \"My dear Mr. Bennet,\" replied his wife, \"how can you be so tiresome! You\n",
      "Net:  in ous it on he forelng ereyoua syie a thak\n",
      "Txt: must know that I am thinking of his marrying one of them.\"\n",
      "Net: \"Is that hes seding n settlang there ust ri, \"have  oo sbe\n",
      "Txt: \"Is that his design in settling here?\"\n",
      "Net: ma go  ael o beuth. e siel ant a h\n",
      "Txt: \"Design! Nonsense, how can you talk so! But it is very likely that he\n",
      "Net: down on Monday in a chaise and four to see the place, and was so much\n",
      "Txt: _may_ fall in love with one of them, and therefore you must visit him as\n",
      "Net: delighted with it, that he agreed with Mr. Morris immediately; that he\n",
      "Txt: soon as he comes.\"\n",
      "Net: is to take possession before Michaelmas, and some of his servants are to\n",
      "Txt: \"I see no occasion for that. You and the girls may go, or you may send\n",
      "Net: be in the house by the end of next week.\"\n",
      "Txt: them by themselves, which perhaps will be still better, for as you are\n",
      "Net: \"t  he anee nbeth o his nnt ee oo  asur o erito\n",
      "Txt: as handsome as any of them, Mr. Bingley may like you the best of the\n",
      "Net:  ou has tee ime ha now fo  hemscind the iil  stin, of ur ir\n",
      "Txt: party.\"\n",
      "Net: gwnou daa yy us chatind an da noer teelamsbst\n",
      "Txt: \"My dear, you flatter me. I certainly _have_ had my share of beauty, but\n",
      "Net: \"In such cases, a woman has not often much beauty to think of.\"\n",
      "Txt: I do not pretend to be anything extraordinary now. When a woman has five\n",
      "Net: \"But, my dear, you must indeed go and see Mr. Bingley when he comes into\n",
      "Txt: grown-up daughters, she ought to give over thinking of her own beauty.\"\n",
      "Net: the neighbourhood.\"\n",
      "Txt: \"In such cases, a woman has not often much beauty to think of.\"\n",
      "Net: s make a os of ul  sa tingofrrou housryt in e ared o\n",
      "Txt: \"But, my dear, you must indeed go and see Mr. Bingley when he comes into\n",
      "Net:  thet ind teringhe argond ser o hea thae ar, oe\n",
      "Txt: the neighbourhood.\"\n",
      "Net: r an eht ar i lingfrigerryou hio  out n\n",
      "Txt: \"It is more than I engage for, I assure you.\"\n",
      "Net: r in te tiely to n hnge as a eersbout  oo fo o  aresof\n",
      "Txt: \"But consider your daughters. Only think what an establishment it would\n",
      "Net: o thi huhoedin feid te he bt, fis e rittln\n",
      "Txt: be for one of them. Sir William and Lady Lucas are determined to\n",
      "Net: s o a o  il an to e wefil i  f o aron \n",
      "Txt: go, merely on that account, for in general, you know, they visit no\n",
      "Net:  in te ount i biteind tareor urte. Mrin he wan e athine or\n",
      "Txt: newcomers. Indeed you must go, for it will be impossible for _us_ to\n",
      "Net: \"I that hs se ine betttll se reronge o sha  o asenf\n",
      "Txt: visit him if you do not.\"\n",
      "Net: go dat ie, s tking e Mrniy he are oon bet\n",
      "Txt: \"You are over-scrupulous, surely. I dare say Mr. Bingley will be very\n",
      "Net:  in ous it on he forelng ereyoua syie a thak\n",
      "Txt: glad to see you; and I will send a few lines by you to assure him of my\n",
      "Net: \"Is that hes seding n settlang there ust ri, \"have  oo sbe\n"
     ]
    }
   ],
   "source": [
    "# Iterate - but no teaching forcing past first line...\n",
    "# Get the gestalt context for the input sequence\n",
    "i = 0\n",
    "context = encoder_model.predict(X[i:i+1,:,:])\n",
    "for i in range(0,nlines):\n",
    "    # Prep a starting token...\n",
    "    token = encode_seq('',stoi)[0].reshape(1,1,len(stoi))\n",
    "    result = np.zeros([1,postY.shape[1],postY.shape[2]])\n",
    "    for x in range(postY.shape[1]):\n",
    "        out,h,c = decoder_model.predict([token]+context)\n",
    "        token = np.round(out)\n",
    "        context = [h,c]\n",
    "        result[:,x,:] = token\n",
    "    print('Txt:',text[i+1])\n",
    "    print('Net:',decode_seq(result[0,:,:],itos))\n",
    "    # CRUCIAL -> keep predicted result instead of teacher forcing!\n",
    "    context = encoder_model.predict(result)\n"
   ]
  },
  {
   "cell_type": "markdown",
   "metadata": {},
   "source": [
    "<h4> Problem 2 </h4>"
   ]
  },
  {
   "cell_type": "code",
   "execution_count": 31,
   "metadata": {},
   "outputs": [],
   "source": [
    "import keras\n",
    "import numpy as np\n",
    "import matplotlib.pyplot as plt\n",
    "%matplotlib inline\n",
    "from keras_tqdm import TQDMNotebookCallback\n",
    "# Visualization\n",
    "from IPython.display import SVG\n",
    "from IPython.display import display\n",
    "from keras.utils.vis_utils import model_to_dot"
   ]
  },
  {
   "cell_type": "code",
   "execution_count": null,
   "metadata": {},
   "outputs": [],
   "source": [
    "# Preprocessing - grab lines from the file\n",
    "with open('/nfshome/sandbox/gutenberg_example/PandP_Jane_Austen.txt', 'r', encoding='utf-8') as f:\n",
    "    lines = f.read().split('\\n')\n",
    "words = []\n",
    "for i in range(len(lines)):\n",
    "    if lines[i] != '':\n",
    "        words = lines[i].split()\n",
    "        text = text + words\n",
    "# Paragraphs are separated by blank\n",
    "# lines -> just drop those lines...\n",
    "#text = []\n",
    "#for i in range(len(lines)):\n",
    " #   if lines[i] != '':\n",
    "  #      text = text + [lines[i]]\n",
    "min_length = max([len(i) for i in text])"
   ]
  },
  {
   "cell_type": "code",
   "execution_count": 32,
   "metadata": {},
   "outputs": [
    {
     "data": {
      "text/plain": [
       "364317"
      ]
     },
     "execution_count": 32,
     "metadata": {},
     "output_type": "execute_result"
    }
   ],
   "source": [
    "len(text)"
   ]
  },
  {
   "cell_type": "code",
   "execution_count": 33,
   "metadata": {},
   "outputs": [
    {
     "data": {
      "text/plain": [
       "30"
      ]
     },
     "execution_count": 33,
     "metadata": {},
     "output_type": "execute_result"
    }
   ],
   "source": [
    "max(len(i) for i in text)+2"
   ]
  },
  {
   "cell_type": "code",
   "execution_count": 34,
   "metadata": {},
   "outputs": [],
   "source": [
    "# Unique characters - precalculated\n",
    "with open('/nfshome/sandbox/gutenberg_example/unique_chars.txt', 'r', encoding='utf-8') as f:\n",
    "    lines = f.read().split()\n",
    "# Integer code to symbol\n",
    "itos = ['','',' ']\n",
    "for i in lines:\n",
    "    itos = itos + [i]\n",
    "# Symbol to integer code\n",
    "stoi = dict()\n",
    "stoi['STOP'] = 0\n",
    "stoi['START'] = 1\n",
    "for i in range(2,len(itos)):\n",
    "    stoi[itos[i]] = i"
   ]
  },
  {
   "cell_type": "code",
   "execution_count": 35,
   "metadata": {},
   "outputs": [
    {
     "data": {
      "text/plain": [
       "71"
      ]
     },
     "execution_count": 35,
     "metadata": {},
     "output_type": "execute_result"
    }
   ],
   "source": [
    "len(itos)"
   ]
  },
  {
   "cell_type": "code",
   "execution_count": 36,
   "metadata": {},
   "outputs": [],
   "source": [
    "def encode_seq(x,mapping,min_length=0):\n",
    "    # String to one-hot\n",
    "    y = [mapping['START']]\n",
    "    for i in list(x):\n",
    "        y = y + [mapping[i]]\n",
    "    y = y + [mapping['STOP']]\n",
    "    # Stop-padding - handled elsewhere...\n",
    "    while len(y) < min_length:\n",
    "        y = y + [mapping['STOP']]\n",
    "    return keras.utils.to_categorical(y,len(mapping))\n",
    "def decode_seq(x,mapping):\n",
    "    # One-hot to string\n",
    "    y = []\n",
    "    for i in x:\n",
    "        y = y + [mapping[np.argmax(i)]]\n",
    "    return ''.join(y)\n"
   ]
  },
  {
   "cell_type": "code",
   "execution_count": 37,
   "metadata": {},
   "outputs": [
    {
     "data": {
      "text/plain": [
       "'It'"
      ]
     },
     "execution_count": 37,
     "metadata": {},
     "output_type": "execute_result"
    }
   ],
   "source": [
    "# An ecoding-decoding cycle on the first line...\n",
    "temp = encode_seq(text[0],stoi)\n",
    "temp = decode_seq(temp,itos)\n",
    "temp"
   ]
  },
  {
   "cell_type": "code",
   "execution_count": 38,
   "metadata": {},
   "outputs": [],
   "source": [
    "# Encode that data\n",
    "dataX = np.ones([len(text),max([len(i) for i in text])+2,len(itos)])*(1.0/len(itos))\n",
    "for i in range(len(text)):\n",
    "    temp = encode_seq(text[i],stoi)\n",
    "    dataX[i,0:len(temp),:] = temp\n",
    "# Not strictly necessary, but I was trying some alternative strategies\n",
    "# earlier and this is worth keeping around...\n",
    "# This will be the same as dataX using this implementation...\n",
    "dataY = np.ones([len(text),max([len(i) for i in text])+2,len(itos)])*(1.0/len(itos))\n",
    "for i in range(len(text)):\n",
    "    temp = encode_seq(text[i],stoi)\n",
    "    dataY[i,0:len(temp),:] = temp\n"
   ]
  },
  {
   "cell_type": "code",
   "execution_count": 39,
   "metadata": {},
   "outputs": [],
   "source": [
    "X = dataX[0:dataX.shape[0]-1,:,:]\n",
    "Y = dataY[1:dataY.shape[0],:,:]\n",
    "preY = Y[:,0:Y.shape[1]-1,:]\n",
    "postY = Y[:,1:Y.shape[1],:]"
   ]
  },
  {
   "cell_type": "code",
   "execution_count": 40,
   "metadata": {},
   "outputs": [
    {
     "name": "stdout",
     "output_type": "stream",
     "text": [
      "(500, 30, 71)\n",
      "(500, 30, 71)\n",
      "(500, 29, 71)\n",
      "(500, 29, 71)\n"
     ]
    }
   ],
   "source": [
    "nlines = 500\n",
    "X = X[0:nlines,:,:]\n",
    "Y = Y[0:nlines,:,:]\n",
    "preY = preY[0:nlines,:,:]\n",
    "postY = postY[0:nlines,:,:]\n",
    "print(X.shape)\n",
    "print(Y.shape)\n",
    "print(preY.shape)\n",
    "print(postY.shape)\n"
   ]
  },
  {
   "cell_type": "code",
   "execution_count": 63,
   "metadata": {},
   "outputs": [
    {
     "ename": "ValueError",
     "evalue": "Initializer for variable lstm_27/kernel/ is from inside a control-flow construct, such as a loop or conditional. When creating a variable inside a loop or conditional, use a lambda as the initializer.",
     "output_type": "error",
     "traceback": [
      "\u001b[0;31m---------------------------------------------------------------------------\u001b[0m",
      "\u001b[0;31mValueError\u001b[0m                                Traceback (most recent call last)",
      "\u001b[0;32m<ipython-input-63-7b84968aaa28>\u001b[0m in \u001b[0;36m<module>\u001b[0;34m\u001b[0m\n\u001b[1;32m      3\u001b[0m \u001b[0mencoder_hidden\u001b[0m \u001b[0;34m=\u001b[0m \u001b[0mkeras\u001b[0m\u001b[0;34m.\u001b[0m\u001b[0mlayers\u001b[0m\u001b[0;34m.\u001b[0m\u001b[0mLSTM\u001b[0m\u001b[0;34m(\u001b[0m\u001b[0mhidden_size\u001b[0m\u001b[0;34m,\u001b[0m \u001b[0mreturn_state\u001b[0m\u001b[0;34m=\u001b[0m\u001b[0;32mTrue\u001b[0m\u001b[0;34m)\u001b[0m\u001b[0;34m\u001b[0m\u001b[0;34m\u001b[0m\u001b[0m\n\u001b[1;32m      4\u001b[0m \u001b[0;31m# Tie the hidden layer to the input layer (passed in)\u001b[0m\u001b[0;34m\u001b[0m\u001b[0;34m\u001b[0m\u001b[0;34m\u001b[0m\u001b[0m\n\u001b[0;32m----> 5\u001b[0;31m \u001b[0mencoder_output\u001b[0m\u001b[0;34m,\u001b[0m \u001b[0menc_state_h\u001b[0m\u001b[0;34m,\u001b[0m \u001b[0menc_state_c\u001b[0m \u001b[0;34m=\u001b[0m  \u001b[0mencoder_hidden\u001b[0m\u001b[0;34m(\u001b[0m\u001b[0mencoder_input\u001b[0m\u001b[0;34m)\u001b[0m\u001b[0;34m\u001b[0m\u001b[0;34m\u001b[0m\u001b[0m\n\u001b[0m\u001b[1;32m      6\u001b[0m \u001b[0;31m# We discard `encoder_outputs` and only keep the states.\u001b[0m\u001b[0;34m\u001b[0m\u001b[0;34m\u001b[0m\u001b[0;34m\u001b[0m\u001b[0m\n\u001b[1;32m      7\u001b[0m \u001b[0mencoder_states\u001b[0m \u001b[0;34m=\u001b[0m \u001b[0;34m[\u001b[0m\u001b[0menc_state_h\u001b[0m\u001b[0;34m,\u001b[0m \u001b[0menc_state_c\u001b[0m\u001b[0;34m]\u001b[0m\u001b[0;34m\u001b[0m\u001b[0;34m\u001b[0m\u001b[0m\n",
      "\u001b[0;32m/nfshome/apps/python-3.6.7/lib/python3.6/site-packages/keras/layers/recurrent.py\u001b[0m in \u001b[0;36m__call__\u001b[0;34m(self, inputs, initial_state, constants, **kwargs)\u001b[0m\n\u001b[1;32m    530\u001b[0m \u001b[0;34m\u001b[0m\u001b[0m\n\u001b[1;32m    531\u001b[0m         \u001b[0;32mif\u001b[0m \u001b[0minitial_state\u001b[0m \u001b[0;32mis\u001b[0m \u001b[0;32mNone\u001b[0m \u001b[0;32mand\u001b[0m \u001b[0mconstants\u001b[0m \u001b[0;32mis\u001b[0m \u001b[0;32mNone\u001b[0m\u001b[0;34m:\u001b[0m\u001b[0;34m\u001b[0m\u001b[0;34m\u001b[0m\u001b[0m\n\u001b[0;32m--> 532\u001b[0;31m             \u001b[0;32mreturn\u001b[0m \u001b[0msuper\u001b[0m\u001b[0;34m(\u001b[0m\u001b[0mRNN\u001b[0m\u001b[0;34m,\u001b[0m \u001b[0mself\u001b[0m\u001b[0;34m)\u001b[0m\u001b[0;34m.\u001b[0m\u001b[0m__call__\u001b[0m\u001b[0;34m(\u001b[0m\u001b[0minputs\u001b[0m\u001b[0;34m,\u001b[0m \u001b[0;34m**\u001b[0m\u001b[0mkwargs\u001b[0m\u001b[0;34m)\u001b[0m\u001b[0;34m\u001b[0m\u001b[0;34m\u001b[0m\u001b[0m\n\u001b[0m\u001b[1;32m    533\u001b[0m \u001b[0;34m\u001b[0m\u001b[0m\n\u001b[1;32m    534\u001b[0m         \u001b[0;31m# If any of `initial_state` or `constants` are specified and are Keras\u001b[0m\u001b[0;34m\u001b[0m\u001b[0;34m\u001b[0m\u001b[0;34m\u001b[0m\u001b[0m\n",
      "\u001b[0;32m/nfshome/apps/python-3.6.7/lib/python3.6/site-packages/keras/engine/base_layer.py\u001b[0m in \u001b[0;36m__call__\u001b[0;34m(self, inputs, **kwargs)\u001b[0m\n\u001b[1;32m    429\u001b[0m                                          \u001b[0;34m'You can build it manually via: '\u001b[0m\u001b[0;34m\u001b[0m\u001b[0;34m\u001b[0m\u001b[0m\n\u001b[1;32m    430\u001b[0m                                          '`layer.build(batch_input_shape)`')\n\u001b[0;32m--> 431\u001b[0;31m                 \u001b[0mself\u001b[0m\u001b[0;34m.\u001b[0m\u001b[0mbuild\u001b[0m\u001b[0;34m(\u001b[0m\u001b[0munpack_singleton\u001b[0m\u001b[0;34m(\u001b[0m\u001b[0minput_shapes\u001b[0m\u001b[0;34m)\u001b[0m\u001b[0;34m)\u001b[0m\u001b[0;34m\u001b[0m\u001b[0;34m\u001b[0m\u001b[0m\n\u001b[0m\u001b[1;32m    432\u001b[0m                 \u001b[0mself\u001b[0m\u001b[0;34m.\u001b[0m\u001b[0mbuilt\u001b[0m \u001b[0;34m=\u001b[0m \u001b[0;32mTrue\u001b[0m\u001b[0;34m\u001b[0m\u001b[0;34m\u001b[0m\u001b[0m\n\u001b[1;32m    433\u001b[0m \u001b[0;34m\u001b[0m\u001b[0m\n",
      "\u001b[0;32m/nfshome/apps/python-3.6.7/lib/python3.6/site-packages/keras/layers/recurrent.py\u001b[0m in \u001b[0;36mbuild\u001b[0;34m(self, input_shape)\u001b[0m\n\u001b[1;32m    491\u001b[0m                 \u001b[0mself\u001b[0m\u001b[0;34m.\u001b[0m\u001b[0mcell\u001b[0m\u001b[0;34m.\u001b[0m\u001b[0mbuild\u001b[0m\u001b[0;34m(\u001b[0m\u001b[0;34m[\u001b[0m\u001b[0mstep_input_shape\u001b[0m\u001b[0;34m]\u001b[0m \u001b[0;34m+\u001b[0m \u001b[0mconstants_shape\u001b[0m\u001b[0;34m)\u001b[0m\u001b[0;34m\u001b[0m\u001b[0;34m\u001b[0m\u001b[0m\n\u001b[1;32m    492\u001b[0m             \u001b[0;32melse\u001b[0m\u001b[0;34m:\u001b[0m\u001b[0;34m\u001b[0m\u001b[0;34m\u001b[0m\u001b[0m\n\u001b[0;32m--> 493\u001b[0;31m                 \u001b[0mself\u001b[0m\u001b[0;34m.\u001b[0m\u001b[0mcell\u001b[0m\u001b[0;34m.\u001b[0m\u001b[0mbuild\u001b[0m\u001b[0;34m(\u001b[0m\u001b[0mstep_input_shape\u001b[0m\u001b[0;34m)\u001b[0m\u001b[0;34m\u001b[0m\u001b[0;34m\u001b[0m\u001b[0m\n\u001b[0m\u001b[1;32m    494\u001b[0m \u001b[0;34m\u001b[0m\u001b[0m\n\u001b[1;32m    495\u001b[0m         \u001b[0;31m# set or validate state_spec\u001b[0m\u001b[0;34m\u001b[0m\u001b[0;34m\u001b[0m\u001b[0;34m\u001b[0m\u001b[0m\n",
      "\u001b[0;32m/nfshome/apps/python-3.6.7/lib/python3.6/site-packages/keras/layers/recurrent.py\u001b[0m in \u001b[0;36mbuild\u001b[0;34m(self, input_shape)\u001b[0m\n\u001b[1;32m   1866\u001b[0m                                       \u001b[0minitializer\u001b[0m\u001b[0;34m=\u001b[0m\u001b[0mself\u001b[0m\u001b[0;34m.\u001b[0m\u001b[0mkernel_initializer\u001b[0m\u001b[0;34m,\u001b[0m\u001b[0;34m\u001b[0m\u001b[0;34m\u001b[0m\u001b[0m\n\u001b[1;32m   1867\u001b[0m                                       \u001b[0mregularizer\u001b[0m\u001b[0;34m=\u001b[0m\u001b[0mself\u001b[0m\u001b[0;34m.\u001b[0m\u001b[0mkernel_regularizer\u001b[0m\u001b[0;34m,\u001b[0m\u001b[0;34m\u001b[0m\u001b[0;34m\u001b[0m\u001b[0m\n\u001b[0;32m-> 1868\u001b[0;31m                                       constraint=self.kernel_constraint)\n\u001b[0m\u001b[1;32m   1869\u001b[0m         self.recurrent_kernel = self.add_weight(\n\u001b[1;32m   1870\u001b[0m             \u001b[0mshape\u001b[0m\u001b[0;34m=\u001b[0m\u001b[0;34m(\u001b[0m\u001b[0mself\u001b[0m\u001b[0;34m.\u001b[0m\u001b[0munits\u001b[0m\u001b[0;34m,\u001b[0m \u001b[0mself\u001b[0m\u001b[0;34m.\u001b[0m\u001b[0munits\u001b[0m \u001b[0;34m*\u001b[0m \u001b[0;36m4\u001b[0m\u001b[0;34m)\u001b[0m\u001b[0;34m,\u001b[0m\u001b[0;34m\u001b[0m\u001b[0;34m\u001b[0m\u001b[0m\n",
      "\u001b[0;32m/nfshome/apps/python-3.6.7/lib/python3.6/site-packages/keras/legacy/interfaces.py\u001b[0m in \u001b[0;36mwrapper\u001b[0;34m(*args, **kwargs)\u001b[0m\n\u001b[1;32m     89\u001b[0m                 warnings.warn('Update your `' + object_name + '` call to the ' +\n\u001b[1;32m     90\u001b[0m                               'Keras 2 API: ' + signature, stacklevel=2)\n\u001b[0;32m---> 91\u001b[0;31m             \u001b[0;32mreturn\u001b[0m \u001b[0mfunc\u001b[0m\u001b[0;34m(\u001b[0m\u001b[0;34m*\u001b[0m\u001b[0margs\u001b[0m\u001b[0;34m,\u001b[0m \u001b[0;34m**\u001b[0m\u001b[0mkwargs\u001b[0m\u001b[0;34m)\u001b[0m\u001b[0;34m\u001b[0m\u001b[0;34m\u001b[0m\u001b[0m\n\u001b[0m\u001b[1;32m     92\u001b[0m         \u001b[0mwrapper\u001b[0m\u001b[0;34m.\u001b[0m\u001b[0m_original_function\u001b[0m \u001b[0;34m=\u001b[0m \u001b[0mfunc\u001b[0m\u001b[0;34m\u001b[0m\u001b[0;34m\u001b[0m\u001b[0m\n\u001b[1;32m     93\u001b[0m         \u001b[0;32mreturn\u001b[0m \u001b[0mwrapper\u001b[0m\u001b[0;34m\u001b[0m\u001b[0;34m\u001b[0m\u001b[0m\n",
      "\u001b[0;32m/nfshome/apps/python-3.6.7/lib/python3.6/site-packages/keras/engine/base_layer.py\u001b[0m in \u001b[0;36madd_weight\u001b[0;34m(self, name, shape, dtype, initializer, regularizer, trainable, constraint)\u001b[0m\n\u001b[1;32m    250\u001b[0m                             \u001b[0mdtype\u001b[0m\u001b[0;34m=\u001b[0m\u001b[0mdtype\u001b[0m\u001b[0;34m,\u001b[0m\u001b[0;34m\u001b[0m\u001b[0;34m\u001b[0m\u001b[0m\n\u001b[1;32m    251\u001b[0m                             \u001b[0mname\u001b[0m\u001b[0;34m=\u001b[0m\u001b[0mname\u001b[0m\u001b[0;34m,\u001b[0m\u001b[0;34m\u001b[0m\u001b[0;34m\u001b[0m\u001b[0m\n\u001b[0;32m--> 252\u001b[0;31m                             constraint=constraint)\n\u001b[0m\u001b[1;32m    253\u001b[0m         \u001b[0;32mif\u001b[0m \u001b[0mregularizer\u001b[0m \u001b[0;32mis\u001b[0m \u001b[0;32mnot\u001b[0m \u001b[0;32mNone\u001b[0m\u001b[0;34m:\u001b[0m\u001b[0;34m\u001b[0m\u001b[0;34m\u001b[0m\u001b[0m\n\u001b[1;32m    254\u001b[0m             \u001b[0;32mwith\u001b[0m \u001b[0mK\u001b[0m\u001b[0;34m.\u001b[0m\u001b[0mname_scope\u001b[0m\u001b[0;34m(\u001b[0m\u001b[0;34m'weight_regularizer'\u001b[0m\u001b[0;34m)\u001b[0m\u001b[0;34m:\u001b[0m\u001b[0;34m\u001b[0m\u001b[0;34m\u001b[0m\u001b[0m\n",
      "\u001b[0;32m/nfshome/apps/python-3.6.7/lib/python3.6/site-packages/keras/backend/tensorflow_backend.py\u001b[0m in \u001b[0;36mvariable\u001b[0;34m(value, dtype, name, constraint)\u001b[0m\n\u001b[1;32m    400\u001b[0m         \u001b[0mv\u001b[0m\u001b[0;34m.\u001b[0m\u001b[0m_uses_learning_phase\u001b[0m \u001b[0;34m=\u001b[0m \u001b[0;32mFalse\u001b[0m\u001b[0;34m\u001b[0m\u001b[0;34m\u001b[0m\u001b[0m\n\u001b[1;32m    401\u001b[0m         \u001b[0;32mreturn\u001b[0m \u001b[0mv\u001b[0m\u001b[0;34m\u001b[0m\u001b[0;34m\u001b[0m\u001b[0m\n\u001b[0;32m--> 402\u001b[0;31m     \u001b[0mv\u001b[0m \u001b[0;34m=\u001b[0m \u001b[0mtf\u001b[0m\u001b[0;34m.\u001b[0m\u001b[0mVariable\u001b[0m\u001b[0;34m(\u001b[0m\u001b[0mvalue\u001b[0m\u001b[0;34m,\u001b[0m \u001b[0mdtype\u001b[0m\u001b[0;34m=\u001b[0m\u001b[0mtf\u001b[0m\u001b[0;34m.\u001b[0m\u001b[0mas_dtype\u001b[0m\u001b[0;34m(\u001b[0m\u001b[0mdtype\u001b[0m\u001b[0;34m)\u001b[0m\u001b[0;34m,\u001b[0m \u001b[0mname\u001b[0m\u001b[0;34m=\u001b[0m\u001b[0mname\u001b[0m\u001b[0;34m)\u001b[0m\u001b[0;34m\u001b[0m\u001b[0;34m\u001b[0m\u001b[0m\n\u001b[0m\u001b[1;32m    403\u001b[0m     \u001b[0;32mif\u001b[0m \u001b[0misinstance\u001b[0m\u001b[0;34m(\u001b[0m\u001b[0mvalue\u001b[0m\u001b[0;34m,\u001b[0m \u001b[0mnp\u001b[0m\u001b[0;34m.\u001b[0m\u001b[0mndarray\u001b[0m\u001b[0;34m)\u001b[0m\u001b[0;34m:\u001b[0m\u001b[0;34m\u001b[0m\u001b[0;34m\u001b[0m\u001b[0m\n\u001b[1;32m    404\u001b[0m         \u001b[0mv\u001b[0m\u001b[0;34m.\u001b[0m\u001b[0m_keras_shape\u001b[0m \u001b[0;34m=\u001b[0m \u001b[0mvalue\u001b[0m\u001b[0;34m.\u001b[0m\u001b[0mshape\u001b[0m\u001b[0;34m\u001b[0m\u001b[0;34m\u001b[0m\u001b[0m\n",
      "\u001b[0;32m/nfshome/apps/python-3.6.7/lib/python3.6/site-packages/tensorflow/python/ops/variables.py\u001b[0m in \u001b[0;36m__call__\u001b[0;34m(cls, *args, **kwargs)\u001b[0m\n\u001b[1;32m    143\u001b[0m   \u001b[0;32mdef\u001b[0m \u001b[0m__call__\u001b[0m\u001b[0;34m(\u001b[0m\u001b[0mcls\u001b[0m\u001b[0;34m,\u001b[0m \u001b[0;34m*\u001b[0m\u001b[0margs\u001b[0m\u001b[0;34m,\u001b[0m \u001b[0;34m**\u001b[0m\u001b[0mkwargs\u001b[0m\u001b[0;34m)\u001b[0m\u001b[0;34m:\u001b[0m\u001b[0;34m\u001b[0m\u001b[0;34m\u001b[0m\u001b[0m\n\u001b[1;32m    144\u001b[0m     \u001b[0;32mif\u001b[0m \u001b[0mcls\u001b[0m \u001b[0;32mis\u001b[0m \u001b[0mVariable\u001b[0m\u001b[0;34m:\u001b[0m\u001b[0;34m\u001b[0m\u001b[0;34m\u001b[0m\u001b[0m\n\u001b[0;32m--> 145\u001b[0;31m       \u001b[0;32mreturn\u001b[0m \u001b[0mcls\u001b[0m\u001b[0;34m.\u001b[0m\u001b[0m_variable_call\u001b[0m\u001b[0;34m(\u001b[0m\u001b[0;34m*\u001b[0m\u001b[0margs\u001b[0m\u001b[0;34m,\u001b[0m \u001b[0;34m**\u001b[0m\u001b[0mkwargs\u001b[0m\u001b[0;34m)\u001b[0m\u001b[0;34m\u001b[0m\u001b[0;34m\u001b[0m\u001b[0m\n\u001b[0m\u001b[1;32m    146\u001b[0m     \u001b[0;32melse\u001b[0m\u001b[0;34m:\u001b[0m\u001b[0;34m\u001b[0m\u001b[0;34m\u001b[0m\u001b[0m\n\u001b[1;32m    147\u001b[0m       \u001b[0;32mreturn\u001b[0m \u001b[0msuper\u001b[0m\u001b[0;34m(\u001b[0m\u001b[0mVariableMetaclass\u001b[0m\u001b[0;34m,\u001b[0m \u001b[0mcls\u001b[0m\u001b[0;34m)\u001b[0m\u001b[0;34m.\u001b[0m\u001b[0m__call__\u001b[0m\u001b[0;34m(\u001b[0m\u001b[0;34m*\u001b[0m\u001b[0margs\u001b[0m\u001b[0;34m,\u001b[0m \u001b[0;34m**\u001b[0m\u001b[0mkwargs\u001b[0m\u001b[0;34m)\u001b[0m\u001b[0;34m\u001b[0m\u001b[0;34m\u001b[0m\u001b[0m\n",
      "\u001b[0;32m/nfshome/apps/python-3.6.7/lib/python3.6/site-packages/tensorflow/python/ops/variables.py\u001b[0m in \u001b[0;36m_variable_call\u001b[0;34m(cls, initial_value, trainable, collections, validate_shape, caching_device, name, variable_def, dtype, expected_shape, import_scope, constraint, use_resource, synchronization, aggregation)\u001b[0m\n\u001b[1;32m    139\u001b[0m         \u001b[0muse_resource\u001b[0m\u001b[0;34m=\u001b[0m\u001b[0muse_resource\u001b[0m\u001b[0;34m,\u001b[0m\u001b[0;34m\u001b[0m\u001b[0;34m\u001b[0m\u001b[0m\n\u001b[1;32m    140\u001b[0m         \u001b[0msynchronization\u001b[0m\u001b[0;34m=\u001b[0m\u001b[0msynchronization\u001b[0m\u001b[0;34m,\u001b[0m\u001b[0;34m\u001b[0m\u001b[0;34m\u001b[0m\u001b[0m\n\u001b[0;32m--> 141\u001b[0;31m         aggregation=aggregation)\n\u001b[0m\u001b[1;32m    142\u001b[0m \u001b[0;34m\u001b[0m\u001b[0m\n\u001b[1;32m    143\u001b[0m   \u001b[0;32mdef\u001b[0m \u001b[0m__call__\u001b[0m\u001b[0;34m(\u001b[0m\u001b[0mcls\u001b[0m\u001b[0;34m,\u001b[0m \u001b[0;34m*\u001b[0m\u001b[0margs\u001b[0m\u001b[0;34m,\u001b[0m \u001b[0;34m**\u001b[0m\u001b[0mkwargs\u001b[0m\u001b[0;34m)\u001b[0m\u001b[0;34m:\u001b[0m\u001b[0;34m\u001b[0m\u001b[0;34m\u001b[0m\u001b[0m\n",
      "\u001b[0;32m/nfshome/apps/python-3.6.7/lib/python3.6/site-packages/tensorflow/python/ops/variables.py\u001b[0m in \u001b[0;36m<lambda>\u001b[0;34m(**kwargs)\u001b[0m\n\u001b[1;32m    118\u001b[0m                      aggregation=VariableAggregation.NONE):\n\u001b[1;32m    119\u001b[0m     \u001b[0;34m\"\"\"Call on Variable class. Useful to force the signature.\"\"\"\u001b[0m\u001b[0;34m\u001b[0m\u001b[0;34m\u001b[0m\u001b[0m\n\u001b[0;32m--> 120\u001b[0;31m     \u001b[0mprevious_getter\u001b[0m \u001b[0;34m=\u001b[0m \u001b[0;32mlambda\u001b[0m \u001b[0;34m**\u001b[0m\u001b[0mkwargs\u001b[0m\u001b[0;34m:\u001b[0m \u001b[0mdefault_variable_creator\u001b[0m\u001b[0;34m(\u001b[0m\u001b[0;32mNone\u001b[0m\u001b[0;34m,\u001b[0m \u001b[0;34m**\u001b[0m\u001b[0mkwargs\u001b[0m\u001b[0;34m)\u001b[0m\u001b[0;34m\u001b[0m\u001b[0;34m\u001b[0m\u001b[0m\n\u001b[0m\u001b[1;32m    121\u001b[0m     \u001b[0;32mfor\u001b[0m \u001b[0mgetter\u001b[0m \u001b[0;32min\u001b[0m \u001b[0mops\u001b[0m\u001b[0;34m.\u001b[0m\u001b[0mget_default_graph\u001b[0m\u001b[0;34m(\u001b[0m\u001b[0;34m)\u001b[0m\u001b[0;34m.\u001b[0m\u001b[0m_variable_creator_stack\u001b[0m\u001b[0;34m:\u001b[0m  \u001b[0;31m# pylint: disable=protected-access\u001b[0m\u001b[0;34m\u001b[0m\u001b[0;34m\u001b[0m\u001b[0m\n\u001b[1;32m    122\u001b[0m       \u001b[0mprevious_getter\u001b[0m \u001b[0;34m=\u001b[0m \u001b[0m_make_getter\u001b[0m\u001b[0;34m(\u001b[0m\u001b[0mgetter\u001b[0m\u001b[0;34m,\u001b[0m \u001b[0mprevious_getter\u001b[0m\u001b[0;34m)\u001b[0m\u001b[0;34m\u001b[0m\u001b[0;34m\u001b[0m\u001b[0m\n",
      "\u001b[0;32m/nfshome/apps/python-3.6.7/lib/python3.6/site-packages/tensorflow/python/ops/variable_scope.py\u001b[0m in \u001b[0;36mdefault_variable_creator\u001b[0;34m(next_creator, **kwargs)\u001b[0m\n\u001b[1;32m   2439\u001b[0m         \u001b[0mcaching_device\u001b[0m\u001b[0;34m=\u001b[0m\u001b[0mcaching_device\u001b[0m\u001b[0;34m,\u001b[0m \u001b[0mname\u001b[0m\u001b[0;34m=\u001b[0m\u001b[0mname\u001b[0m\u001b[0;34m,\u001b[0m \u001b[0mdtype\u001b[0m\u001b[0;34m=\u001b[0m\u001b[0mdtype\u001b[0m\u001b[0;34m,\u001b[0m\u001b[0;34m\u001b[0m\u001b[0;34m\u001b[0m\u001b[0m\n\u001b[1;32m   2440\u001b[0m         \u001b[0mconstraint\u001b[0m\u001b[0;34m=\u001b[0m\u001b[0mconstraint\u001b[0m\u001b[0;34m,\u001b[0m \u001b[0mvariable_def\u001b[0m\u001b[0;34m=\u001b[0m\u001b[0mvariable_def\u001b[0m\u001b[0;34m,\u001b[0m\u001b[0;34m\u001b[0m\u001b[0;34m\u001b[0m\u001b[0m\n\u001b[0;32m-> 2441\u001b[0;31m         expected_shape=expected_shape, import_scope=import_scope)\n\u001b[0m\u001b[1;32m   2442\u001b[0m \u001b[0;34m\u001b[0m\u001b[0m\n\u001b[1;32m   2443\u001b[0m \u001b[0;34m\u001b[0m\u001b[0m\n",
      "\u001b[0;32m/nfshome/apps/python-3.6.7/lib/python3.6/site-packages/tensorflow/python/ops/variables.py\u001b[0m in \u001b[0;36m__call__\u001b[0;34m(cls, *args, **kwargs)\u001b[0m\n\u001b[1;32m    145\u001b[0m       \u001b[0;32mreturn\u001b[0m \u001b[0mcls\u001b[0m\u001b[0;34m.\u001b[0m\u001b[0m_variable_call\u001b[0m\u001b[0;34m(\u001b[0m\u001b[0;34m*\u001b[0m\u001b[0margs\u001b[0m\u001b[0;34m,\u001b[0m \u001b[0;34m**\u001b[0m\u001b[0mkwargs\u001b[0m\u001b[0;34m)\u001b[0m\u001b[0;34m\u001b[0m\u001b[0;34m\u001b[0m\u001b[0m\n\u001b[1;32m    146\u001b[0m     \u001b[0;32melse\u001b[0m\u001b[0;34m:\u001b[0m\u001b[0;34m\u001b[0m\u001b[0;34m\u001b[0m\u001b[0m\n\u001b[0;32m--> 147\u001b[0;31m       \u001b[0;32mreturn\u001b[0m \u001b[0msuper\u001b[0m\u001b[0;34m(\u001b[0m\u001b[0mVariableMetaclass\u001b[0m\u001b[0;34m,\u001b[0m \u001b[0mcls\u001b[0m\u001b[0;34m)\u001b[0m\u001b[0;34m.\u001b[0m\u001b[0m__call__\u001b[0m\u001b[0;34m(\u001b[0m\u001b[0;34m*\u001b[0m\u001b[0margs\u001b[0m\u001b[0;34m,\u001b[0m \u001b[0;34m**\u001b[0m\u001b[0mkwargs\u001b[0m\u001b[0;34m)\u001b[0m\u001b[0;34m\u001b[0m\u001b[0;34m\u001b[0m\u001b[0m\n\u001b[0m\u001b[1;32m    148\u001b[0m \u001b[0;34m\u001b[0m\u001b[0m\n\u001b[1;32m    149\u001b[0m \u001b[0;34m\u001b[0m\u001b[0m\n",
      "\u001b[0;32m/nfshome/apps/python-3.6.7/lib/python3.6/site-packages/tensorflow/python/ops/variables.py\u001b[0m in \u001b[0;36m__init__\u001b[0;34m(self, initial_value, trainable, collections, validate_shape, caching_device, name, variable_def, dtype, expected_shape, import_scope, constraint)\u001b[0m\n\u001b[1;32m   1102\u001b[0m           \u001b[0mdtype\u001b[0m\u001b[0;34m=\u001b[0m\u001b[0mdtype\u001b[0m\u001b[0;34m,\u001b[0m\u001b[0;34m\u001b[0m\u001b[0;34m\u001b[0m\u001b[0m\n\u001b[1;32m   1103\u001b[0m           \u001b[0mexpected_shape\u001b[0m\u001b[0;34m=\u001b[0m\u001b[0mexpected_shape\u001b[0m\u001b[0;34m,\u001b[0m\u001b[0;34m\u001b[0m\u001b[0;34m\u001b[0m\u001b[0m\n\u001b[0;32m-> 1104\u001b[0;31m           constraint=constraint)\n\u001b[0m\u001b[1;32m   1105\u001b[0m \u001b[0;34m\u001b[0m\u001b[0m\n\u001b[1;32m   1106\u001b[0m   \u001b[0;32mdef\u001b[0m \u001b[0m__repr__\u001b[0m\u001b[0;34m(\u001b[0m\u001b[0mself\u001b[0m\u001b[0;34m)\u001b[0m\u001b[0;34m:\u001b[0m\u001b[0;34m\u001b[0m\u001b[0;34m\u001b[0m\u001b[0m\n",
      "\u001b[0;32m/nfshome/apps/python-3.6.7/lib/python3.6/site-packages/tensorflow/python/ops/variables.py\u001b[0m in \u001b[0;36m_init_from_args\u001b[0;34m(self, initial_value, trainable, collections, validate_shape, caching_device, name, dtype, expected_shape, constraint)\u001b[0m\n\u001b[1;32m   1229\u001b[0m                 \u001b[0;34m\"construct, such as a loop or conditional. When creating a \"\u001b[0m\u001b[0;34m\u001b[0m\u001b[0;34m\u001b[0m\u001b[0m\n\u001b[1;32m   1230\u001b[0m                 \u001b[0;34m\"variable inside a loop or conditional, use a lambda as the \"\u001b[0m\u001b[0;34m\u001b[0m\u001b[0;34m\u001b[0m\u001b[0m\n\u001b[0;32m-> 1231\u001b[0;31m                 \"initializer.\" % name)\n\u001b[0m\u001b[1;32m   1232\u001b[0m           \u001b[0;31m# pylint: enable=protected-access\u001b[0m\u001b[0;34m\u001b[0m\u001b[0;34m\u001b[0m\u001b[0;34m\u001b[0m\u001b[0m\n\u001b[1;32m   1233\u001b[0m           shape = (self._initial_value.get_shape()\n",
      "\u001b[0;31mValueError\u001b[0m: Initializer for variable lstm_27/kernel/ is from inside a control-flow construct, such as a loop or conditional. When creating a variable inside a loop or conditional, use a lambda as the initializer."
     ]
    }
   ],
   "source": [
    "hidden_size = X.shape[1]*3\n",
    "encoder_input = keras.layers.Input(shape=(None, X.shape[2]))\n",
    "encoder_hidden = keras.layers.LSTM(hidden_size, return_state=True)\n",
    "# Tie the hidden layer to the input layer (passed in)\n",
    "encoder_output, enc_state_h, enc_state_c =  encoder_hidden(encoder_input)\n",
    "# We discard `encoder_outputs` and only keep the states.\n",
    "encoder_states = [enc_state_h, enc_state_c]\n",
    "## Decoder Construction\n",
    "# Set up the decoder, using `encoder_states` as initial state.\n",
    "decoder_input = keras.layers.Input(shape=(None, preY.shape[2]))\n",
    "decoder_hidden = keras.layers.LSTM(hidden_size, return_sequences=True, return_state=True)\n",
    "# Connect hidden to input (also reads from the encoder...)\n",
    "decoder_hidden_output, decoder_state_h, decoder_state_c = decoder_hidden(decoder_input,\n",
    "initial_state=encoder_states)\n",
    "decoder_dense = keras.layers.Dense(postY.shape[2], activation='softmax')\n",
    "# Connect output to hidden\n",
    "decoder_output = decoder_dense(decoder_hidden_output)\n",
    "# 2 input layers and an output layer...\n",
    "# 1. Targets are postY\n",
    "model = keras.Model([encoder_input, decoder_input], decoder_output)\n",
    "model.compile(loss=keras.losses.categorical_crossentropy,\n",
    "optimizer=keras.optimizers.Adam(),\n",
    "metrics=['accuracy'])\n",
    "model.summary()\n",
    "\n",
    "\n",
    "# it had an error that I couldn't save encoder_output since it was in a loop or conditional.\n",
    "# Initializer for variable lstm_27/kernel/ is from inside a control-flow construct, such as a loop or conditional.\n",
    "# When creating a variable inside a loop or conditional, use a lambda as the initializer."
   ]
  },
  {
   "cell_type": "code",
   "execution_count": null,
   "metadata": {},
   "outputs": [],
   "source": []
  }
 ],
 "metadata": {
  "kernelspec": {
   "display_name": "Python 3",
   "language": "python",
   "name": "python3"
  },
  "language_info": {
   "codemirror_mode": {
    "name": "ipython",
    "version": 3
   },
   "file_extension": ".py",
   "mimetype": "text/x-python",
   "name": "python",
   "nbconvert_exporter": "python",
   "pygments_lexer": "ipython3",
   "version": "3.6.7"
  }
 },
 "nbformat": 4,
 "nbformat_minor": 2
}
