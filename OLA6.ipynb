{
 "cells": [
  {
   "cell_type": "markdown",
   "metadata": {},
   "source": [
    "<h3> Richa Phulwani - OLA 6 </h3>"
   ]
  },
  {
   "cell_type": "code",
   "execution_count": 87,
   "metadata": {},
   "outputs": [],
   "source": [
    "import keras\n",
    "from keras import backend as K\n",
    "import numpy as np\n",
    "from keras.preprocessing import image\n",
    "import matplotlib.pyplot as plt\n",
    "from mpl_toolkits.mplot3d import axes3d\n",
    "%matplotlib inline\n",
    "from IPython.display import display"
   ]
  },
  {
   "cell_type": "code",
   "execution_count": 49,
   "metadata": {},
   "outputs": [
    {
     "data": {
      "text/plain": [
       "(100, 100, 100, 3)"
      ]
     },
     "execution_count": 49,
     "metadata": {},
     "output_type": "execute_result"
    }
   ],
   "source": [
    "def grab_image(img_path):\n",
    "    img = image.load_img(img_path, target_size=(100, 100))\n",
    "    x = image.img_to_array(img)\n",
    "    x = np.expand_dims(x, axis=0)\n",
    "    x = preprocess_input(x)\n",
    "    return x\n",
    "for filename in os.listir('/TrashNet-Dataset/glass')\n",
    "\n",
    "x_train = np.concatenate([grab_image('/nfshome/sandbox/xception_example/images/image_%d.JPEG'%(i)) for i in range(100)])\n",
    "x_train = x_train.astype('float32').reshape(x_train.shape)\n",
    "x_train /= 100\n",
    "x_train.shape"
   ]
  },
  {
   "cell_type": "code",
   "execution_count": 50,
   "metadata": {},
   "outputs": [
    {
     "data": {
      "text/plain": [
       "(100, 2)"
      ]
     },
     "execution_count": 50,
     "metadata": {},
     "output_type": "execute_result"
    }
   ],
   "source": [
    "y_train = np.loadtxt('/nfshome/sandbox/xception_example/class_labels.csv')\n",
    "y_train = keras.utils.to_categorical(y_train, len(np.unique(y_train)))\n",
    "\n",
    "y_train.shape"
   ]
  },
  {
   "cell_type": "code",
   "execution_count": 73,
   "metadata": {},
   "outputs": [
    {
     "name": "stdout",
     "output_type": "stream",
     "text": [
      "_________________________________________________________________\n",
      "Layer (type)                 Output Shape              Param #   \n",
      "=================================================================\n",
      "conv2d_41 (Conv2D)           (None, 93, 93, 64)        12352     \n",
      "_________________________________________________________________\n",
      "conv2d_42 (Conv2D)           (None, 86, 86, 128)       524416    \n",
      "_________________________________________________________________\n",
      "max_pooling2d_19 (MaxPooling (None, 21, 21, 128)       0         \n",
      "_________________________________________________________________\n",
      "dropout_35 (Dropout)         (None, 21, 21, 128)       0         \n",
      "_________________________________________________________________\n",
      "flatten_18 (Flatten)         (None, 56448)             0         \n",
      "_________________________________________________________________\n",
      "dense_35 (Dense)             (None, 128)               7225472   \n",
      "_________________________________________________________________\n",
      "dropout_36 (Dropout)         (None, 128)               0         \n",
      "_________________________________________________________________\n",
      "dense_36 (Dense)             (None, 2)                 258       \n",
      "=================================================================\n",
      "Total params: 7,762,498\n",
      "Trainable params: 7,762,498\n",
      "Non-trainable params: 0\n",
      "_________________________________________________________________\n"
     ]
    }
   ],
   "source": [
    "model = keras.Sequential()\n",
    "# Note the input size (there is only one channel - intensity)\n",
    "# these images... if you are using color images, your would\n",
    "# need to set the last dimension of the input_shape to -3-\n",
    "# above and this would carry over into this cell...\n",
    "model.add(keras.layers.Conv2D(64, kernel_size=(8, 8),\n",
    "activation='relu',\n",
    "input_shape=[x_train.shape[1],\n",
    "x_train.shape[2],\n",
    "x_train.shape[3]]))\n",
    "model.add(keras.layers.Conv2D(128, (8, 8), activation='relu'))\n",
    "model.add(keras.layers.MaxPooling2D(pool_size=(4, 4)))\n",
    "model.add(keras.layers.Dropout(0.25))\n",
    "model.add(keras.layers.Flatten())\n",
    "model.add(keras.layers.Dense(128, activation='relu'))\n",
    "model.add(keras.layers.Dropout(0.5))\n",
    "model.add(keras.layers.Dense(y_train.shape[1], activation='softmax'))\n",
    "model.compile(loss=keras.losses.categorical_crossentropy,\n",
    "optimizer=keras.optimizers.Adam(),\n",
    "metrics=['accuracy'])\n",
    "model.summary()"
   ]
  },
  {
   "cell_type": "code",
   "execution_count": 74,
   "metadata": {},
   "outputs": [
    {
     "name": "stdout",
     "output_type": "stream",
     "text": [
      "Epoch 1/50\n",
      "100/100 [==============================] - 40s 401ms/step - loss: 0.6926 - acc: 0.6400\n",
      "Epoch 2/50\n",
      "100/100 [==============================] - 29s 290ms/step - loss: 0.6614 - acc: 0.6300\n",
      "Epoch 3/50\n",
      "100/100 [==============================] - 30s 295ms/step - loss: 0.6631 - acc: 0.6300\n",
      "Epoch 4/50\n",
      "100/100 [==============================] - 35s 347ms/step - loss: 0.6610 - acc: 0.6300\n",
      "Epoch 5/50\n",
      "100/100 [==============================] - 30s 296ms/step - loss: 0.6497 - acc: 0.6300\n",
      "Epoch 6/50\n",
      "100/100 [==============================] - 32s 321ms/step - loss: 0.6493 - acc: 0.6300\n",
      "Epoch 7/50\n",
      "100/100 [==============================] - 42s 424ms/step - loss: 0.6474 - acc: 0.6300\n",
      "Epoch 8/50\n",
      "100/100 [==============================] - 67s 673ms/step - loss: 0.6386 - acc: 0.6300\n",
      "Epoch 9/50\n",
      "100/100 [==============================] - 36s 356ms/step - loss: 0.6270 - acc: 0.6300\n",
      "Epoch 10/50\n",
      "100/100 [==============================] - 35s 351ms/step - loss: 0.6058 - acc: 0.6300\n",
      "Epoch 11/50\n",
      "100/100 [==============================] - 26s 262ms/step - loss: 0.6064 - acc: 0.6700\n",
      "Epoch 12/50\n",
      "100/100 [==============================] - 47s 471ms/step - loss: 0.5972 - acc: 0.6600\n",
      "Epoch 13/50\n",
      "100/100 [==============================] - 35s 347ms/step - loss: 0.5525 - acc: 0.7700\n",
      "Epoch 14/50\n",
      "100/100 [==============================] - 32s 321ms/step - loss: 0.5102 - acc: 0.7600\n",
      "Epoch 15/50\n",
      "100/100 [==============================] - 30s 302ms/step - loss: 0.5355 - acc: 0.7500\n",
      "Epoch 16/50\n",
      "100/100 [==============================] - 39s 387ms/step - loss: 0.4731 - acc: 0.7500\n",
      "Epoch 17/50\n",
      "100/100 [==============================] - 40s 405ms/step - loss: 0.4514 - acc: 0.7700\n",
      "Epoch 18/50\n",
      "100/100 [==============================] - 53s 527ms/step - loss: 0.4443 - acc: 0.8000\n",
      "Epoch 19/50\n",
      "100/100 [==============================] - 25s 246ms/step - loss: 0.4088 - acc: 0.8000\n",
      "Epoch 20/50\n",
      "100/100 [==============================] - 28s 278ms/step - loss: 0.4057 - acc: 0.8200\n",
      "Epoch 21/50\n",
      "100/100 [==============================] - 22s 224ms/step - loss: 0.3462 - acc: 0.8200\n",
      "Epoch 22/50\n",
      "100/100 [==============================] - 40s 398ms/step - loss: 0.4099 - acc: 0.8100\n",
      "Epoch 23/50\n",
      "100/100 [==============================] - 35s 351ms/step - loss: 0.3853 - acc: 0.8600\n",
      "Epoch 24/50\n",
      "100/100 [==============================] - 34s 342ms/step - loss: 0.3149 - acc: 0.8700\n",
      "Epoch 25/50\n",
      "100/100 [==============================] - 39s 391ms/step - loss: 0.2945 - acc: 0.9200\n",
      "Epoch 26/50\n",
      "100/100 [==============================] - 35s 353ms/step - loss: 0.2592 - acc: 0.8800\n",
      "Epoch 27/50\n",
      "100/100 [==============================] - 44s 442ms/step - loss: 0.2188 - acc: 0.9300\n",
      "Epoch 28/50\n",
      "100/100 [==============================] - 47s 475ms/step - loss: 0.2078 - acc: 0.9300\n",
      "Epoch 29/50\n",
      "100/100 [==============================] - 29s 294ms/step - loss: 0.1464 - acc: 0.9800\n",
      "Epoch 30/50\n",
      "100/100 [==============================] - 26s 257ms/step - loss: 0.1308 - acc: 0.9600\n",
      "Epoch 31/50\n",
      "100/100 [==============================] - 29s 289ms/step - loss: 0.1848 - acc: 0.9600\n",
      "Epoch 32/50\n",
      "100/100 [==============================] - 24s 243ms/step - loss: 0.0906 - acc: 0.9900\n",
      "Epoch 33/50\n",
      "100/100 [==============================] - 35s 355ms/step - loss: 0.1464 - acc: 0.9600\n",
      "Epoch 34/50\n",
      "100/100 [==============================] - 34s 338ms/step - loss: 0.0847 - acc: 0.9700\n",
      "Epoch 35/50\n",
      "100/100 [==============================] - 33s 329ms/step - loss: 0.0695 - acc: 0.9800\n",
      "Epoch 36/50\n",
      "100/100 [==============================] - 27s 268ms/step - loss: 0.0556 - acc: 0.9900\n",
      "Epoch 37/50\n",
      "100/100 [==============================] - 31s 315ms/step - loss: 0.0932 - acc: 0.9800\n",
      "Epoch 38/50\n",
      "100/100 [==============================] - 29s 293ms/step - loss: 0.0698 - acc: 0.9700\n",
      "Epoch 39/50\n",
      "100/100 [==============================] - 61s 614ms/step - loss: 0.0713 - acc: 0.9600\n",
      "Epoch 40/50\n",
      "100/100 [==============================] - 26s 264ms/step - loss: 0.0797 - acc: 0.9600\n",
      "Epoch 41/50\n",
      "100/100 [==============================] - 23s 232ms/step - loss: 0.0578 - acc: 0.9800\n",
      "Epoch 42/50\n",
      "100/100 [==============================] - 29s 295ms/step - loss: 0.0292 - acc: 1.0000\n",
      "Epoch 43/50\n",
      "100/100 [==============================] - 24s 240ms/step - loss: 0.0393 - acc: 1.0000\n",
      "Epoch 44/50\n",
      "100/100 [==============================] - 41s 406ms/step - loss: 0.0228 - acc: 1.0000\n",
      "Epoch 45/50\n",
      "100/100 [==============================] - 29s 293ms/step - loss: 0.0711 - acc: 0.9600\n",
      "Epoch 46/50\n",
      "100/100 [==============================] - 38s 382ms/step - loss: 0.0365 - acc: 0.9800\n",
      "Epoch 47/50\n",
      "100/100 [==============================] - 35s 354ms/step - loss: 0.0139 - acc: 1.0000\n",
      "Epoch 48/50\n",
      "100/100 [==============================] - 38s 375ms/step - loss: 0.0168 - acc: 1.0000\n",
      "Epoch 49/50\n",
      "100/100 [==============================] - 37s 374ms/step - loss: 0.0127 - acc: 1.0000\n",
      "Epoch 50/50\n",
      "100/100 [==============================] - 48s 478ms/step - loss: 0.0141 - acc: 1.0000\n"
     ]
    }
   ],
   "source": [
    "batch_size = 512\n",
    "epochs = 50\n",
    "history = model.fit(x_train, y_train,\n",
    "batch_size=batch_size,\n",
    "epochs=epochs,\n",
    "verbose=1)"
   ]
  },
  {
   "cell_type": "code",
   "execution_count": 75,
   "metadata": {},
   "outputs": [
    {
     "name": "stdout",
     "output_type": "stream",
     "text": [
      "100/100 [==============================] - 11s 113ms/step\n",
      "Test loss: 0.005708853292744607\n",
      "Test accuracy: 1.0\n"
     ]
    }
   ],
   "source": [
    "score = model.evaluate(x_train, y_train, verbose=1)\n",
    "print('Test loss:', score[0])\n",
    "print('Test accuracy:', score[1])"
   ]
  },
  {
   "cell_type": "code",
   "execution_count": 76,
   "metadata": {},
   "outputs": [
    {
     "data": {
      "image/png": "[encoded data removed]",
      "text/plain": [
       "<Figure size 432x288 with 2 Axes>"
      ]
     },
     "metadata": {
      "needs_background": "light"
     },
     "output_type": "display_data"
    }
   ],
   "source": [
    "plt.figure(1)\n",
    "# summarize history for accuracy\n",
    "plt.subplot(211)\n",
    "plt.plot(history.history['acc'])\n",
    "plt.title('model accuracy')\n",
    "plt.ylabel('accuracy')\n",
    "plt.xlabel('epoch')\n",
    "# summarize history for loss\n",
    "plt.subplot(212)\n",
    "plt.plot(history.history['loss'])\n",
    "plt.title('model loss')\n",
    "plt.ylabel('loss')\n",
    "plt.xlabel('epoch')\n",
    "plt.tight_layout()\n",
    "plt.show()"
   ]
  },
  {
   "cell_type": "markdown",
   "metadata": {},
   "source": [
    "<h4> Problem 3 </h4>"
   ]
  },
  {
   "cell_type": "code",
   "execution_count": 68,
   "metadata": {},
   "outputs": [],
   "source": [
    "from keras.applications.xception import Xception\n",
    "from keras.applications.xception import preprocess_input, decode_predictions"
   ]
  },
  {
   "cell_type": "code",
   "execution_count": 69,
   "metadata": {},
   "outputs": [
    {
     "data": {
      "text/plain": [
       "(100, 299, 299, 3)"
      ]
     },
     "execution_count": 69,
     "metadata": {},
     "output_type": "execute_result"
    }
   ],
   "source": [
    "def grab_image(img_path):\n",
    "    img = image.load_img(img_path, target_size=(299, 299))\n",
    "    x = image.img_to_array(img)\n",
    "    x = np.expand_dims(x, axis=0)\n",
    "    x = preprocess_input(x)\n",
    "    return x\n",
    "X = np.concatenate([grab_image('/nfshome/sandbox/xception_example/images/image_%d.JPEG'%(i)) for i in range(100)])\n",
    "X.shape"
   ]
  },
  {
   "cell_type": "code",
   "execution_count": 78,
   "metadata": {},
   "outputs": [],
   "source": [
    "model = Xception(weights='imagenet')"
   ]
  },
  {
   "cell_type": "code",
   "execution_count": 86,
   "metadata": {},
   "outputs": [
    {
     "name": "stdout",
     "output_type": "stream",
     "text": [
      "Predicted: [('n01817953', 'African_grey', 0.44841596)]\n",
      "Predicted: [('n02106550', 'Rottweiler', 0.29953748)]\n",
      "Predicted: [('n02395406', 'hog', 0.14157927)]\n",
      "Predicted: [('n02101006', 'Gordon_setter', 0.3929784)]\n",
      "Predicted: [('n02124075', 'Egyptian_cat', 0.57858574)]\n",
      "Predicted: [('n02127052', 'lynx', 0.2734335)]\n",
      "Predicted: [('n02107683', 'Bernese_mountain_dog', 0.97202796)]\n",
      "Predicted: [('n02123394', 'Persian_cat', 0.55238414)]\n",
      "Predicted: [('n02093256', 'Staffordshire_bullterrier', 0.4646181)]\n",
      "Predicted: [('n02123045', 'tabby', 0.27875343)]\n",
      "Predicted: [('n02123045', 'tabby', 0.24650945)]\n",
      "Predicted: [('n02124075', 'Egyptian_cat', 0.21868071)]\n",
      "Predicted: [('n02096585', 'Boston_bull', 0.12376172)]\n",
      "Predicted: [('n02124075', 'Egyptian_cat', 0.59595346)]\n",
      "Predicted: [('n02123597', 'Siamese_cat', 0.14436458)]\n",
      "Predicted: [('n02107312', 'miniature_pinscher', 0.09950582)]\n",
      "Predicted: [('n02106662', 'German_shepherd', 0.38143304)]\n",
      "Predicted: [('n02123045', 'tabby', 0.47416684)]\n",
      "Predicted: [('n04254680', 'soccer_ball', 0.81044906)]\n",
      "Predicted: [('n03325584', 'feather_boa', 0.72410274)]\n",
      "Predicted: [('n03793489', 'mouse', 0.10129734)]\n",
      "Predicted: [('n02106166', 'Border_collie', 0.21694103)]\n",
      "Predicted: [('n02123045', 'tabby', 0.47728753)]\n",
      "Predicted: [('n02124075', 'Egyptian_cat', 0.2092936)]\n",
      "Predicted: [('n02094114', 'Norfolk_terrier', 0.59669524)]\n",
      "Predicted: [('n01798484', 'prairie_chicken', 0.15475005)]\n",
      "Predicted: [('n02483708', 'siamang', 0.1112243)]\n",
      "Predicted: [('n02102318', 'cocker_spaniel', 0.4308291)]\n",
      "Predicted: [('n02389026', 'sorrel', 0.30680338)]\n",
      "Predicted: [('n02412080', 'ram', 0.90498567)]\n",
      "Predicted: [('n02124075', 'Egyptian_cat', 0.2334836)]\n",
      "Predicted: [('n02107683', 'Bernese_mountain_dog', 0.8547097)]\n",
      "Predicted: [('n02106662', 'German_shepherd', 0.715216)]\n",
      "Predicted: [('n02115641', 'dingo', 0.6383798)]\n",
      "Predicted: [('n02127052', 'lynx', 0.36273015)]\n",
      "Predicted: [('n02108422', 'bull_mastiff', 0.77218515)]\n",
      "Predicted: [('n02123159', 'tiger_cat', 0.22414277)]\n",
      "Predicted: [('n02093428', 'American_Staffordshire_terrier', 0.63561356)]\n",
      "Predicted: [('n02104365', 'schipperke', 0.9819763)]\n",
      "Predicted: [('n02123597', 'Siamese_cat', 0.8566159)]\n",
      "Predicted: [('n02389026', 'sorrel', 0.6204805)]\n",
      "Predicted: [('n02123159', 'tiger_cat', 0.51447296)]\n",
      "Predicted: [('n02412080', 'ram', 0.52104795)]\n",
      "Predicted: [('n02123159', 'tiger_cat', 0.1517899)]\n",
      "Predicted: [('n02123045', 'tabby', 0.5006593)]\n",
      "Predicted: [('n04162706', 'seat_belt', 0.11082012)]\n",
      "Predicted: [('n04192698', 'shield', 0.15820095)]\n",
      "Predicted: [('n02088364', 'beagle', 0.97183615)]\n",
      "Predicted: [('n02102318', 'cocker_spaniel', 0.18195891)]\n",
      "Predicted: [('n02085782', 'Japanese_spaniel', 0.24286935)]\n",
      "Predicted: [('n02123159', 'tiger_cat', 0.4714363)]\n",
      "Predicted: [('n02094258', 'Norwich_terrier', 0.65524375)]\n",
      "Predicted: [('n02123394', 'Persian_cat', 0.68246275)]\n",
      "Predicted: [('n02123045', 'tabby', 0.85876405)]\n",
      "Predicted: [('n02110063', 'malamute', 0.2652087)]\n",
      "Predicted: [('n02403003', 'ox', 0.6199332)]\n",
      "Predicted: [('n02389026', 'sorrel', 0.14694208)]\n",
      "Predicted: [('n02110063', 'malamute', 0.7447922)]\n",
      "Predicted: [('n02102040', 'English_springer', 0.30954808)]\n",
      "Predicted: [('n02091467', 'Norwegian_elkhound', 0.6104512)]\n",
      "Predicted: [('n02412080', 'ram', 0.8798945)]\n",
      "Predicted: [('n02123394', 'Persian_cat', 0.2740574)]\n",
      "Predicted: [('n04356056', 'sunglasses', 0.054376338)]\n",
      "Predicted: [('n02403003', 'ox', 0.29880705)]\n",
      "Predicted: [('n02106166', 'Border_collie', 0.33032617)]\n",
      "Predicted: [('n02099712', 'Labrador_retriever', 0.257108)]\n",
      "Predicted: [('n02091134', 'whippet', 0.86798006)]\n",
      "Predicted: [('n02412080', 'ram', 0.45999435)]\n",
      "Predicted: [('n02124075', 'Egyptian_cat', 0.5041124)]\n",
      "Predicted: [('n01819313', 'sulphur-crested_cockatoo', 0.35542944)]\n",
      "Predicted: [('n02091134', 'whippet', 0.5324655)]\n",
      "Predicted: [('n02109047', 'Great_Dane', 0.4388573)]\n",
      "Predicted: [('n02124075', 'Egyptian_cat', 0.8506864)]\n",
      "Predicted: [('n01514668', 'cock', 0.6471487)]\n",
      "Predicted: [('n02123045', 'tabby', 0.59283406)]\n",
      "Predicted: [('n01883070', 'wombat', 0.10532151)]\n",
      "Predicted: [('n02124075', 'Egyptian_cat', 0.52444744)]\n",
      "Predicted: [('n02105855', 'Shetland_sheepdog', 0.15868516)]\n",
      "Predicted: [('n02123597', 'Siamese_cat', 0.12610538)]\n",
      "Predicted: [('n02364673', 'guinea_pig', 0.8287025)]\n",
      "Predicted: [('n02423022', 'gazelle', 0.079523444)]\n",
      "Predicted: [('n02107142', 'Doberman', 0.5051826)]\n",
      "Predicted: [('n02364673', 'guinea_pig', 0.9069547)]\n",
      "Predicted: [('n02104365', 'schipperke', 0.6796323)]\n",
      "Predicted: [('n02094433', 'Yorkshire_terrier', 0.3709225)]\n",
      "Predicted: [('n02124075', 'Egyptian_cat', 0.82231086)]\n",
      "Predicted: [('n02138441', 'meerkat', 0.5347435)]\n",
      "Predicted: [('n02099712', 'Labrador_retriever', 0.60837483)]\n",
      "Predicted: [('n04553703', 'washbasin', 0.097245276)]\n",
      "Predicted: [('n02093256', 'Staffordshire_bullterrier', 0.46031827)]\n",
      "Predicted: [('n02093256', 'Staffordshire_bullterrier', 0.51079863)]\n",
      "Predicted: [('n02089078', 'black-and-tan_coonhound', 0.3394924)]\n",
      "Predicted: [('n01855672', 'goose', 0.7124533)]\n",
      "Predicted: [('n02403003', 'ox', 0.84723496)]\n",
      "Predicted: [('n02111889', 'Samoyed', 0.6481986)]\n",
      "Predicted: [('n03223299', 'doormat', 0.3834439)]\n",
      "Predicted: [('n02085620', 'Chihuahua', 0.18316862)]\n",
      "Predicted: [('n02087394', 'Rhodesian_ridgeback', 0.9858263)]\n",
      "Predicted: [('n02113023', 'Pembroke', 0.06799796)]\n",
      "Predicted: [('n02106030', 'collie', 0.3304855)]\n"
     ]
    }
   ],
   "source": [
    "preds = model.predict(X[:,:,:,:])\n",
    "for i in range(100):\n",
    "    print('Predicted:', decode_predictions(preds, top=1)[i])"
   ]
  },
  {
   "cell_type": "code",
   "execution_count": null,
   "metadata": {},
   "outputs": [],
   "source": []
  }
 ],
 "metadata": {
  "kernelspec": {
   "display_name": "Python 3",
   "language": "python",
   "name": "python3"
  },
  "language_info": {
   "codemirror_mode": {
    "name": "ipython",
    "version": 3
   },
   "file_extension": ".py",
   "mimetype": "text/x-python",
   "name": "python",
   "nbconvert_exporter": "python",
   "pygments_lexer": "ipython3",
   "version": "3.6.7"
  }
 },
 "nbformat": 4,
 "nbformat_minor": 2
}
