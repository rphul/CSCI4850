{
 "cells": [
  {
   "cell_type": "code",
   "execution_count": 4,
   "metadata": {},
   "outputs": [],
   "source": [
    "import keras\n",
    "from keras.utils.vis_utils import model_to_dot\n",
    "from keras_tqdm import TQDMNotebookCallback\n",
    "\n",
    "import numpy as np\n",
    "\n",
    "import matplotlib.pyplot as plt\n",
    "%matplotlib inline\n",
    "\n",
    "from IPython.display import SVG\n",
    "from IPython.display import display\n",
    "\n",
    "import random"
   ]
  },
  {
   "cell_type": "code",
   "execution_count": 12,
   "metadata": {},
   "outputs": [
    {
     "name": "stdout",
     "output_type": "stream",
     "text": [
      "(501, 100, 100, 3)\n",
      "(594, 100, 100, 3)\n",
      "(403, 100, 100, 3)\n",
      "(482, 100, 100, 3)\n",
      "(410, 100, 100, 3)\n",
      "(137, 100, 100, 3)\n",
      "(2527, 6)\n"
     ]
    }
   ],
   "source": [
    "size = 100\n",
    "def appendSize():\n",
    "    return str(size) + 'x' + str(size)\n",
    "\n",
    "# Load image data\n",
    "imgdat_glass = np.load('/nfshome/sandbox/TrashNet-Dataset/imgdat_glass_' + appendSize() + '.npy')\n",
    "imgdat_paper = np.load('/nfshome/sandbox/TrashNet-Dataset/imgdat_paper_' + appendSize() + '.npy')\n",
    "imgdat_cardboard = np.load('/nfshome/sandbox/TrashNet-Dataset/imgdat_cardboard_' + appendSize() + '.npy')\n",
    "imgdat_plastic = np.load('/nfshome/sandbox/TrashNet-Dataset/imgdat_plastic_' + appendSize() + '.npy')\n",
    "imgdat_metal = np.load('/nfshome/sandbox/TrashNet-Dataset/imgdat_metal_' + appendSize() + '.npy')\n",
    "imgdat_trash = np.load('/nfshome/sandbox/TrashNet-Dataset/imgdat_trash_' + appendSize() + '.npy')\n",
    "\n",
    "# Make sure the data loaded correctly\n",
    "print(imgdat_glass.shape)\n",
    "print(imgdat_paper.shape)\n",
    "print(imgdat_cardboard.shape)\n",
    "print(imgdat_plastic.shape)\n",
    "print(imgdat_metal.shape)\n",
    "print(imgdat_trash.shape)\n",
    "\n",
    "# Load in the labels and convert to one-hot encoding\n",
    "with open('/nfshome/sandbox/TrashNet-Dataset/labels.csv', 'r', encoding = 'utf-8') as f:\n",
    "    labels = f.read().split(',')\n",
    "Y = keras.utils.to_categorical(labels)\n",
    "\n",
    "print(Y.shape)"
   ]
  },
  {
   "cell_type": "code",
   "execution_count": 58,
   "metadata": {},
   "outputs": [
    {
     "name": "stdout",
     "output_type": "stream",
     "text": [
      "X_train shape:  (1262, 100, 100, 3)\n",
      "Y_train shape:  (1262, 6)\n",
      "X_test shape:  (1265, 100, 100, 3)\n",
      "Y_test shape:  (1265, 6)\n",
      "Combined X:  2527\n"
     ]
    }
   ],
   "source": [
    "# Concatenate image data for input to network\n",
    "#X = np.concatenate((imgdat_glass, imgdat_paper, imgdat_cardboard, \n",
    "#                   imgdat_plastic, imgdat_metal, imgdat_trash))\n",
    "\n",
    "\n",
    "# Split labels up by category\n",
    "imgdat_lens = [imgdat_glass.shape[0], imgdat_paper.shape[0], imgdat_cardboard.shape[0],\n",
    "               imgdat_plastic.shape[0], imgdat_metal.shape[0], imgdat_trash.shape[0]]\n",
    "Y_categories = []\n",
    "index_start = 0\n",
    "for imgdat_len in imgdat_lens:\n",
    "    index_end = index_start + imgdat_len\n",
    "    Y_categories = Y_categories + [Y[index_start : index_end]]\n",
    "    index_start = index_end\n",
    "\n",
    "# Shuffle all image data\n",
    "imgdat_glass = imgdat_glass[np.random.permutation(len(imgdat_glass))]\n",
    "imgdat_paper = imgdat_paper[np.random.permutation(len(imgdat_paper))]\n",
    "imgdat_cardboard = imgdat_cardboard[np.random.permutation(len(imgdat_cardboard))]\n",
    "imgdat_plastic = imgdat_plastic[np.random.permutation(len(imgdat_plastic))]\n",
    "imgdat_metal = imgdat_metal[np.random.permutation(len(imgdat_metal))]\n",
    "imgdat_trash = imgdat_trash[np.random.permutation(len(imgdat_trash))]\n",
    "\n",
    "# Split image categories into training and testing sets\n",
    "def getHalfLen(img_set):\n",
    "    return int(len(img_set) / 2)\n",
    "\n",
    "training_glass = imgdat_glass[ : getHalfLen(imgdat_glass)]\n",
    "training_glass_labels = Y_categories[0][ : getHalfLen(Y_categories[0])]\n",
    "training_paper = imgdat_paper[ : getHalfLen(imgdat_paper)]\n",
    "training_paper_labels = Y_categories[1][ : getHalfLen(Y_categories[1])]\n",
    "training_cardboard = imgdat_cardboard[ : getHalfLen(imgdat_cardboard)]\n",
    "training_cardboard_labels = Y_categories[2][ : getHalfLen(Y_categories[2])]\n",
    "training_plastic = imgdat_plastic[ : getHalfLen(imgdat_plastic)]\n",
    "training_plastic_labels = Y_categories[3][ : getHalfLen(Y_categories[3])]\n",
    "training_metal = imgdat_metal[ : getHalfLen(imgdat_metal)]\n",
    "training_metal_labels = Y_categories[4][ : getHalfLen(Y_categories[4])]\n",
    "training_trash = imgdat_trash[ : getHalfLen(imgdat_trash)]\n",
    "training_trash_labels = Y_categories[5][ : getHalfLen(Y_categories[5])]\n",
    "\n",
    "testing_glass = imgdat_glass[getHalfLen(imgdat_glass) : ]\n",
    "testing_glass_labels = Y_categories[0][getHalfLen(Y_categories[0]) : ]\n",
    "testing_paper = imgdat_paper[getHalfLen(imgdat_paper) : ]\n",
    "testing_paper_labels = Y_categories[1][getHalfLen(Y_categories[1]) : ]\n",
    "testing_cardboard = imgdat_cardboard[getHalfLen(imgdat_cardboard) : ]\n",
    "testing_cardboard_labels = Y_categories[2][getHalfLen(Y_categories[2]) : ]\n",
    "testing_plastic = imgdat_plastic[getHalfLen(imgdat_plastic) : ]\n",
    "testing_plastic_labels = Y_categories[3][getHalfLen(Y_categories[3]) : ]\n",
    "testing_metal = imgdat_metal[getHalfLen(imgdat_metal) : ]\n",
    "testing_metal_labels = Y_categories[4][getHalfLen(Y_categories[4]) : ]\n",
    "testing_trash = imgdat_trash[getHalfLen(imgdat_trash) : ]\n",
    "testing_trash_labels = Y_categories[5][getHalfLen(Y_categories[5]) : ]\n",
    "\n",
    "# Concatenate into training and testing sets\n",
    "X_train = np.concatenate((training_glass, training_paper, training_cardboard,\n",
    "                          training_plastic, training_metal, training_trash))\n",
    "Y_train = np.concatenate((training_glass_labels, training_paper_labels, training_cardboard_labels,\n",
    "                          training_plastic_labels, training_metal_labels, training_trash_labels))\n",
    "\n",
    "X_test = np.concatenate((testing_glass, testing_paper, testing_cardboard,\n",
    "                         testing_plastic, testing_metal, testing_trash))\n",
    "Y_test = np.concatenate((testing_glass_labels, testing_paper_labels, testing_cardboard_labels,\n",
    "                         testing_plastic_labels, testing_metal_labels, testing_trash_labels))\n",
    "\n",
    "# Shuffle training and testing sets\n",
    "permute = np.random.permutation(len(X_train))\n",
    "X_train = X_train[permute]\n",
    "Y_train = Y_train[permute]\n",
    "\n",
    "permute = np.random.permutation(len(X_test))\n",
    "X_test = X_test[permute]\n",
    "Y_test = Y_test[permute]\n",
    "\n",
    "print('X_train shape: ', X_train.shape)\n",
    "print('Y_train shape: ', Y_train.shape)\n",
    "print('X_test shape: ', X_test.shape)\n",
    "print('Y_test shape: ', Y_test.shape)\n",
    "print('Combined X: ', X_train.shape[0] + X_test.shape[0])"
   ]
  },
  {
   "cell_type": "code",
   "execution_count": 59,
   "metadata": {},
   "outputs": [],
   "source": [
    "# Mean-center all image data\n",
    "#X = (X - X.mean()) / X.std()\n",
    "X_train = (X_train - X_train.mean()) / X_train.std()\n",
    "X_test = (X_test - X_test.mean()) / X_test.std()"
   ]
  },
  {
   "cell_type": "code",
   "execution_count": null,
   "metadata": {},
   "outputs": [],
   "source": [
    "# Now we'll split the input and labels into groups again.\n",
    "# We'll shuffle these categories separately so that we can ensure both\n",
    "# training and testing sets have some images from each category.\n",
    "\n",
    "imgdat_lens = [imgdat_glass.shape[0], imgdat_paper.shape[0], imgdat_cardboard.shape[0],\n",
    "               imgdat_plastic.shape[0], imgdat_metal.shape[0], imgdat_trash.shape[0]]\n",
    "X_categories = []\n",
    "Y_categories = []\n",
    "\n",
    "index_start = 0\n",
    "for imgdat_len in imgdat_lens:\n",
    "    index_end = index_start + imgdat_len\n",
    "    X_categories = X_categories + [X[index_start : index_end]]\n",
    "    Y_categories = Y_categories + [Y[index_start : index_end]]\n",
    "    index_start = index_end\n",
    "    \n",
    "X_train = np.array([])\n",
    "X_test = np.array([])\n",
    "Y_train = np.array([])\n",
    "Y_test = np.array([])\n",
    "\n",
    "X_train.shape = (0, size, size, 3)\n",
    "X_test.shape = (0, size, size, 3)\n",
    "Y_train.shape = (0, 6)\n",
    "Y_test.shape = (0, 6)\n",
    "\n",
    "# Shuffle both X and Y\n",
    "for i in range(len(X_categories)):\n",
    "    for j in range(X_categories[i].shape[0]):\n",
    "        randIndex = random.randint(0, X_categories[i].shape[0] - 1)\n",
    "\n",
    "        # Swap X\n",
    "        tempX = X_categories[i][j]\n",
    "        X_categories[i][j] = X_categories[i][randIndex]\n",
    "        X_categories[i][randIndex] = tempX\n",
    "\n",
    "        # Don't actually have to swap Y since we'd just be shuffling labels in each\n",
    "        # category, meaning we'd have essentially the same arrangement we started with.\n",
    "        # Swap Y\n",
    "        #tempY = Y_categories[i][j]\n",
    "        #Y_categories[i][j] = Y_categories[i][randIndex]\n",
    "        #Y_categories[i][randIndex] = tempY\n",
    "    \n",
    "    # Split the shuffled categories equally into training and testing sets\n",
    "    half = int(X_categories[i].shape[0] / 2)\n",
    "    X_train = np.concatenate((X_train, X_categories[i][0 : half]))\n",
    "    X_test = np.concatenate((X_test, X_categories[i][half : ]))\n",
    "    Y_train = np.concatenate((Y_train, Y_categories[i][0 : half]))\n",
    "    Y_test = np.concatenate((Y_test, Y_categories[i][half : ]))\n",
    "    \n",
    "print(\"X shape: \" + str(X.shape))\n",
    "print(\"Y shape: \" + str(Y.shape))\n",
    "print(\"X_train shape: \" + str(X_train.shape))\n",
    "print(\"X_test shape: \" + str(X_test.shape))\n",
    "print(\"Y_train shape: \" + str(Y_train.shape))\n",
    "print(\"Y_test shape: \" + str(Y_test.shape))\n",
    "print(\"X_train + X_test size: \" + str(X_train.shape[0] + X_test.shape[0]))\n",
    "print(\"Y_train + Y_test size: \" + str(Y_train.shape[0] + Y_test.shape[0]))\n",
    "'''"
   ]
  },
  {
   "cell_type": "code",
   "execution_count": null,
   "metadata": {},
   "outputs": [],
   "source": [
    "model = keras.Sequential()\n",
    "\n",
    "# Bottleneck to keep parameters low\n",
    "model.add(keras.layers.Conv2D(24, kernel_size = (1, 1), # squeeze\n",
    "                              activation = 'relu',\n",
    "                              bias_initializer = keras.initializers.RandomUniform(minval = 0.001, maxval = 0.4, seed = None),\n",
    "                              kernel_initializer = keras.initializers.RandomUniform(minval = 0.001, maxval = 0.4, seed = None),\n",
    "                              input_shape = [size, size, 3]))\n",
    "\n",
    "model.add(keras.layers.Conv2D(24, kernel_size = (3, 3), # map \n",
    "                              strides = (2, 2),\n",
    "                              activation = 'relu',\n",
    "                              bias_initializer = keras.initializers.RandomUniform(minval = 0.001, maxval = 0.4, seed = None),\n",
    "                              kernel_initializer = keras.initializers.RandomUniform(minval = 0.001, maxval = 0.4, seed = None)))\n",
    "\n",
    "model.add(keras.layers.Conv2D(32, kernel_size = (1, 1), # expand\n",
    "                             activation = 'relu',\n",
    "                             bias_initializer = keras.initializers.RandomUniform(minval = 0.001, maxval = 0.4, seed = None), \n",
    "                             kernel_initializer = keras.initializers.RandomUniform(minval = 0.001, maxval = 0.4, seed = None)))\n",
    "model.add(keras.layers.BatchNormalization(momentum = 0.99))\n",
    "\n",
    "model.add(keras.layers.SpatialDropout2D(rate = 0.25))\n",
    "model.add(keras.layers.MaxPooling2D(pool_size = (2, 2)))\n",
    "\n",
    "model.add(keras.layers.Flatten())\n",
    "model.add(keras.layers.Dense(Y.shape[1] * 2, activation = 'tanh'))\n",
    "model.add(keras.layers.Dropout(0.1))\n",
    "model.add(keras.layers.Dense(Y.shape[1], activation = 'softmax'))\n",
    "\n",
    "model.compile(loss = keras.losses.categorical_crossentropy,\n",
    "             optimizer = keras.optimizers.Adam(lr = 0.0001, amsgrad = True),\n",
    "             metrics = ['accuracy'])\n",
    "\n",
    "model.summary()"
   ]
  },
  {
   "cell_type": "markdown",
   "metadata": {},
   "source": [
    "model = keras.Sequential()\n",
    "\n",
    "#model.add(keras.layers.Conv2D(32, kernel_size = (1, 1),\n",
    "#                             activation = 'relu',\n",
    "#                             input_shape = [size, size, 3]))\n",
    "#model.add(keras.layers.SpatialDropout2D(rate = 0.25))\n",
    "model.add(keras.layers.Conv2D(32, kernel_size = (3, 3),\n",
    "                             strides = (2, 2),\n",
    "                             activation = 'relu',\n",
    "                             input_shape = [size, size, 3]))\n",
    "model.add(keras.layers.SpatialDropout2D(rate = 0.25))\n",
    "#model.add(keras.layers.Conv2D(64, kernel_size = (1, 1),\n",
    "#                             activation = 'relu'))\n",
    "#model.add(keras.layers.SpatialDropout2D(rate = 0.25))\n",
    "model.add(keras.layers.normalization.BatchNormalization(momentum = 0.99))\n",
    "model.add(keras.layers.MaxPooling2D(pool_size = (2, 2)))\n",
    "\n",
    "model.add(keras.layers.Flatten())\n",
    "\n",
    "model.add(keras.layers.Dense(Y.shape[1] * 4, activation = 'tanh'))\n",
    "model.add(keras.layers.Dense(Y.shape[1] * 3, activation = 'tanh'))\n",
    "model.add(keras.layers.Dense(Y.shape[1] * 2, activation = 'tanh'))\n",
    "model.add(keras.layers.Dense(Y.shape[1], activation = 'softmax'))\n",
    "\n",
    "model.compile(loss = keras.losses.categorical_crossentropy,\n",
    "             optimizer = keras.optimizers.Adam(lr = 0.0001, amsgrad = True),\n",
    "              metrics = ['accuracy'])\n",
    "model.summary()"
   ]
  },
  {
   "cell_type": "markdown",
   "metadata": {},
   "source": [
    "net_in = keras.layers.Input(shape = [size, size, 3])\n",
    "\n",
    "# Send input to two different convolving layers: one vertical and one horizontal\n",
    "conv_horiz = keras.layers.Conv2D(16, kernel_size = (4, 2), activation = 'relu')(net_in)\n",
    "conv_verti = keras.layers.Conv2D(16, kernel_size = (2, 4), activation = 'relu')(net_in)\n",
    "\n",
    "# Normalize\n",
    "bNorm_horiz = keras.layers.normalization.BatchNormalization()(conv_horiz)\n",
    "bNorm_verti = keras.layers.normalization.BatchNormalization()(conv_verti)\n",
    "\n",
    "# Convolve into square shape\n",
    "conv_horiz_reshaped = keras.layers.Conv2D(32, kernel_size = (2, 4), activation = 'relu')(bNorm_horiz)\n",
    "conv_verti_reshaped = keras.layers.Conv2D(32, kernel_size = (4, 2), activation = 'relu')(bNorm_verti)\n",
    "\n",
    "# Normalize again\n",
    "bNorm_horiz_reshaped = keras.layers.normalization.BatchNormalization()(conv_horiz_reshaped)\n",
    "bNorm_verti_reshaped = keras.layers.normalization.BatchNormalization()(conv_verti_reshaped)\n",
    "\n",
    "# Dense, merge, and dropout\n",
    "merged = keras.layers.concatenate([bNorm_horiz_reshaped, bNorm_verti_reshaped])\n",
    "spDropout = keras.layers.SpatialDropout2D(0.5)(merged)\n",
    "\n",
    "# Max pooling and flatten\n",
    "pooled = keras.layers.MaxPooling2D(2, 2)(spDropout)\n",
    "flat = keras.layers.Flatten()(pooled)\n",
    "\n",
    "# Dense layers\n",
    "#dense = keras.layers.Dense(Y.shape[1] * 3, activation = 'tanh')(flat)\n",
    "\n",
    "# Dropout\n",
    "#dropout = keras.layers.Dropout(0.25)(flat)\n",
    "\n",
    "# Output\n",
    "net_out = keras.layers.Dense(Y.shape[1], activation = 'softmax')(flat)\n",
    "\n",
    "# Create model and compile\n",
    "model = keras.Model(net_in, net_out)\n",
    "model.compile(loss = keras.losses.categorical_crossentropy,\n",
    "             optimizer = keras.optimizers.Adam(lr = 0.001, amsgrad = True),\n",
    "             metrics = ['accuracy'])\n",
    "model.summary()"
   ]
  },
  {
   "cell_type": "code",
   "execution_count": 79,
   "metadata": {},
   "outputs": [
    {
     "name": "stdout",
     "output_type": "stream",
     "text": [
      "__________________________________________________________________________________________________\n",
      "Layer (type)                    Output Shape         Param #     Connected to                     \n",
      "==================================================================================================\n",
      "input_5 (InputLayer)            (None, 100, 100, 3)  0                                            \n",
      "__________________________________________________________________________________________________\n",
      "conv2d_18 (Conv2D)              (None, 96, 96, 24)   1824        input_5[0][0]                    \n",
      "__________________________________________________________________________________________________\n",
      "conv2d_19 (Conv2D)              (None, 99, 99, 24)   312         input_5[0][0]                    \n",
      "__________________________________________________________________________________________________\n",
      "spatial_dropout2d_9 (SpatialDro (None, 96, 96, 24)   0           conv2d_18[0][0]                  \n",
      "__________________________________________________________________________________________________\n",
      "spatial_dropout2d_10 (SpatialDr (None, 99, 99, 24)   0           conv2d_19[0][0]                  \n",
      "__________________________________________________________________________________________________\n",
      "batch_normalization_18 (BatchNo (None, 96, 96, 24)   96          spatial_dropout2d_9[0][0]        \n",
      "__________________________________________________________________________________________________\n",
      "batch_normalization_19 (BatchNo (None, 99, 99, 24)   96          spatial_dropout2d_10[0][0]       \n",
      "__________________________________________________________________________________________________\n",
      "max_pooling2d_9 (MaxPooling2D)  (None, 48, 48, 24)   0           batch_normalization_18[0][0]     \n",
      "__________________________________________________________________________________________________\n",
      "max_pooling2d_10 (MaxPooling2D) (None, 49, 49, 24)   0           batch_normalization_19[0][0]     \n",
      "__________________________________________________________________________________________________\n",
      "flatten_9 (Flatten)             (None, 55296)        0           max_pooling2d_9[0][0]            \n",
      "__________________________________________________________________________________________________\n",
      "flatten_10 (Flatten)            (None, 57624)        0           max_pooling2d_10[0][0]           \n",
      "__________________________________________________________________________________________________\n",
      "dense_19 (Dense)                (None, 6)            331782      flatten_9[0][0]                  \n",
      "__________________________________________________________________________________________________\n",
      "dense_20 (Dense)                (None, 6)            345750      flatten_10[0][0]                 \n",
      "__________________________________________________________________________________________________\n",
      "concatenate_5 (Concatenate)     (None, 12)           0           dense_19[0][0]                   \n",
      "                                                                 dense_20[0][0]                   \n",
      "__________________________________________________________________________________________________\n",
      "dense_21 (Dense)                (None, 6)            78          concatenate_5[0][0]              \n",
      "==================================================================================================\n",
      "Total params: 679,938\n",
      "Trainable params: 679,842\n",
      "Non-trainable params: 96\n",
      "__________________________________________________________________________________________________\n"
     ]
    }
   ],
   "source": [
    "img_in = keras.layers.Input(shape = [size, size, 3])\n",
    "\n",
    "conv_large = keras.layers.Conv2D(24, kernel_size = (5,  5), activation = 'relu')(img_in)\n",
    "conv_small = keras.layers.Conv2D(24, kernel_size = (2, 2), activation = 'relu')(img_in)\n",
    "\n",
    "spDropout_large = keras.layers.SpatialDropout2D(0.5)(conv_large)\n",
    "spDropout_small = keras.layers.SpatialDropout2D(0.5)(conv_small)\n",
    "\n",
    "bNorm_large = keras.layers.normalization.BatchNormalization()(spDropout_large)\n",
    "bNorm_small = keras.layers.normalization.BatchNormalization()(spDropout_small)\n",
    "\n",
    "pool_large = keras.layers.MaxPooling2D(2, 2)(bNorm_large)\n",
    "pool_small = keras.layers.MaxPooling2D(2, 2)(bNorm_small)\n",
    "\n",
    "flat_large = keras.layers.Flatten()(pool_large)\n",
    "flat_small = keras.layers.Flatten()(pool_small)\n",
    "\n",
    "dense_large = keras.layers.Dense(Y.shape[1], activation = 'tanh')(flat_large)\n",
    "dense_small = keras.layers.Dense(Y.shape[1], activation = 'tanh')(flat_small)\n",
    "\n",
    "combined = keras.layers.concatenate([dense_large, dense_small])\n",
    "#dense = keras.layers.Dense(Y.shape[1] * 2, activation = 'tanh')(combined)\n",
    "#dropout = keras.layers.Dropout(0.25)(dense)\n",
    "net_out = keras.layers.Dense(Y.shape[1], activation = 'softmax')(combined)\n",
    "\n",
    "model = keras.Model(img_in, net_out)\n",
    "model.compile(loss = keras.losses.categorical_crossentropy,\n",
    "             optimizer = keras.optimizers.Adam(lr = 0.0001, amsgrad = True),\n",
    "             metrics = ['accuracy'])\n",
    "model.summary()"
   ]
  },
  {
   "cell_type": "code",
   "execution_count": null,
   "metadata": {},
   "outputs": [],
   "source": [
    "SVG(model_to_dot(model).create(prog = 'dot', format = 'svg'))"
   ]
  },
  {
   "cell_type": "code",
   "execution_count": 78,
   "metadata": {},
   "outputs": [
    {
     "data": {
      "application/vnd.jupyter.widget-view+json": {
       "model_id": "ab902dba7f334fb484b0f2eac9fada82",
       "version_major": 2,
       "version_minor": 0
      },
      "text/plain": [
       "HBox(children=(IntProgress(value=0, description='Training', max=10, style=ProgressStyle(description_width='ini…"
      ]
     },
     "metadata": {},
     "output_type": "display_data"
    },
    {
     "data": {
      "application/vnd.jupyter.widget-view+json": {
       "model_id": "6b50eace92a042cab9b39b4966d1f325",
       "version_major": 2,
       "version_minor": 0
      },
      "text/plain": [
       "HBox(children=(IntProgress(value=0, description='Epoch 0', max=946, style=ProgressStyle(description_width='ini…"
      ]
     },
     "metadata": {},
     "output_type": "display_data"
    },
    {
     "ename": "KeyboardInterrupt",
     "evalue": "",
     "output_type": "error",
     "traceback": [
      "\u001b[0;31m---------------------------------------------------------------------------\u001b[0m",
      "\u001b[0;31mKeyboardInterrupt\u001b[0m                         Traceback (most recent call last)",
      "\u001b[0;32m<ipython-input-78-2bdecb2b10f0>\u001b[0m in \u001b[0;36m<module>\u001b[0;34m\u001b[0m\n\u001b[1;32m      1\u001b[0m history = model.fit(X_train, Y_train, batch_size = 200, \n\u001b[1;32m      2\u001b[0m                     \u001b[0mepochs\u001b[0m \u001b[0;34m=\u001b[0m \u001b[0;36m10\u001b[0m\u001b[0;34m,\u001b[0m \u001b[0mverbose\u001b[0m \u001b[0;34m=\u001b[0m \u001b[0;36m0\u001b[0m\u001b[0;34m,\u001b[0m \u001b[0mvalidation_split\u001b[0m \u001b[0;34m=\u001b[0m \u001b[0;36m0.25\u001b[0m\u001b[0;34m,\u001b[0m\u001b[0;34m\u001b[0m\u001b[0;34m\u001b[0m\u001b[0m\n\u001b[0;32m----> 3\u001b[0;31m                     callbacks = [TQDMNotebookCallback()])\n\u001b[0m\u001b[1;32m      4\u001b[0m \u001b[0mprint\u001b[0m\u001b[0;34m(\u001b[0m\u001b[0;34m'Accuracy: '\u001b[0m\u001b[0;34m,\u001b[0m \u001b[0mmodel\u001b[0m\u001b[0;34m.\u001b[0m\u001b[0mevaluate\u001b[0m\u001b[0;34m(\u001b[0m\u001b[0mX_test\u001b[0m\u001b[0;34m,\u001b[0m \u001b[0mY_test\u001b[0m\u001b[0;34m)\u001b[0m\u001b[0;34m[\u001b[0m\u001b[0;36m1\u001b[0m\u001b[0;34m]\u001b[0m \u001b[0;34m*\u001b[0m \u001b[0;36m100.0\u001b[0m\u001b[0;34m,\u001b[0m \u001b[0;34m'%'\u001b[0m\u001b[0;34m)\u001b[0m\u001b[0;34m\u001b[0m\u001b[0;34m\u001b[0m\u001b[0m\n",
      "\u001b[0;32m/nfshome/apps/python-3.6.7/lib/python3.6/site-packages/keras/engine/training.py\u001b[0m in \u001b[0;36mfit\u001b[0;34m(self, x, y, batch_size, epochs, verbose, callbacks, validation_split, validation_data, shuffle, class_weight, sample_weight, initial_epoch, steps_per_epoch, validation_steps, **kwargs)\u001b[0m\n\u001b[1;32m   1037\u001b[0m                                         \u001b[0minitial_epoch\u001b[0m\u001b[0;34m=\u001b[0m\u001b[0minitial_epoch\u001b[0m\u001b[0;34m,\u001b[0m\u001b[0;34m\u001b[0m\u001b[0;34m\u001b[0m\u001b[0m\n\u001b[1;32m   1038\u001b[0m                                         \u001b[0msteps_per_epoch\u001b[0m\u001b[0;34m=\u001b[0m\u001b[0msteps_per_epoch\u001b[0m\u001b[0;34m,\u001b[0m\u001b[0;34m\u001b[0m\u001b[0;34m\u001b[0m\u001b[0m\n\u001b[0;32m-> 1039\u001b[0;31m                                         validation_steps=validation_steps)\n\u001b[0m\u001b[1;32m   1040\u001b[0m \u001b[0;34m\u001b[0m\u001b[0m\n\u001b[1;32m   1041\u001b[0m     def evaluate(self, x=None, y=None,\n",
      "\u001b[0;32m/nfshome/apps/python-3.6.7/lib/python3.6/site-packages/keras/engine/training_arrays.py\u001b[0m in \u001b[0;36mfit_loop\u001b[0;34m(model, f, ins, out_labels, batch_size, epochs, verbose, callbacks, val_f, val_ins, shuffle, callback_metrics, initial_epoch, steps_per_epoch, validation_steps)\u001b[0m\n\u001b[1;32m    197\u001b[0m                     \u001b[0mins_batch\u001b[0m\u001b[0;34m[\u001b[0m\u001b[0mi\u001b[0m\u001b[0;34m]\u001b[0m \u001b[0;34m=\u001b[0m \u001b[0mins_batch\u001b[0m\u001b[0;34m[\u001b[0m\u001b[0mi\u001b[0m\u001b[0;34m]\u001b[0m\u001b[0;34m.\u001b[0m\u001b[0mtoarray\u001b[0m\u001b[0;34m(\u001b[0m\u001b[0;34m)\u001b[0m\u001b[0;34m\u001b[0m\u001b[0;34m\u001b[0m\u001b[0m\n\u001b[1;32m    198\u001b[0m \u001b[0;34m\u001b[0m\u001b[0m\n\u001b[0;32m--> 199\u001b[0;31m                 \u001b[0mouts\u001b[0m \u001b[0;34m=\u001b[0m \u001b[0mf\u001b[0m\u001b[0;34m(\u001b[0m\u001b[0mins_batch\u001b[0m\u001b[0;34m)\u001b[0m\u001b[0;34m\u001b[0m\u001b[0;34m\u001b[0m\u001b[0m\n\u001b[0m\u001b[1;32m    200\u001b[0m                 \u001b[0mouts\u001b[0m \u001b[0;34m=\u001b[0m \u001b[0mto_list\u001b[0m\u001b[0;34m(\u001b[0m\u001b[0mouts\u001b[0m\u001b[0;34m)\u001b[0m\u001b[0;34m\u001b[0m\u001b[0;34m\u001b[0m\u001b[0m\n\u001b[1;32m    201\u001b[0m                 \u001b[0;32mfor\u001b[0m \u001b[0ml\u001b[0m\u001b[0;34m,\u001b[0m \u001b[0mo\u001b[0m \u001b[0;32min\u001b[0m \u001b[0mzip\u001b[0m\u001b[0;34m(\u001b[0m\u001b[0mout_labels\u001b[0m\u001b[0;34m,\u001b[0m \u001b[0mouts\u001b[0m\u001b[0;34m)\u001b[0m\u001b[0;34m:\u001b[0m\u001b[0;34m\u001b[0m\u001b[0;34m\u001b[0m\u001b[0m\n",
      "\u001b[0;32m/nfshome/apps/python-3.6.7/lib/python3.6/site-packages/keras/backend/tensorflow_backend.py\u001b[0m in \u001b[0;36m__call__\u001b[0;34m(self, inputs)\u001b[0m\n\u001b[1;32m   2713\u001b[0m                 \u001b[0;32mreturn\u001b[0m \u001b[0mself\u001b[0m\u001b[0;34m.\u001b[0m\u001b[0m_legacy_call\u001b[0m\u001b[0;34m(\u001b[0m\u001b[0minputs\u001b[0m\u001b[0;34m)\u001b[0m\u001b[0;34m\u001b[0m\u001b[0;34m\u001b[0m\u001b[0m\n\u001b[1;32m   2714\u001b[0m \u001b[0;34m\u001b[0m\u001b[0m\n\u001b[0;32m-> 2715\u001b[0;31m             \u001b[0;32mreturn\u001b[0m \u001b[0mself\u001b[0m\u001b[0;34m.\u001b[0m\u001b[0m_call\u001b[0m\u001b[0;34m(\u001b[0m\u001b[0minputs\u001b[0m\u001b[0;34m)\u001b[0m\u001b[0;34m\u001b[0m\u001b[0;34m\u001b[0m\u001b[0m\n\u001b[0m\u001b[1;32m   2716\u001b[0m         \u001b[0;32melse\u001b[0m\u001b[0;34m:\u001b[0m\u001b[0;34m\u001b[0m\u001b[0;34m\u001b[0m\u001b[0m\n\u001b[1;32m   2717\u001b[0m             \u001b[0;32mif\u001b[0m \u001b[0mpy_any\u001b[0m\u001b[0;34m(\u001b[0m\u001b[0mis_tensor\u001b[0m\u001b[0;34m(\u001b[0m\u001b[0mx\u001b[0m\u001b[0;34m)\u001b[0m \u001b[0;32mfor\u001b[0m \u001b[0mx\u001b[0m \u001b[0;32min\u001b[0m \u001b[0minputs\u001b[0m\u001b[0;34m)\u001b[0m\u001b[0;34m:\u001b[0m\u001b[0;34m\u001b[0m\u001b[0;34m\u001b[0m\u001b[0m\n",
      "\u001b[0;32m/nfshome/apps/python-3.6.7/lib/python3.6/site-packages/keras/backend/tensorflow_backend.py\u001b[0m in \u001b[0;36m_call\u001b[0;34m(self, inputs)\u001b[0m\n\u001b[1;32m   2673\u001b[0m             \u001b[0mfetched\u001b[0m \u001b[0;34m=\u001b[0m \u001b[0mself\u001b[0m\u001b[0;34m.\u001b[0m\u001b[0m_callable_fn\u001b[0m\u001b[0;34m(\u001b[0m\u001b[0;34m*\u001b[0m\u001b[0marray_vals\u001b[0m\u001b[0;34m,\u001b[0m \u001b[0mrun_metadata\u001b[0m\u001b[0;34m=\u001b[0m\u001b[0mself\u001b[0m\u001b[0;34m.\u001b[0m\u001b[0mrun_metadata\u001b[0m\u001b[0;34m)\u001b[0m\u001b[0;34m\u001b[0m\u001b[0;34m\u001b[0m\u001b[0m\n\u001b[1;32m   2674\u001b[0m         \u001b[0;32melse\u001b[0m\u001b[0;34m:\u001b[0m\u001b[0;34m\u001b[0m\u001b[0;34m\u001b[0m\u001b[0m\n\u001b[0;32m-> 2675\u001b[0;31m             \u001b[0mfetched\u001b[0m \u001b[0;34m=\u001b[0m \u001b[0mself\u001b[0m\u001b[0;34m.\u001b[0m\u001b[0m_callable_fn\u001b[0m\u001b[0;34m(\u001b[0m\u001b[0;34m*\u001b[0m\u001b[0marray_vals\u001b[0m\u001b[0;34m)\u001b[0m\u001b[0;34m\u001b[0m\u001b[0;34m\u001b[0m\u001b[0m\n\u001b[0m\u001b[1;32m   2676\u001b[0m         \u001b[0;32mreturn\u001b[0m \u001b[0mfetched\u001b[0m\u001b[0;34m[\u001b[0m\u001b[0;34m:\u001b[0m\u001b[0mlen\u001b[0m\u001b[0;34m(\u001b[0m\u001b[0mself\u001b[0m\u001b[0;34m.\u001b[0m\u001b[0moutputs\u001b[0m\u001b[0;34m)\u001b[0m\u001b[0;34m]\u001b[0m\u001b[0;34m\u001b[0m\u001b[0;34m\u001b[0m\u001b[0m\n\u001b[1;32m   2677\u001b[0m \u001b[0;34m\u001b[0m\u001b[0m\n",
      "\u001b[0;32m/nfshome/apps/python-3.6.7/lib/python3.6/site-packages/tensorflow/python/client/session.py\u001b[0m in \u001b[0;36m__call__\u001b[0;34m(self, *args, **kwargs)\u001b[0m\n\u001b[1;32m   1397\u001b[0m           ret = tf_session.TF_SessionRunCallable(\n\u001b[1;32m   1398\u001b[0m               \u001b[0mself\u001b[0m\u001b[0;34m.\u001b[0m\u001b[0m_session\u001b[0m\u001b[0;34m.\u001b[0m\u001b[0m_session\u001b[0m\u001b[0;34m,\u001b[0m \u001b[0mself\u001b[0m\u001b[0;34m.\u001b[0m\u001b[0m_handle\u001b[0m\u001b[0;34m,\u001b[0m \u001b[0margs\u001b[0m\u001b[0;34m,\u001b[0m \u001b[0mstatus\u001b[0m\u001b[0;34m,\u001b[0m\u001b[0;34m\u001b[0m\u001b[0;34m\u001b[0m\u001b[0m\n\u001b[0;32m-> 1399\u001b[0;31m               run_metadata_ptr)\n\u001b[0m\u001b[1;32m   1400\u001b[0m         \u001b[0;32mif\u001b[0m \u001b[0mrun_metadata\u001b[0m\u001b[0;34m:\u001b[0m\u001b[0;34m\u001b[0m\u001b[0;34m\u001b[0m\u001b[0m\n\u001b[1;32m   1401\u001b[0m           \u001b[0mproto_data\u001b[0m \u001b[0;34m=\u001b[0m \u001b[0mtf_session\u001b[0m\u001b[0;34m.\u001b[0m\u001b[0mTF_GetBuffer\u001b[0m\u001b[0;34m(\u001b[0m\u001b[0mrun_metadata_ptr\u001b[0m\u001b[0;34m)\u001b[0m\u001b[0;34m\u001b[0m\u001b[0;34m\u001b[0m\u001b[0m\n",
      "\u001b[0;31mKeyboardInterrupt\u001b[0m: "
     ]
    }
   ],
   "source": [
    "history = model.fit(X_train, Y_train, batch_size = 200, \n",
    "                    epochs = 10, verbose = 0, validation_split = 0.25, \n",
    "                    callbacks = [TQDMNotebookCallback()])\n",
    "print('Accuracy: ', model.evaluate(X_test, Y_test)[1] * 100.0, '%')"
   ]
  },
  {
   "cell_type": "code",
   "execution_count": 36,
   "metadata": {},
   "outputs": [
    {
     "data": {
      "image/png": "[encoded data removed]",
      "text/plain": [
       "<Figure size 432x288 with 2 Axes>"
      ]
     },
     "metadata": {
      "needs_background": "light"
     },
     "output_type": "display_data"
    }
   ],
   "source": [
    "plt.figure(1)\n",
    "\n",
    "# Accuracy\n",
    "plt.subplot(211)\n",
    "plt.plot(history.history['acc'])\n",
    "plt.plot(history.history['val_acc'])\n",
    "plt.title('Model Accuracy')\n",
    "plt.ylabel('Accuracy')\n",
    "plt.xlabel('Epoch')\n",
    "plt.legend(['train', 'test'], loc = 'upper left')\n",
    "\n",
    "# Loss\n",
    "plt.subplot(212)\n",
    "plt.plot(history.history['loss'])\n",
    "plt.plot(history.history['val_loss'])\n",
    "plt.title('Model Loss')\n",
    "plt.ylabel('Loss')\n",
    "plt.xlabel('Epoch')\n",
    "plt.legend(['train', 'test'], loc = 'upper left')\n",
    "\n",
    "plt.tight_layout()\n",
    "plt.show()"
   ]
  },
  {
   "cell_type": "code",
   "execution_count": 144,
   "metadata": {},
   "outputs": [],
   "source": [
    "model = keras.models.load_model('model.model')\n",
    "model.load_weights('model.weights')"
   ]
  },
  {
   "cell_type": "code",
   "execution_count": 145,
   "metadata": {},
   "outputs": [
    {
     "data": {
      "application/vnd.jupyter.widget-view+json": {
       "model_id": "d203dbc2950442f0815a195efdd42d60",
       "version_major": 2,
       "version_minor": 0
      },
      "text/plain": [
       "HBox(children=(IntProgress(value=0, description='Training', style=ProgressStyle(description_width='initial')),…"
      ]
     },
     "metadata": {},
     "output_type": "display_data"
    },
    {
     "data": {
      "application/vnd.jupyter.widget-view+json": {
       "model_id": "",
       "version_major": 2,
       "version_minor": 0
      },
      "text/plain": [
       "HBox(children=(IntProgress(value=0, description='Epoch 0', max=946, style=ProgressStyle(description_width='ini…"
      ]
     },
     "metadata": {},
     "output_type": "display_data"
    },
    {
     "name": "stdout",
     "output_type": "stream",
     "text": [
      "2527/2527 [==============================] - 19s 8ms/step\n",
      "Accuracy:  59.200633161852004 %\n"
     ]
    }
   ],
   "source": [
    "history2 = model.fit(X_train, Y_train, batch_size = 200, \n",
    "                    epochs = 100, verbose = 0, validation_split = 0.25, \n",
    "                    callbacks = [TQDMNotebookCallback()])\n",
    "print('Accuracy: ', model.evaluate(X, Y)[1] * 100.0, '%')"
   ]
  },
  {
   "cell_type": "code",
   "execution_count": 138,
   "metadata": {},
   "outputs": [],
   "source": [
    "model.save_weights('model_4.weights')\n",
    "model.save('model_4.model')"
   ]
  },
  {
   "cell_type": "code",
   "execution_count": 150,
   "metadata": {},
   "outputs": [
    {
     "data": {
      "image/png": "[encoded data removed]",
      "text/plain": [
       "<Figure size 432x288 with 2 Axes>"
      ]
     },
     "metadata": {
      "needs_background": "light"
     },
     "output_type": "display_data"
    }
   ],
   "source": [
    "plt.figure(1)\n",
    "\n",
    "# Accuracy\n",
    "plt.subplot(211)\n",
    "plt.plot(history2.history['acc'])\n",
    "plt.plot(history2.history['val_acc'])\n",
    "plt.title('Model Accuracy')\n",
    "plt.ylabel('Accuracy')\n",
    "plt.xlabel('Epoch')\n",
    "plt.legend(['train', 'test'], loc = 'upper left')\n",
    "\n",
    "# Loss\n",
    "plt.subplot(212)\n",
    "plt.plot(history2.history['loss'])\n",
    "plt.plot(history2.history['val_loss'])\n",
    "plt.title('Model Loss')\n",
    "plt.ylabel('Loss')\n",
    "plt.xlabel('Epoch')\n",
    "plt.legend(['train', 'test'], loc = 'upper left')\n",
    "\n",
    "plt.tight_layout()\n",
    "plt.show()"
   ]
  },
  {
   "cell_type": "code",
   "execution_count": 37,
   "metadata": {},
   "outputs": [],
   "source": [
    "preds = model.predict(X_test)"
   ]
  },
  {
   "cell_type": "code",
   "execution_count": 68,
   "metadata": {},
   "outputs": [
    {
     "name": "stdout",
     "output_type": "stream",
     "text": [
      "[13.815882  18.93787    5.857979  46.598873  11.526981   3.2624211]\n",
      "[0. 1. 0. 0. 0. 0.]\n"
     ]
    },
    {
     "data": {
      "image/png": "[encoded data removed]",
      "text/plain": [
       "<Figure size 432x288 with 1 Axes>"
      ]
     },
     "metadata": {
      "needs_background": "light"
     },
     "output_type": "display_data"
    }
   ],
   "source": [
    "img = 6\n",
    "np.set_printoptions(suppress = True)\n",
    "print(preds[img] * 100.0)\n",
    "print(Y_test[img])\n",
    "\n",
    "plt.imshow(keras.preprocessing.image.array_to_img(X_test[img, :, :, :]))\n",
    "plt.show()\n",
    "\n",
    "#for a in Y_train:\n",
    "#    print(a)"
   ]
  },
  {
   "cell_type": "code",
   "execution_count": 42,
   "metadata": {},
   "outputs": [
    {
     "name": "stdout",
     "output_type": "stream",
     "text": [
      "71.699604743083\n"
     ]
    }
   ],
   "source": [
    "def getIndexOfHighestConfidence(pred):\n",
    "    highestConfidenceIndex = 0\n",
    "    for i in range(len(pred)):\n",
    "        if pred[i] > pred[highestConfidenceIndex]:\n",
    "            highestConfidenceIndex = i\n",
    "    return highestConfidenceIndex\n",
    "\n",
    "def getIndexOfClassification(test):\n",
    "    classIndex = 0\n",
    "    for i in range(len(test)):\n",
    "        if test[i] == 1:\n",
    "            classIndex = i\n",
    "            break\n",
    "    return classIndex\n",
    "\n",
    "numCorrect = 0\n",
    "for i in range(len(preds)):\n",
    "    if getIndexOfHighestConfidence(preds[i]) == getIndexOfClassification(Y_test[i]):\n",
    "        numCorrect = numCorrect + 1\n",
    "\n",
    "percentCorrect = numCorrect / len(preds)\n",
    "print(percentCorrect * 100.0)"
   ]
  },
  {
   "cell_type": "code",
   "execution_count": null,
   "metadata": {},
   "outputs": [],
   "source": []
  }
 ],
 "metadata": {
  "kernelspec": {
   "display_name": "Python 3",
   "language": "python",
   "name": "python3"
  },
  "language_info": {
   "codemirror_mode": {
    "name": "ipython",
    "version": 3
   },
   "file_extension": ".py",
   "mimetype": "text/x-python",
   "name": "python",
   "nbconvert_exporter": "python",
   "pygments_lexer": "ipython3",
   "version": "3.6.7"
  }
 },
 "nbformat": 4,
 "nbformat_minor": 2
}
