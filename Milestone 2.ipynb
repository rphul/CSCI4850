{
 "cells": [
  {
   "cell_type": "markdown",
   "metadata": {},
   "source": [
    "<h1> Milestone Report 2 </h1>\n",
    "<h2> 3/28/2019 </h2>\n",
    "<h3> Team Members </h3>\n",
    "<ul>\n",
    "    <li> Armstrong, Ryan</li>\n",
    "    <li> Nelson, Cory</li>\n",
    "    <li> Phulwani, Richa</li>\n",
    "    <li> Smith, Stephen</li>\n",
    "    <li> Vanlandingham, Mathew</li>\n",
    "</ul>"
   ]
  },
  {
   "cell_type": "markdown",
   "metadata": {},
   "source": [
    "<table>\n",
    "    <tr>\n",
    "        <th>MILESTONE Chart 1 </th>\n",
    "    </tr>\n",
    "    <tr>\n",
    "        <th>Deliverable </th>\n",
    "        <th> Percent Complete</th>\n",
    "        <th> Estimated Completion Date</th>\n",
    "        <th> Percent Complete by Next Milestone</th>\n",
    "    </tr>\n",
    "    <tr>\n",
    "        <th>Code </th>\n",
    "        <th>0 </th>\n",
    "        <th>Apr. 20 </th>\n",
    "        <th>15</th>\n",
    "    </tr>\n",
    "    <tr>\n",
    "        <th>Paper</th>\n",
    "        <th>0</th>\n",
    "        <th>Apr. 23</th>\n",
    "        <th>0</th>\n",
    "    </tr>\n",
    "    <tr>\n",
    "        <th>Demo</th>\n",
    "        <th>0</th>\n",
    "        <th>Apr. 30</th>\n",
    "        <th>0</th>\n",
    "    </tr>\n",
    "    <tr>\n",
    "        <th>Presentation</th>\n",
    "        <th>0</th>\n",
    "        <th>May 1</th>\n",
    "        <th>0</th>\n",
    "    </tr>\n",
    "</table>"
   ]
  },
  {
   "cell_type": "markdown",
   "metadata": {},
   "source": [
    "<p>\n",
    "1. What deliverable goals established in the last milestone report were accomplished to the anticipated percentage?\n",
    "The dataset was loaded into the directory. </p>\n",
    "\n",
    "<p> 2. What deliverable goals established in the last milestone report were were not accomplished to the anticipated percentage?\n",
    "The dataset wasn’t labeled or preprocessed, and the code hasn’t been started. </p>\n",
    "\n",
    "<p> 3. What are the main deliverable goals to meet before the next milestone report, and who is working on them? </p>\n",
    "\n",
    "<li> Making the CSV - Matt </li>\n",
    "<li> Labeling data in CSV - Richa </li>\n",
    "<li> Resizing/Renaming the data (preprocessing) - Stephen </li>\n",
    "<li> Subtracting the mean from the data (preprocessing) - Ryan </li>\n",
    "<li> Loading the data into the network - Cory </li>\n",
    "\n"
   ]
  },
  {
   "cell_type": "code",
   "execution_count": null,
   "metadata": {},
   "outputs": [],
   "source": []
  }
 ],
 "metadata": {
  "kernelspec": {
   "display_name": "Python 3",
   "language": "python",
   "name": "python3"
  },
  "language_info": {
   "codemirror_mode": {
    "name": "ipython",
    "version": 3
   },
   "file_extension": ".py",
   "mimetype": "text/x-python",
   "name": "python",
   "nbconvert_exporter": "python",
   "pygments_lexer": "ipython3",
   "version": "3.6.7"
  }
 },
 "nbformat": 4,
 "nbformat_minor": 2
}
