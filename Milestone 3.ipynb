{
 "cells": [
  {
   "cell_type": "markdown",
   "metadata": {},
   "source": [
    "<h1> Milestone Report 2 </h1>\n",
    "<h2> 4/11/2019 </h2>\n",
    "<h3> Team Members </h3>\n",
    "<ul>\n",
    "    <li> Armstrong, Ryan </li>\n",
    "    <li> Nelson, Cory </li>\n",
    "    <li> Phulwani, Richa </li>\n",
    "    <li> Smith, Stephen </li>\n",
    "    <li> Vanlandingham, Mathew </li>\n",
    "</ul>"
   ]
  },
  {
   "cell_type": "markdown",
   "metadata": {},
   "source": [
    "<table>\n",
    "    <tr>\n",
    "        <th> Milestone Chart 3 </th>\n",
    "    </tr>\n",
    "    <tr>\n",
    "        <th> Deliverable </th>\n",
    "        <th> Percent Complete </th>\n",
    "        <th> Estimated Completion Date </th>\n",
    "        <th> Percent Complete by Next Milestone </th>\n",
    "    </tr>\n",
    "    <tr>\n",
    "        <th> Code </th>\n",
    "        <th> 70 </th>\n",
    "        <th> April 23 </th>\n",
    "        <th> 100 </th>\n",
    "    </tr>\n",
    "    <tr>\n",
    "        <th> Paper </th>\n",
    "        <th> 0 </th>\n",
    "        <th> April 23 </th>\n",
    "        <th> 100 </th>\n",
    "    </tr>\n",
    "    <tr>\n",
    "        <th> Demo </th>\n",
    "        <th> 0 </th>\n",
    "        <th> May 1 </th>\n",
    "        <th> 100 </th>\n",
    "    </tr>\n",
    "    <tr>\n",
    "        <th> Presentation </th>\n",
    "        <th> 0 </th>\n",
    "        <th> May 1 </th>\n",
    "        <th> 100 </th>\n",
    "    </tr>\n",
    "</table>"
   ]
  },
  {
   "cell_type": "markdown",
   "metadata": {},
   "source": [
    "1. What deliverable goals established in the last milestone report were accomplished to the anticipated percentage?<br>\n",
    "All goals set in the previous milestone were achieved.  Creating and training the network were not established in the previous milestone but significant progress has been made in that area regardless. The data was renamed, resized, preprocessed by subtracting the mean, loaded into the network, and the network was made. The network achieved an accuracy of 73% by experimenting with the network's parameters such as kernel size, number of hidden layers, filters etc. \n",
    "\n",
    "2. What deliverable goals established in the last milestone report were not accomplished to the anticipated percentage?<br>\n",
    "N/A\n",
    "\n",
    "3. What are the main deliverable goals to meet before the next milestone report and who is working on them?<br>\n",
    "<ul>\n",
    "    <li> Tweak network and write demo code - Ryan </li>\n",
    "    <li> Write paper - Cory </li>\n",
    "    <li> Collect images for network testing and for demo - Matt </li>\n",
    "    <li> Work on presentation and aid in writing paper - Richa and Stephen </li>\n",
    "</ul>"
   ]
  },
  {
   "cell_type": "code",
   "execution_count": null,
   "metadata": {},
   "outputs": [],
   "source": []
  }
 ],
 "metadata": {
  "kernelspec": {
   "display_name": "Python 3",
   "language": "python",
   "name": "python3"
  },
  "language_info": {
   "codemirror_mode": {
    "name": "ipython",
    "version": 3
   },
   "file_extension": ".py",
   "mimetype": "text/x-python",
   "name": "python",
   "nbconvert_exporter": "python",
   "pygments_lexer": "ipython3",
   "version": "3.6.7"
  }
 },
 "nbformat": 4,
 "nbformat_minor": 2
}
