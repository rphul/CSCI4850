{
 "cells": [
  {
   "cell_type": "code",
   "execution_count": 1,
   "metadata": {},
   "outputs": [
    {
     "name": "stderr",
     "output_type": "stream",
     "text": [
      "Using TensorFlow backend.\n"
     ]
    }
   ],
   "source": [
    "# NN-Tools\n",
    "import numpy as np\n",
    "import keras\n",
    "from keras import optimizers\n",
    "# Visualization\n",
    "from IPython.display import SVG\n",
    "from IPython.display import display\n",
    "from keras.utils.vis_utils import model_to_dot\n",
    "from keras.utils import plot_model\n",
    "# Printing\n",
    "from sympy import *\n",
    "init_printing(use_latex=True)\n",
    "# Plotting\n",
    "import matplotlib.pyplot as plt\n",
    "%matplotlib inline"
   ]
  },
  {
   "cell_type": "code",
   "execution_count": 2,
   "metadata": {},
   "outputs": [
    {
     "data": {
      "text/latex": [
       "$$\\left[\\begin{matrix}-1 & -1\\\\-1 & 1\\\\1 & -1\\\\1 & 1\\end{matrix}\\right]$$"
      ],
      "text/plain": [
       "⎡-1  -1⎤\n",
       "⎢      ⎥\n",
       "⎢-1  1 ⎥\n",
       "⎢      ⎥\n",
       "⎢1   -1⎥\n",
       "⎢      ⎥\n",
       "⎣1   1 ⎦"
      ]
     },
     "metadata": {},
     "output_type": "display_data"
    },
    {
     "data": {
      "text/latex": [
       "$$\\left[\\begin{matrix}0\\\\1\\\\1\\\\0\\end{matrix}\\right]$$"
      ],
      "text/plain": [
       "⎡0⎤\n",
       "⎢ ⎥\n",
       "⎢1⎥\n",
       "⎢ ⎥\n",
       "⎢1⎥\n",
       "⎢ ⎥\n",
       "⎣0⎦"
      ]
     },
     "metadata": {},
     "output_type": "display_data"
    }
   ],
   "source": [
    "# XOR data set\n",
    "X = np.array([[-1,-1],[-1,1],[1,-1],[1,1]])\n",
    "display(Matrix(X))\n",
    "Y = np.array([0,1,1,0])\n",
    "display(Matrix(Y))"
   ]
  },
  {
   "cell_type": "code",
   "execution_count": 150,
   "metadata": {},
   "outputs": [
    {
     "name": "stdout",
     "output_type": "stream",
     "text": [
      "_________________________________________________________________\n",
      "Layer (type)                 Output Shape              Param #   \n",
      "=================================================================\n",
      "dense_45 (Dense)             (None, 1)                 3         \n",
      "_________________________________________________________________\n",
      "dense_46 (Dense)             (None, 1)                 2         \n",
      "=================================================================\n",
      "Total params: 5\n",
      "Trainable params: 5\n",
      "Non-trainable params: 0\n",
      "_________________________________________________________________\n",
      "None\n"
     ]
    }
   ],
   "source": [
    "# Multi-layer net with ReLU hidden layer\n",
    "model = keras.models.Sequential()\n",
    "# Here we make the hidden layer (size 2) with a ReL\n",
    "# activation function, but also initialize the bias\n",
    "# weights in the network to a constant 0.1\n",
    "model.add(keras.layers.Dense(1,input_dim=2,activation='relu',\n",
    "bias_initializer=keras.initializers.Constant(0.1)))\n",
    "# Output layer (size 1), sigmoid activation function\n",
    "model.add(keras.layers.Dense(1,activation='sigmoid'))\n",
    "# Compile as above (default learning rate and other\n",
    "# hyperparameters for the Adam optimizer).\n",
    "adam = optimizers.adam(beta_1=0.9, beta_2=0.999,decay=0.1, lr= 0.9)\n",
    "model.compile(loss='binary_crossentropy',optimizer='adam',metrics=['accuracy'])\n",
    "# Display the model\n",
    "print(model.summary())"
   ]
  },
  {
   "cell_type": "code",
   "execution_count": 144,
   "metadata": {},
   "outputs": [
    {
     "data": {
      "text/latex": [
       "$$\\left[\\begin{matrix}0.0913622\\\\-0.855298\\end{matrix}\\right]$$"
      ],
      "text/plain": [
       "⎡0.0913622⎤\n",
       "⎢         ⎥\n",
       "⎣-0.855298⎦"
      ]
     },
     "metadata": {},
     "output_type": "display_data"
    },
    {
     "data": {
      "text/latex": [
       "$$\\left[\\begin{matrix}0.1\\end{matrix}\\right]$$"
      ],
      "text/plain": [
       "[0.1]"
      ]
     },
     "metadata": {},
     "output_type": "display_data"
    },
    {
     "data": {
      "text/latex": [
       "$$\\left[\\begin{matrix}0.746961\\end{matrix}\\right]$$"
      ],
      "text/plain": [
       "[0.746961]"
      ]
     },
     "metadata": {},
     "output_type": "display_data"
    },
    {
     "data": {
      "text/latex": [
       "$$\\left[\\begin{matrix}0.0\\end{matrix}\\right]$$"
      ],
      "text/plain": [
       "[0.0]"
      ]
     },
     "metadata": {},
     "output_type": "display_data"
    }
   ],
   "source": [
    "for i in model.get_weights():\n",
    "    display(Matrix(i))"
   ]
  },
  {
   "cell_type": "code",
   "execution_count": 113,
   "metadata": {},
   "outputs": [
    {
     "data": {
      "image/svg+xml": [
       "<svg height=\"191pt\" viewBox=\"0.00 0.00 126.00 191.00\" width=\"126pt\" xmlns=\"http://www.w3.org/2000/svg\" xmlns:xlink=\"http://www.w3.org/1999/xlink\">\n",
       "<g class=\"graph\" id=\"graph0\" transform=\"scale(1 1) rotate(0) translate(4 187)\">\n",
       "<title>G</title>\n",
       "<polygon fill=\"white\" points=\"-4,4 -4,-187 122,-187 122,4 -4,4\" stroke=\"none\"/>\n",
       "<!-- 139850683762728 -->\n",
       "<g class=\"node\" id=\"node1\"><title>139850683762728</title>\n",
       "<polygon fill=\"none\" points=\"4.5,-73.5 4.5,-109.5 113.5,-109.5 113.5,-73.5 4.5,-73.5\" stroke=\"black\"/>\n",
       "<text font-family=\"Times,serif\" font-size=\"14.00\" text-anchor=\"middle\" x=\"59\" y=\"-87.8\">dense_33: Dense</text>\n",
       "</g>\n",
       "<!-- 139850683762616 -->\n",
       "<g class=\"node\" id=\"node2\"><title>139850683762616</title>\n",
       "<polygon fill=\"none\" points=\"4.5,-0.5 4.5,-36.5 113.5,-36.5 113.5,-0.5 4.5,-0.5\" stroke=\"black\"/>\n",
       "<text font-family=\"Times,serif\" font-size=\"14.00\" text-anchor=\"middle\" x=\"59\" y=\"-14.8\">dense_34: Dense</text>\n",
       "</g>\n",
       "<!-- 139850683762728&#45;&gt;139850683762616 -->\n",
       "<g class=\"edge\" id=\"edge2\"><title>139850683762728-&gt;139850683762616</title>\n",
       "<path d=\"M59,-73.3129C59,-65.2895 59,-55.5475 59,-46.5691\" fill=\"none\" stroke=\"black\"/>\n",
       "<polygon fill=\"black\" points=\"62.5001,-46.5288 59,-36.5288 55.5001,-46.5289 62.5001,-46.5288\" stroke=\"black\"/>\n",
       "</g>\n",
       "<!-- 139850683939696 -->\n",
       "<g class=\"node\" id=\"node3\"><title>139850683939696</title>\n",
       "<polygon fill=\"none\" points=\"0,-146.5 0,-182.5 118,-182.5 118,-146.5 0,-146.5\" stroke=\"black\"/>\n",
       "<text font-family=\"Times,serif\" font-size=\"14.00\" text-anchor=\"middle\" x=\"59\" y=\"-160.8\">139850683939696</text>\n",
       "</g>\n",
       "<!-- 139850683939696&#45;&gt;139850683762728 -->\n",
       "<g class=\"edge\" id=\"edge1\"><title>139850683939696-&gt;139850683762728</title>\n",
       "<path d=\"M59,-146.313C59,-138.289 59,-128.547 59,-119.569\" fill=\"none\" stroke=\"black\"/>\n",
       "<polygon fill=\"black\" points=\"62.5001,-119.529 59,-109.529 55.5001,-119.529 62.5001,-119.529\" stroke=\"black\"/>\n",
       "</g>\n",
       "</g>\n",
       "</svg>"
      ],
      "text/plain": [
       "<IPython.core.display.SVG object>"
      ]
     },
     "execution_count": 113,
     "metadata": {},
     "output_type": "execute_result"
    }
   ],
   "source": [
    "SVG(model_to_dot(model).create(prog='dot', format='svg'))"
   ]
  },
  {
   "cell_type": "code",
   "execution_count": 151,
   "metadata": {},
   "outputs": [
    {
     "data": {
      "image/png": "[encoded data removed]",
      "text/plain": [
       "<Figure size 432x288 with 1 Axes>"
      ]
     },
     "metadata": {
      "needs_background": "light"
     },
     "output_type": "display_data"
    }
   ],
   "source": [
    "# Sample plot of classification space\n",
    "xpoints = np.linspace(-2,2,20)\n",
    "ypoints = np.linspace(-2,2,20)\n",
    "xgrid, ygrid = np.meshgrid(xpoints,ypoints)\n",
    "positions = np.vstack([xgrid.ravel(),ygrid.ravel()]).T\n",
    "# Green grid points where we will evaluate the network\n",
    "# outputs.\n",
    "plt.plot(positions[:,0],positions[:,1],'go')\n",
    "# Color the zero-expected outputs red\n",
    "plt.plot(X[[0,3],0],X[[0,3],1],'ro',markersize=10)\n",
    "# Color the one-expected outputs blue\n",
    "plt.plot(X[[1,2],0],X[[1,2],1],'bo',markersize=10)\n",
    "plt.show()"
   ]
  },
  {
   "cell_type": "code",
   "execution_count": 152,
   "metadata": {},
   "outputs": [
    {
     "data": {
      "image/png": "[encoded data removed]",
      "text/plain": [
       "<Figure size 432x288 with 1 Axes>"
      ]
     },
     "metadata": {
      "needs_background": "light"
     },
     "output_type": "display_data"
    }
   ],
   "source": [
    "# Let's color those points by the classification labels...\n",
    "predictions = model.predict_classes(positions)[:,0]\n",
    "zeros = positions[predictions==0,:]\n",
    "ones = positions[predictions==1,:]\n",
    "# Color predictions by class\n",
    "plt.plot(zeros[:,0],zeros[:,1],'ro')\n",
    "plt.plot(ones[:,0],ones[:,1],'bo')\n",
    "# Color the zero-expected outputs red\n",
    "plt.plot(X[[0,3],0],X[[0,3],1],'ro',markersize=10)\n",
    "# Color the one-expected outputs blue\n",
    "plt.plot(X[[1,2],0],X[[1,2],1],'bo',markersize=10)\n",
    "plt.show()"
   ]
  },
  {
   "cell_type": "code",
   "execution_count": 153,
   "metadata": {},
   "outputs": [],
   "source": [
    "# Train it!\n",
    "history = model.fit(X, Y,\n",
    "batch_size=1,\n",
    "epochs=1500,verbose =0 )"
   ]
  },
  {
   "cell_type": "code",
   "execution_count": 154,
   "metadata": {},
   "outputs": [
    {
     "data": {
      "image/png": "[encoded data removed]",
      "text/plain": [
       "<Figure size 432x288 with 1 Axes>"
      ]
     },
     "metadata": {
      "needs_background": "light"
     },
     "output_type": "display_data"
    }
   ],
   "source": [
    "# summarize history for loss\n",
    "plt.plot(history.history['loss'])\n",
    "plt.title('model loss')\n",
    "plt.ylabel('loss')\n",
    "plt.xlabel('epoch')\n",
    "plt.legend(['train'], loc='upper left')\n",
    "plt.show()"
   ]
  },
  {
   "cell_type": "code",
   "execution_count": 155,
   "metadata": {},
   "outputs": [
    {
     "data": {
      "image/png": "[encoded data removed]",
      "text/plain": [
       "<Figure size 432x288 with 1 Axes>"
      ]
     },
     "metadata": {
      "needs_background": "light"
     },
     "output_type": "display_data"
    }
   ],
   "source": [
    "# Let's color those points by the classification labels...\n",
    "predictions = model.predict_classes(positions)[:,0]\n",
    "zeros = positions[predictions==0,:]\n",
    "ones = positions[predictions==1,:]\n",
    "# Color predictions by class\n",
    "plt.plot(zeros[:,0],zeros[:,1],'ro')\n",
    "plt.plot(ones[:,0],ones[:,1],'bo')\n",
    "# Color the zero-expected outputs red\n",
    "plt.plot(X[[0,3],0],X[[0,3],1],'ro',markersize=10)\n",
    "# Color the one-expected outputs blue\n",
    "plt.plot(X[[1,2],0],X[[1,2],1],'bo',markersize=10)\n",
    "plt.show()"
   ]
  },
  {
   "cell_type": "code",
   "execution_count": null,
   "metadata": {},
   "outputs": [],
   "source": []
  }
 ],
 "metadata": {
  "kernelspec": {
   "display_name": "Python 3",
   "language": "python",
   "name": "python3"
  },
  "language_info": {
   "codemirror_mode": {
    "name": "ipython",
    "version": 3
   },
   "file_extension": ".py",
   "mimetype": "text/x-python",
   "name": "python",
   "nbconvert_exporter": "python",
   "pygments_lexer": "ipython3",
   "version": "3.6.7"
  }
 },
 "nbformat": 4,
 "nbformat_minor": 2
}
