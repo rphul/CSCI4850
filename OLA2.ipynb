{
 "cells": [
  {
   "cell_type": "markdown",
   "metadata": {},
   "source": [
    "<h3> Richa Phulwani - OLA 2 - CSCI4850 </h3>"
   ]
  },
  {
   "cell_type": "code",
   "execution_count": 1,
   "metadata": {},
   "outputs": [],
   "source": [
    "import numpy as np\n",
    "from sympy import *\n",
    "init_printing(use_latex=True)\n",
    "import scipy.spatial.distance as ssd\n",
    "import matplotlib.pyplot as plt\n",
    "%matplotlib inline"
   ]
  },
  {
   "cell_type": "markdown",
   "metadata": {},
   "source": [
    "<h4>Problem 1</h4>"
   ]
  },
  {
   "cell_type": "code",
   "execution_count": 2,
   "metadata": {},
   "outputs": [],
   "source": [
    "x = np.array([5,2,8])"
   ]
  },
  {
   "cell_type": "markdown",
   "metadata": {},
   "source": [
    "L1-norm"
   ]
  },
  {
   "cell_type": "code",
   "execution_count": 16,
   "metadata": {},
   "outputs": [
    {
     "name": "stdout",
     "output_type": "stream",
     "text": [
      "15\n"
     ]
    }
   ],
   "source": [
    "x_L1 = np.sum(abs(x))\n",
    "print(x_L1)"
   ]
  },
  {
   "cell_type": "markdown",
   "metadata": {},
   "source": [
    "L2-norm"
   ]
  },
  {
   "cell_type": "code",
   "execution_count": 25,
   "metadata": {},
   "outputs": [
    {
     "name": "stdout",
     "output_type": "stream",
     "text": [
      "15.0\n"
     ]
    }
   ],
   "source": [
    "x_L2 = np.sum(pow((pow(abs(x),2)),0.5))\n",
    "print(x_L2)"
   ]
  },
  {
   "cell_type": "markdown",
   "metadata": {},
   "source": [
    "<h4>Problem 2</h4>"
   ]
  },
  {
   "cell_type": "code",
   "execution_count": 26,
   "metadata": {},
   "outputs": [],
   "source": [
    "y = np.array([1,3,2])"
   ]
  },
  {
   "cell_type": "code",
   "execution_count": 28,
   "metadata": {},
   "outputs": [
    {
     "name": "stdout",
     "output_type": "stream",
     "text": [
      "Euclidean: 7.280110\n",
      "Cosine distance: 0.251730\n"
     ]
    }
   ],
   "source": [
    "print('Euclidean: %f'%ssd.minkowski(x,y,2))\n",
    "print('Cosine distance: %f'%ssd.cosine(x,y))"
   ]
  },
  {
   "cell_type": "markdown",
   "metadata": {},
   "source": [
    "<h4>Problem 3</h4>"
   ]
  },
  {
   "cell_type": "code",
   "execution_count": 53,
   "metadata": {},
   "outputs": [
    {
     "data": {
      "text/latex": [
       "$$\\left[\\begin{matrix}1 & 2 & 3\\\\4 & 5 & 6\\\\7 & 8 & 9\\\\10 & 11 & 12\\\\13 & 14 & 15\\end{matrix}\\right]$$"
      ],
      "text/plain": [
       "⎡1   2   3 ⎤\n",
       "⎢          ⎥\n",
       "⎢4   5   6 ⎥\n",
       "⎢          ⎥\n",
       "⎢7   8   9 ⎥\n",
       "⎢          ⎥\n",
       "⎢10  11  12⎥\n",
       "⎢          ⎥\n",
       "⎣13  14  15⎦"
      ]
     },
     "execution_count": 53,
     "metadata": {},
     "output_type": "execute_result"
    }
   ],
   "source": [
    "a = np.array([1,2,3])\n",
    "b = np.array([4,5,6])\n",
    "c = np.array([7,8,9])\n",
    "d = np.array([10,11,12])\n",
    "e = np.array([13,14,15])\n",
    "A = np.array([a,b,c,d,e])\n",
    "Matrix((A))"
   ]
  },
  {
   "cell_type": "markdown",
   "metadata": {},
   "source": [
    "<h4> Problem 4 </h4>"
   ]
  },
  {
   "cell_type": "code",
   "execution_count": 54,
   "metadata": {},
   "outputs": [
    {
     "data": {
      "text/latex": [
       "$$\\left[\\begin{matrix}33\\\\78\\\\123\\\\168\\\\213\\end{matrix}\\right]$$"
      ],
      "text/plain": [
       "⎡33 ⎤\n",
       "⎢   ⎥\n",
       "⎢78 ⎥\n",
       "⎢   ⎥\n",
       "⎢123⎥\n",
       "⎢   ⎥\n",
       "⎢168⎥\n",
       "⎢   ⎥\n",
       "⎣213⎦"
      ]
     },
     "execution_count": 54,
     "metadata": {},
     "output_type": "execute_result"
    }
   ],
   "source": [
    "Matrix(np.dot(A,x))"
   ]
  },
  {
   "cell_type": "code",
   "execution_count": 55,
   "metadata": {},
   "outputs": [
    {
     "data": {
      "text/latex": [
       "$$\\left[\\begin{matrix}13\\\\31\\\\49\\\\67\\\\85\\end{matrix}\\right]$$"
      ],
      "text/plain": [
       "⎡13⎤\n",
       "⎢  ⎥\n",
       "⎢31⎥\n",
       "⎢  ⎥\n",
       "⎢49⎥\n",
       "⎢  ⎥\n",
       "⎢67⎥\n",
       "⎢  ⎥\n",
       "⎣85⎦"
      ]
     },
     "execution_count": 55,
     "metadata": {},
     "output_type": "execute_result"
    }
   ],
   "source": [
    "Matrix(np.dot(A,y))"
   ]
  },
  {
   "cell_type": "markdown",
   "metadata": {},
   "source": [
    "<h4> Problem 5 </h4>"
   ]
  },
  {
   "cell_type": "code",
   "execution_count": 58,
   "metadata": {},
   "outputs": [
    {
     "data": {
      "text/latex": [
       "$$\\left[\\begin{matrix}1 & 2 & 3 & 4\\\\5 & 6 & 7 & 8\\\\9 & 10 & 11 & 12\\end{matrix}\\right]$$"
      ],
      "text/plain": [
       "⎡1  2   3   4 ⎤\n",
       "⎢             ⎥\n",
       "⎢5  6   7   8 ⎥\n",
       "⎢             ⎥\n",
       "⎣9  10  11  12⎦"
      ]
     },
     "execution_count": 58,
     "metadata": {},
     "output_type": "execute_result"
    }
   ],
   "source": [
    "f = np.array([1,2,3,4])\n",
    "g = np.array([5,6,7,8])\n",
    "h = np.array([9,10,11,12])\n",
    "B = np.array([f,g,h])\n",
    "Matrix(B)"
   ]
  },
  {
   "cell_type": "code",
   "execution_count": 59,
   "metadata": {},
   "outputs": [
    {
     "data": {
      "text/latex": [
       "$$\\left[\\begin{matrix}38 & 44 & 50 & 56\\\\83 & 98 & 113 & 128\\\\128 & 152 & 176 & 200\\\\173 & 206 & 239 & 272\\\\218 & 260 & 302 & 344\\end{matrix}\\right]$$"
      ],
      "text/plain": [
       "⎡38   44   50   56 ⎤\n",
       "⎢                  ⎥\n",
       "⎢83   98   113  128⎥\n",
       "⎢                  ⎥\n",
       "⎢128  152  176  200⎥\n",
       "⎢                  ⎥\n",
       "⎢173  206  239  272⎥\n",
       "⎢                  ⎥\n",
       "⎣218  260  302  344⎦"
      ]
     },
     "execution_count": 59,
     "metadata": {},
     "output_type": "execute_result"
    }
   ],
   "source": [
    "Matrix(np.dot(A,B))"
   ]
  },
  {
   "cell_type": "markdown",
   "metadata": {},
   "source": [
    "<h4> Problem 6 </h4>"
   ]
  },
  {
   "cell_type": "code",
   "execution_count": 60,
   "metadata": {},
   "outputs": [
    {
     "name": "stdout",
     "output_type": "stream",
     "text": [
      "The history saving thread hit an unexpected error (OperationalError('disk I/O error',)).History will not be written to the database.\n"
     ]
    },
    {
     "data": {
      "text/latex": [
       "$$\\left[\\begin{matrix}0.0 & 5.19615242270663 & 10.3923048454133 & 15.5884572681199 & 20.7846096908265\\\\5.19615242270663 & 0.0 & 5.19615242270663 & 10.3923048454133 & 15.5884572681199\\\\10.3923048454133 & 5.19615242270663 & 0.0 & 5.19615242270663 & 10.3923048454133\\\\15.5884572681199 & 10.3923048454133 & 5.19615242270663 & 0.0 & 5.19615242270663\\\\20.7846096908265 & 15.5884572681199 & 10.3923048454133 & 5.19615242270663 & 0.0\\end{matrix}\\right]$$"
      ],
      "text/plain": [
       "⎡      0.0         5.19615242270663  10.3923048454133  15.5884572681199  20.78\n",
       "⎢                                                                             \n",
       "⎢5.19615242270663        0.0         5.19615242270663  10.3923048454133  15.58\n",
       "⎢                                                                             \n",
       "⎢10.3923048454133  5.19615242270663        0.0         5.19615242270663  10.39\n",
       "⎢                                                                             \n",
       "⎢15.5884572681199  10.3923048454133  5.19615242270663        0.0         5.196\n",
       "⎢                                                                             \n",
       "⎣20.7846096908265  15.5884572681199  10.3923048454133  5.19615242270663       \n",
       "\n",
       "46096908265⎤\n",
       "           ⎥\n",
       "84572681199⎥\n",
       "           ⎥\n",
       "23048454133⎥\n",
       "           ⎥\n",
       "15242270663⎥\n",
       "           ⎥\n",
       " 0.0       ⎦"
      ]
     },
     "execution_count": 60,
     "metadata": {},
     "output_type": "execute_result"
    }
   ],
   "source": [
    "Matrix(ssd.squareform(ssd.pdist(A,metric='euclidean')))"
   ]
  },
  {
   "cell_type": "markdown",
   "metadata": {},
   "source": [
    "<h4> Problem 7 </h4>"
   ]
  },
  {
   "cell_type": "code",
   "execution_count": 62,
   "metadata": {},
   "outputs": [
    {
     "data": {
      "text/latex": [
       "$$\\left[\\begin{matrix}30 & 70 & 110\\\\70 & 174 & 278\\\\110 & 278 & 446\\end{matrix}\\right]$$"
      ],
      "text/plain": [
       "⎡30   70   110⎤\n",
       "⎢             ⎥\n",
       "⎢70   174  278⎥\n",
       "⎢             ⎥\n",
       "⎣110  278  446⎦"
      ]
     },
     "execution_count": 62,
     "metadata": {},
     "output_type": "execute_result"
    }
   ],
   "source": [
    "C = np.dot(B,B.T)\n",
    "Matrix(C)"
   ]
  },
  {
   "cell_type": "markdown",
   "metadata": {},
   "source": [
    "<h4> Problem 8 </h4>"
   ]
  },
  {
   "cell_type": "code",
   "execution_count": 63,
   "metadata": {},
   "outputs": [
    {
     "data": {
      "text/latex": [
       "$$\\left[\\begin{matrix}-0.206735891257632 & -0.889153307703033 & 0.408248290463864\\\\-0.518288737899116 & -0.254381834061074 & -0.816496580927726\\\\-0.8298415845406 & 0.380389639580891 & 0.408248290463863\\end{matrix}\\right] \\left[\\begin{matrix}647.03260704469 & 0.0 & 0.0\\\\0.0 & 2.96739295530956 & 0.0\\\\0.0 & 0.0 & 4.87870499398046 \\cdot 10^{-14}\\end{matrix}\\right] \\left[\\begin{matrix}-0.206735891257632 & -0.518288737899116 & -0.8298415845406\\\\-0.889153307703033 & -0.254381834061074 & 0.380389639580891\\\\0.408248290463864 & -0.816496580927726 & 0.408248290463863\\end{matrix}\\right]$$"
      ],
      "text/plain": [
       "⎡-0.206735891257632  -0.889153307703033  0.408248290463864 ⎤ ⎡647.03260704469 \n",
       "⎢                                                          ⎥ ⎢                \n",
       "⎢-0.518288737899116  -0.254381834061074  -0.816496580927726⎥⋅⎢      0.0       \n",
       "⎢                                                          ⎥ ⎢                \n",
       "⎣ -0.8298415845406   0.380389639580891   0.408248290463863 ⎦ ⎣      0.0       \n",
       "\n",
       "       0.0                 0.0         ⎤ ⎡-0.206735891257632  -0.5182887378991\n",
       "                                       ⎥ ⎢                                    \n",
       " 2.96739295530956          0.0         ⎥⋅⎢-0.889153307703033  -0.2543818340610\n",
       "                                       ⎥ ⎢                                    \n",
       "       0.0         4.87870499398046e-14⎦ ⎣0.408248290463864   -0.8164965809277\n",
       "\n",
       "16  -0.8298415845406 ⎤\n",
       "                     ⎥\n",
       "74  0.380389639580891⎥\n",
       "                     ⎥\n",
       "26  0.408248290463863⎦"
      ]
     },
     "execution_count": 63,
     "metadata": {},
     "output_type": "execute_result"
    }
   ],
   "source": [
    "L,Q = np.linalg.eig(C)\n",
    "Mul(Matrix(Q),Matrix(np.diag(L)),Matrix(Q).T,evaluate=False)"
   ]
  },
  {
   "cell_type": "markdown",
   "metadata": {},
   "source": [
    "<h4> Problem 9 </h4>"
   ]
  },
  {
   "cell_type": "code",
   "execution_count": 64,
   "metadata": {},
   "outputs": [
    {
     "data": {
      "text/latex": [
       "$$\\left[\\begin{matrix}30.0 & 70.0 & 110.0\\\\70.0 & 174.0 & 278.0\\\\110.0 & 278.0 & 446.0\\end{matrix}\\right]$$"
      ],
      "text/plain": [
       "⎡30.0   70.0   110.0⎤\n",
       "⎢                   ⎥\n",
       "⎢70.0   174.0  278.0⎥\n",
       "⎢                   ⎥\n",
       "⎣110.0  278.0  446.0⎦"
      ]
     },
     "execution_count": 64,
     "metadata": {},
     "output_type": "execute_result"
    }
   ],
   "source": [
    "Matrix(np.round(np.dot(np.dot(Q,np.diag(L)),Q.T),12))"
   ]
  },
  {
   "cell_type": "markdown",
   "metadata": {},
   "source": [
    "<h4> Problem 10 </h4>"
   ]
  },
  {
   "cell_type": "code",
   "execution_count": 65,
   "metadata": {},
   "outputs": [
    {
     "data": {
      "text/latex": [
       "$$\\left[\\begin{matrix}-0.206735891257632 & 0.889153307703034 & 0.408248290463863\\\\-0.518288737899116 & 0.254381834061072 & -0.816496580927726\\\\-0.8298415845406 & -0.38038963958089 & 0.408248290463863\\end{matrix}\\right] \\left[\\begin{matrix}647.03260704469 & 0.0 & 0.0\\\\0.0 & 2.96739295530957 & 0.0\\\\0.0 & 0.0 & 2.01790290563207 \\cdot 10^{-16}\\end{matrix}\\right] \\left[\\begin{matrix}-0.206735891257632 & -0.518288737899116 & -0.8298415845406\\\\0.889153307703034 & 0.254381834061072 & -0.38038963958089\\\\0.408248290463863 & -0.816496580927726 & 0.408248290463863\\end{matrix}\\right]$$"
      ],
      "text/plain": [
       "⎡-0.206735891257632  0.889153307703034  0.408248290463863 ⎤ ⎡647.03260704469  \n",
       "⎢                                                         ⎥ ⎢                 \n",
       "⎢-0.518288737899116  0.254381834061072  -0.816496580927726⎥⋅⎢      0.0        \n",
       "⎢                                                         ⎥ ⎢                 \n",
       "⎣ -0.8298415845406   -0.38038963958089  0.408248290463863 ⎦ ⎣      0.0        \n",
       "\n",
       "      0.0                 0.0         ⎤ ⎡-0.206735891257632  -0.51828873789911\n",
       "                                      ⎥ ⎢                                     \n",
       "2.96739295530957          0.0         ⎥⋅⎢0.889153307703034   0.254381834061072\n",
       "                                      ⎥ ⎢                                     \n",
       "      0.0         2.01790290563207e-16⎦ ⎣0.408248290463863   -0.81649658092772\n",
       "\n",
       "6  -0.8298415845406 ⎤\n",
       "                    ⎥\n",
       "   -0.38038963958089⎥\n",
       "                    ⎥\n",
       "6  0.408248290463863⎦"
      ]
     },
     "execution_count": 65,
     "metadata": {},
     "output_type": "execute_result"
    }
   ],
   "source": [
    "U,S,V = np.linalg.svd(C,full_matrices=True)\n",
    "Mul(Matrix(U),Matrix(np.diag(S)),Matrix(V),evaluate=False)"
   ]
  },
  {
   "cell_type": "markdown",
   "metadata": {},
   "source": [
    "<h4> Problem 11 </h4>"
   ]
  },
  {
   "cell_type": "code",
   "execution_count": 66,
   "metadata": {},
   "outputs": [
    {
     "data": {
      "text/latex": [
       "$$\\left[\\begin{matrix}30.0 & 70.0 & 110.0\\\\70.0 & 174.0 & 278.0\\\\110.0 & 278.0 & 446.0\\end{matrix}\\right]$$"
      ],
      "text/plain": [
       "⎡30.0   70.0   110.0⎤\n",
       "⎢                   ⎥\n",
       "⎢70.0   174.0  278.0⎥\n",
       "⎢                   ⎥\n",
       "⎣110.0  278.0  446.0⎦"
      ]
     },
     "execution_count": 66,
     "metadata": {},
     "output_type": "execute_result"
    }
   ],
   "source": [
    "Matrix(np.round(np.dot(np.dot(U,np.diag(S)),V),12))"
   ]
  }
 ],
 "metadata": {
  "kernelspec": {
   "display_name": "Python 3",
   "language": "python",
   "name": "python3"
  },
  "language_info": {
   "codemirror_mode": {
    "name": "ipython",
    "version": 3
   },
   "file_extension": ".py",
   "mimetype": "text/x-python",
   "name": "python",
   "nbconvert_exporter": "python",
   "pygments_lexer": "ipython3",
   "version": "3.6.7"
  }
 },
 "nbformat": 4,
 "nbformat_minor": 2
}
